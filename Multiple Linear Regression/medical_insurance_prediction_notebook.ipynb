{
 "cells": [
  {
   "cell_type": "markdown",
   "metadata": {
    "colab_type": "text",
    "id": "M27qF7CTrBqc"
   },
   "source": [
    "# TASK #1: UNDERSTAND THE PROBLEM STATEMENT "
   ]
  },
  {
   "cell_type": "markdown",
   "metadata": {
    "colab_type": "text",
    "id": "xNl52nl3qiyL"
   },
   "source": [
    "\n",
    "- Aim of the problem is to find the health insurance cost incured by Individuals based on thier age, gender, BMI, number of children, smoking habit and geo-location.\n",
    "\n",
    "- Features available are:\n",
    "\n",
    "    - sex: insurance contractor gender, female, male\n",
    "\n",
    "    - bmi: Body mass index (ideally 18.5 to 24.9)\n",
    "\n",
    "    - children: Number of children covered by health insurance / Number of dependents\n",
    "\n",
    "    - smoker: smoking habits\n",
    "\n",
    "    - region: the beneficiary's residential area in the US, northeast, southeast, southwest, northwest.\n",
    "\n",
    "    - charges: Individual medical costs billed by health insurance\n",
    "\n",
    "\n",
    "Data Source:https://www.kaggle.com/mirichoi0218/insurance"
   ]
  },
  {
   "cell_type": "markdown",
   "metadata": {
    "colab_type": "text",
    "id": "zKmFmyaGunc7"
   },
   "source": [
    "# TASK #2: IMPORT LIBRARIES AND DATASETS"
   ]
  },
  {
   "cell_type": "markdown",
   "metadata": {},
   "source": [
    "TYPES OF AVAILABLE SAGEMAKER IMAGES \n",
    "- Data Science [datascience-1.0]: Data Science is a Conda image with the most commonly used Python packages and libraries, such as NumPy and SciKit Learn.\n",
    "- Base Python [python-3.6]\n",
    "- MXNet (optimized for CPU) [mxnet-1.6-cpu-py36]\n",
    "- MXNet (optimized for GPU) [mxnet-1.6-gpu-py36]\n",
    "- PyTorch (optimized for CPU) [pytorch-1.4-cpu-py36]\n",
    "- PyTorch (optimized for GPU) [pytorch-1.4-gpu-py36]\n",
    "- TensorFlow (optimized for CPU) [tensorflow-1.15-cpu-py36]\n",
    "- TensorFlow (optimized for GPU) [tensorflow-1.15-gpu-py36]\n",
    "- TensorFlow 2 (optimized for CPU) [tensorflow-2.1-cpu-py36]\n",
    "- TensorFlow 2 (optimized for GPU) [tensorflow-2.1-gpu-py36]"
   ]
  },
  {
   "cell_type": "code",
   "execution_count": 1,
   "metadata": {
    "colab": {
     "base_uri": "https://localhost:8080/",
     "height": 71
    },
    "colab_type": "code",
    "id": "S0Cx3743urFY",
    "outputId": "b820039b-7ccb-4a68-8206-77bae97680dc",
    "scrolled": true
   },
   "outputs": [],
   "source": [
    "import pandas as pd\n",
    "import numpy as np\n",
    "import seaborn as sns\n",
    "import matplotlib.pyplot as plt\n"
   ]
  },
  {
   "cell_type": "markdown",
   "metadata": {},
   "source": [
    "MINI CHALLENGE\n",
    "- Read the CSV file \"insurance.csv\" using pandas \n",
    "- Visualize the first and last 5 rows "
   ]
  },
  {
   "cell_type": "code",
   "execution_count": 7,
   "metadata": {
    "colab": {},
    "colab_type": "code",
    "id": "tjIiJdM4u1IE"
   },
   "outputs": [],
   "source": [
    "# read the csv file \n",
    "insurance_df = pd.read_csv('insurance.csv')"
   ]
  },
  {
   "cell_type": "code",
   "execution_count": 8,
   "metadata": {
    "colab": {
     "base_uri": "https://localhost:8080/",
     "height": 204
    },
    "colab_type": "code",
    "id": "q4_wPDKCu5Uc",
    "outputId": "886d2aaf-0205-4f46-96a7-629d0f367d2f"
   },
   "outputs": [
    {
     "data": {
      "text/html": [
       "<div>\n",
       "<style scoped>\n",
       "    .dataframe tbody tr th:only-of-type {\n",
       "        vertical-align: middle;\n",
       "    }\n",
       "\n",
       "    .dataframe tbody tr th {\n",
       "        vertical-align: top;\n",
       "    }\n",
       "\n",
       "    .dataframe thead th {\n",
       "        text-align: right;\n",
       "    }\n",
       "</style>\n",
       "<table border=\"1\" class=\"dataframe\">\n",
       "  <thead>\n",
       "    <tr style=\"text-align: right;\">\n",
       "      <th></th>\n",
       "      <th>age</th>\n",
       "      <th>sex</th>\n",
       "      <th>bmi</th>\n",
       "      <th>children</th>\n",
       "      <th>smoker</th>\n",
       "      <th>region</th>\n",
       "      <th>charges</th>\n",
       "    </tr>\n",
       "  </thead>\n",
       "  <tbody>\n",
       "    <tr>\n",
       "      <th>0</th>\n",
       "      <td>19</td>\n",
       "      <td>female</td>\n",
       "      <td>27.900</td>\n",
       "      <td>0</td>\n",
       "      <td>yes</td>\n",
       "      <td>southwest</td>\n",
       "      <td>16884.92400</td>\n",
       "    </tr>\n",
       "    <tr>\n",
       "      <th>1</th>\n",
       "      <td>18</td>\n",
       "      <td>male</td>\n",
       "      <td>33.770</td>\n",
       "      <td>1</td>\n",
       "      <td>no</td>\n",
       "      <td>southeast</td>\n",
       "      <td>1725.55230</td>\n",
       "    </tr>\n",
       "    <tr>\n",
       "      <th>2</th>\n",
       "      <td>28</td>\n",
       "      <td>male</td>\n",
       "      <td>33.000</td>\n",
       "      <td>3</td>\n",
       "      <td>no</td>\n",
       "      <td>southeast</td>\n",
       "      <td>4449.46200</td>\n",
       "    </tr>\n",
       "    <tr>\n",
       "      <th>3</th>\n",
       "      <td>33</td>\n",
       "      <td>male</td>\n",
       "      <td>22.705</td>\n",
       "      <td>0</td>\n",
       "      <td>no</td>\n",
       "      <td>northwest</td>\n",
       "      <td>21984.47061</td>\n",
       "    </tr>\n",
       "    <tr>\n",
       "      <th>4</th>\n",
       "      <td>32</td>\n",
       "      <td>male</td>\n",
       "      <td>28.880</td>\n",
       "      <td>0</td>\n",
       "      <td>no</td>\n",
       "      <td>northwest</td>\n",
       "      <td>3866.85520</td>\n",
       "    </tr>\n",
       "  </tbody>\n",
       "</table>\n",
       "</div>"
      ],
      "text/plain": [
       "   age     sex     bmi  children smoker     region      charges\n",
       "0   19  female  27.900         0    yes  southwest  16884.92400\n",
       "1   18    male  33.770         1     no  southeast   1725.55230\n",
       "2   28    male  33.000         3     no  southeast   4449.46200\n",
       "3   33    male  22.705         0     no  northwest  21984.47061\n",
       "4   32    male  28.880         0     no  northwest   3866.85520"
      ]
     },
     "execution_count": 8,
     "metadata": {},
     "output_type": "execute_result"
    }
   ],
   "source": [
    "insurance_df.head()"
   ]
  },
  {
   "cell_type": "markdown",
   "metadata": {
    "colab_type": "text",
    "id": "tMcr7xqMQre2"
   },
   "source": [
    "# TASK #3: PERFORM EXPLORATORY DATA ANALYSIS:"
   ]
  },
  {
   "cell_type": "code",
   "execution_count": 9,
   "metadata": {},
   "outputs": [
    {
     "data": {
      "text/plain": [
       "<matplotlib.axes._subplots.AxesSubplot at 0x7f92dc1200d0>"
      ]
     },
     "execution_count": 9,
     "metadata": {},
     "output_type": "execute_result"
    },
    {
     "data": {
      "image/png": "[encoded data removed]",
      "text/plain": [
       "<Figure size 432x288 with 1 Axes>"
      ]
     },
     "metadata": {
      "needs_background": "light"
     },
     "output_type": "display_data"
    }
   ],
   "source": [
    "# check if there are any Null values\n",
    "sns.heatmap(insurance_df.isnull(), yticklabels = False, cbar = False, cmap=\"Blues\")"
   ]
  },
  {
   "cell_type": "code",
   "execution_count": 10,
   "metadata": {
    "colab": {
     "base_uri": "https://localhost:8080/",
     "height": 170
    },
    "colab_type": "code",
    "id": "6JYkJo9pYaet",
    "outputId": "fcc89a98-b0a9-499d-acde-e480e78dccfc"
   },
   "outputs": [
    {
     "data": {
      "text/plain": [
       "age         0\n",
       "sex         0\n",
       "bmi         0\n",
       "children    0\n",
       "smoker      0\n",
       "region      0\n",
       "charges     0\n",
       "dtype: int64"
      ]
     },
     "execution_count": 10,
     "metadata": {},
     "output_type": "execute_result"
    }
   ],
   "source": [
    "# check if there are any Null values\n",
    "insurance_df.isnull().sum()"
   ]
  },
  {
   "cell_type": "code",
   "execution_count": 11,
   "metadata": {
    "colab": {
     "base_uri": "https://localhost:8080/",
     "height": 272
    },
    "colab_type": "code",
    "id": "hMq3-KWOx0e1",
    "outputId": "22a5b184-1f07-46ef-dfc1-f8377fd7042f",
    "scrolled": true
   },
   "outputs": [
    {
     "name": "stdout",
     "output_type": "stream",
     "text": [
      "<class 'pandas.core.frame.DataFrame'>\n",
      "RangeIndex: 1338 entries, 0 to 1337\n",
      "Data columns (total 7 columns):\n",
      " #   Column    Non-Null Count  Dtype  \n",
      "---  ------    --------------  -----  \n",
      " 0   age       1338 non-null   int64  \n",
      " 1   sex       1338 non-null   object \n",
      " 2   bmi       1338 non-null   float64\n",
      " 3   children  1338 non-null   int64  \n",
      " 4   smoker    1338 non-null   object \n",
      " 5   region    1338 non-null   object \n",
      " 6   charges   1338 non-null   float64\n",
      "dtypes: float64(2), int64(2), object(3)\n",
      "memory usage: 73.3+ KB\n"
     ]
    }
   ],
   "source": [
    "# Check the dataframe info\n",
    "\n",
    "insurance_df.info()"
   ]
  },
  {
   "cell_type": "code",
   "execution_count": 12,
   "metadata": {},
   "outputs": [
    {
     "data": {
      "text/html": [
       "<div>\n",
       "<style scoped>\n",
       "    .dataframe tbody tr th:only-of-type {\n",
       "        vertical-align: middle;\n",
       "    }\n",
       "\n",
       "    .dataframe tbody tr th {\n",
       "        vertical-align: top;\n",
       "    }\n",
       "\n",
       "    .dataframe thead th {\n",
       "        text-align: right;\n",
       "    }\n",
       "</style>\n",
       "<table border=\"1\" class=\"dataframe\">\n",
       "  <thead>\n",
       "    <tr style=\"text-align: right;\">\n",
       "      <th></th>\n",
       "      <th>age</th>\n",
       "      <th>bmi</th>\n",
       "      <th>children</th>\n",
       "      <th>charges</th>\n",
       "    </tr>\n",
       "    <tr>\n",
       "      <th>region</th>\n",
       "      <th></th>\n",
       "      <th></th>\n",
       "      <th></th>\n",
       "      <th></th>\n",
       "    </tr>\n",
       "  </thead>\n",
       "  <tbody>\n",
       "    <tr>\n",
       "      <th>northeast</th>\n",
       "      <td>39.268519</td>\n",
       "      <td>29.173503</td>\n",
       "      <td>1.046296</td>\n",
       "      <td>13406.384516</td>\n",
       "    </tr>\n",
       "    <tr>\n",
       "      <th>northwest</th>\n",
       "      <td>39.196923</td>\n",
       "      <td>29.199785</td>\n",
       "      <td>1.147692</td>\n",
       "      <td>12417.575374</td>\n",
       "    </tr>\n",
       "    <tr>\n",
       "      <th>southeast</th>\n",
       "      <td>38.939560</td>\n",
       "      <td>33.355989</td>\n",
       "      <td>1.049451</td>\n",
       "      <td>14735.411438</td>\n",
       "    </tr>\n",
       "    <tr>\n",
       "      <th>southwest</th>\n",
       "      <td>39.455385</td>\n",
       "      <td>30.596615</td>\n",
       "      <td>1.141538</td>\n",
       "      <td>12346.937377</td>\n",
       "    </tr>\n",
       "  </tbody>\n",
       "</table>\n",
       "</div>"
      ],
      "text/plain": [
       "                 age        bmi  children       charges\n",
       "region                                                 \n",
       "northeast  39.268519  29.173503  1.046296  13406.384516\n",
       "northwest  39.196923  29.199785  1.147692  12417.575374\n",
       "southeast  38.939560  33.355989  1.049451  14735.411438\n",
       "southwest  39.455385  30.596615  1.141538  12346.937377"
      ]
     },
     "execution_count": 12,
     "metadata": {},
     "output_type": "execute_result"
    }
   ],
   "source": [
    "# Grouping by region to see any relationship between region and charges\n",
    "# Seems like south east region has the highest charges and body mass index\n",
    "df_region = insurance_df.groupby(by='region').mean()\n",
    "df_region"
   ]
  },
  {
   "cell_type": "markdown",
   "metadata": {},
   "source": [
    "MINI CHALLENGE\n",
    "- Group data by 'age' and examine the relationship between 'age' and 'charges'\n"
   ]
  },
  {
   "cell_type": "code",
   "execution_count": 29,
   "metadata": {},
   "outputs": [
    {
     "data": {
      "text/plain": [
       "<seaborn.axisgrid.FacetGrid at 0x7f92d89eef90>"
      ]
     },
     "execution_count": 29,
     "metadata": {},
     "output_type": "execute_result"
    },
    {
     "data": {
      "image/png": "[encoded data removed]",
      "text/plain": [
       "<Figure size 360x360 with 1 Axes>"
      ]
     },
     "metadata": {
      "needs_background": "light"
     },
     "output_type": "display_data"
    }
   ],
   "source": [
    "df_age = insurance_df.groupby(by='age').mean().reset_index()\n",
    "sns.relplot(x='age',y='charges', data=df_age, kind='line')"
   ]
  },
  {
   "cell_type": "code",
   "execution_count": 30,
   "metadata": {},
   "outputs": [
    {
     "data": {
      "text/plain": [
       "array(['female', 'male'], dtype=object)"
      ]
     },
     "execution_count": 30,
     "metadata": {},
     "output_type": "execute_result"
    }
   ],
   "source": [
    "# Check unique values in the 'sex' column\n",
    "insurance_df['sex'].unique()"
   ]
  },
  {
   "cell_type": "code",
   "execution_count": 31,
   "metadata": {},
   "outputs": [],
   "source": [
    "# convert categorical variable to numerical\n",
    "\n",
    "insurance_df['sex'] = insurance_df['sex'].apply(lambda x: 0 if x == 'female' else 1)"
   ]
  },
  {
   "cell_type": "code",
   "execution_count": 32,
   "metadata": {},
   "outputs": [
    {
     "data": {
      "text/html": [
       "<div>\n",
       "<style scoped>\n",
       "    .dataframe tbody tr th:only-of-type {\n",
       "        vertical-align: middle;\n",
       "    }\n",
       "\n",
       "    .dataframe tbody tr th {\n",
       "        vertical-align: top;\n",
       "    }\n",
       "\n",
       "    .dataframe thead th {\n",
       "        text-align: right;\n",
       "    }\n",
       "</style>\n",
       "<table border=\"1\" class=\"dataframe\">\n",
       "  <thead>\n",
       "    <tr style=\"text-align: right;\">\n",
       "      <th></th>\n",
       "      <th>age</th>\n",
       "      <th>sex</th>\n",
       "      <th>bmi</th>\n",
       "      <th>children</th>\n",
       "      <th>smoker</th>\n",
       "      <th>region</th>\n",
       "      <th>charges</th>\n",
       "    </tr>\n",
       "  </thead>\n",
       "  <tbody>\n",
       "    <tr>\n",
       "      <th>0</th>\n",
       "      <td>19</td>\n",
       "      <td>0</td>\n",
       "      <td>27.900</td>\n",
       "      <td>0</td>\n",
       "      <td>yes</td>\n",
       "      <td>southwest</td>\n",
       "      <td>16884.92400</td>\n",
       "    </tr>\n",
       "    <tr>\n",
       "      <th>1</th>\n",
       "      <td>18</td>\n",
       "      <td>1</td>\n",
       "      <td>33.770</td>\n",
       "      <td>1</td>\n",
       "      <td>no</td>\n",
       "      <td>southeast</td>\n",
       "      <td>1725.55230</td>\n",
       "    </tr>\n",
       "    <tr>\n",
       "      <th>2</th>\n",
       "      <td>28</td>\n",
       "      <td>1</td>\n",
       "      <td>33.000</td>\n",
       "      <td>3</td>\n",
       "      <td>no</td>\n",
       "      <td>southeast</td>\n",
       "      <td>4449.46200</td>\n",
       "    </tr>\n",
       "    <tr>\n",
       "      <th>3</th>\n",
       "      <td>33</td>\n",
       "      <td>1</td>\n",
       "      <td>22.705</td>\n",
       "      <td>0</td>\n",
       "      <td>no</td>\n",
       "      <td>northwest</td>\n",
       "      <td>21984.47061</td>\n",
       "    </tr>\n",
       "    <tr>\n",
       "      <th>4</th>\n",
       "      <td>32</td>\n",
       "      <td>1</td>\n",
       "      <td>28.880</td>\n",
       "      <td>0</td>\n",
       "      <td>no</td>\n",
       "      <td>northwest</td>\n",
       "      <td>3866.85520</td>\n",
       "    </tr>\n",
       "  </tbody>\n",
       "</table>\n",
       "</div>"
      ],
      "text/plain": [
       "   age  sex     bmi  children smoker     region      charges\n",
       "0   19    0  27.900         0    yes  southwest  16884.92400\n",
       "1   18    1  33.770         1     no  southeast   1725.55230\n",
       "2   28    1  33.000         3     no  southeast   4449.46200\n",
       "3   33    1  22.705         0     no  northwest  21984.47061\n",
       "4   32    1  28.880         0     no  northwest   3866.85520"
      ]
     },
     "execution_count": 32,
     "metadata": {},
     "output_type": "execute_result"
    }
   ],
   "source": [
    "insurance_df.head()"
   ]
  },
  {
   "cell_type": "code",
   "execution_count": 33,
   "metadata": {},
   "outputs": [
    {
     "data": {
      "text/plain": [
       "array(['yes', 'no'], dtype=object)"
      ]
     },
     "execution_count": 33,
     "metadata": {},
     "output_type": "execute_result"
    }
   ],
   "source": [
    "# Check the unique values in the 'smoker' column\n",
    "insurance_df['smoker'].unique()"
   ]
  },
  {
   "cell_type": "code",
   "execution_count": 34,
   "metadata": {},
   "outputs": [],
   "source": [
    "# Convert categorical variable to numerical \n",
    "\n",
    "insurance_df['smoker'] = insurance_df['smoker'].apply(lambda x: 0 if x == 'no' else 1)"
   ]
  },
  {
   "cell_type": "code",
   "execution_count": 35,
   "metadata": {},
   "outputs": [
    {
     "data": {
      "text/html": [
       "<div>\n",
       "<style scoped>\n",
       "    .dataframe tbody tr th:only-of-type {\n",
       "        vertical-align: middle;\n",
       "    }\n",
       "\n",
       "    .dataframe tbody tr th {\n",
       "        vertical-align: top;\n",
       "    }\n",
       "\n",
       "    .dataframe thead th {\n",
       "        text-align: right;\n",
       "    }\n",
       "</style>\n",
       "<table border=\"1\" class=\"dataframe\">\n",
       "  <thead>\n",
       "    <tr style=\"text-align: right;\">\n",
       "      <th></th>\n",
       "      <th>age</th>\n",
       "      <th>sex</th>\n",
       "      <th>bmi</th>\n",
       "      <th>children</th>\n",
       "      <th>smoker</th>\n",
       "      <th>region</th>\n",
       "      <th>charges</th>\n",
       "    </tr>\n",
       "  </thead>\n",
       "  <tbody>\n",
       "    <tr>\n",
       "      <th>0</th>\n",
       "      <td>19</td>\n",
       "      <td>0</td>\n",
       "      <td>27.900</td>\n",
       "      <td>0</td>\n",
       "      <td>1</td>\n",
       "      <td>southwest</td>\n",
       "      <td>16884.92400</td>\n",
       "    </tr>\n",
       "    <tr>\n",
       "      <th>1</th>\n",
       "      <td>18</td>\n",
       "      <td>1</td>\n",
       "      <td>33.770</td>\n",
       "      <td>1</td>\n",
       "      <td>0</td>\n",
       "      <td>southeast</td>\n",
       "      <td>1725.55230</td>\n",
       "    </tr>\n",
       "    <tr>\n",
       "      <th>2</th>\n",
       "      <td>28</td>\n",
       "      <td>1</td>\n",
       "      <td>33.000</td>\n",
       "      <td>3</td>\n",
       "      <td>0</td>\n",
       "      <td>southeast</td>\n",
       "      <td>4449.46200</td>\n",
       "    </tr>\n",
       "    <tr>\n",
       "      <th>3</th>\n",
       "      <td>33</td>\n",
       "      <td>1</td>\n",
       "      <td>22.705</td>\n",
       "      <td>0</td>\n",
       "      <td>0</td>\n",
       "      <td>northwest</td>\n",
       "      <td>21984.47061</td>\n",
       "    </tr>\n",
       "    <tr>\n",
       "      <th>4</th>\n",
       "      <td>32</td>\n",
       "      <td>1</td>\n",
       "      <td>28.880</td>\n",
       "      <td>0</td>\n",
       "      <td>0</td>\n",
       "      <td>northwest</td>\n",
       "      <td>3866.85520</td>\n",
       "    </tr>\n",
       "  </tbody>\n",
       "</table>\n",
       "</div>"
      ],
      "text/plain": [
       "   age  sex     bmi  children  smoker     region      charges\n",
       "0   19    0  27.900         0       1  southwest  16884.92400\n",
       "1   18    1  33.770         1       0  southeast   1725.55230\n",
       "2   28    1  33.000         3       0  southeast   4449.46200\n",
       "3   33    1  22.705         0       0  northwest  21984.47061\n",
       "4   32    1  28.880         0       0  northwest   3866.85520"
      ]
     },
     "execution_count": 35,
     "metadata": {},
     "output_type": "execute_result"
    }
   ],
   "source": [
    "insurance_df.head()"
   ]
  },
  {
   "cell_type": "code",
   "execution_count": 36,
   "metadata": {},
   "outputs": [
    {
     "data": {
      "text/plain": [
       "array(['southwest', 'southeast', 'northwest', 'northeast'], dtype=object)"
      ]
     },
     "execution_count": 36,
     "metadata": {},
     "output_type": "execute_result"
    }
   ],
   "source": [
    "# Check unique values in 'region' column\n",
    "insurance_df['region'].unique()"
   ]
  },
  {
   "cell_type": "code",
   "execution_count": 37,
   "metadata": {},
   "outputs": [],
   "source": [
    "region_dummies = pd.get_dummies(insurance_df['region'], drop_first = True)"
   ]
  },
  {
   "cell_type": "code",
   "execution_count": 38,
   "metadata": {},
   "outputs": [
    {
     "data": {
      "text/html": [
       "<div>\n",
       "<style scoped>\n",
       "    .dataframe tbody tr th:only-of-type {\n",
       "        vertical-align: middle;\n",
       "    }\n",
       "\n",
       "    .dataframe tbody tr th {\n",
       "        vertical-align: top;\n",
       "    }\n",
       "\n",
       "    .dataframe thead th {\n",
       "        text-align: right;\n",
       "    }\n",
       "</style>\n",
       "<table border=\"1\" class=\"dataframe\">\n",
       "  <thead>\n",
       "    <tr style=\"text-align: right;\">\n",
       "      <th></th>\n",
       "      <th>northwest</th>\n",
       "      <th>southeast</th>\n",
       "      <th>southwest</th>\n",
       "    </tr>\n",
       "  </thead>\n",
       "  <tbody>\n",
       "    <tr>\n",
       "      <th>0</th>\n",
       "      <td>0</td>\n",
       "      <td>0</td>\n",
       "      <td>1</td>\n",
       "    </tr>\n",
       "    <tr>\n",
       "      <th>1</th>\n",
       "      <td>0</td>\n",
       "      <td>1</td>\n",
       "      <td>0</td>\n",
       "    </tr>\n",
       "    <tr>\n",
       "      <th>2</th>\n",
       "      <td>0</td>\n",
       "      <td>1</td>\n",
       "      <td>0</td>\n",
       "    </tr>\n",
       "    <tr>\n",
       "      <th>3</th>\n",
       "      <td>1</td>\n",
       "      <td>0</td>\n",
       "      <td>0</td>\n",
       "    </tr>\n",
       "    <tr>\n",
       "      <th>4</th>\n",
       "      <td>1</td>\n",
       "      <td>0</td>\n",
       "      <td>0</td>\n",
       "    </tr>\n",
       "    <tr>\n",
       "      <th>...</th>\n",
       "      <td>...</td>\n",
       "      <td>...</td>\n",
       "      <td>...</td>\n",
       "    </tr>\n",
       "    <tr>\n",
       "      <th>1333</th>\n",
       "      <td>1</td>\n",
       "      <td>0</td>\n",
       "      <td>0</td>\n",
       "    </tr>\n",
       "    <tr>\n",
       "      <th>1334</th>\n",
       "      <td>0</td>\n",
       "      <td>0</td>\n",
       "      <td>0</td>\n",
       "    </tr>\n",
       "    <tr>\n",
       "      <th>1335</th>\n",
       "      <td>0</td>\n",
       "      <td>1</td>\n",
       "      <td>0</td>\n",
       "    </tr>\n",
       "    <tr>\n",
       "      <th>1336</th>\n",
       "      <td>0</td>\n",
       "      <td>0</td>\n",
       "      <td>1</td>\n",
       "    </tr>\n",
       "    <tr>\n",
       "      <th>1337</th>\n",
       "      <td>1</td>\n",
       "      <td>0</td>\n",
       "      <td>0</td>\n",
       "    </tr>\n",
       "  </tbody>\n",
       "</table>\n",
       "<p>1338 rows × 3 columns</p>\n",
       "</div>"
      ],
      "text/plain": [
       "      northwest  southeast  southwest\n",
       "0             0          0          1\n",
       "1             0          1          0\n",
       "2             0          1          0\n",
       "3             1          0          0\n",
       "4             1          0          0\n",
       "...         ...        ...        ...\n",
       "1333          1          0          0\n",
       "1334          0          0          0\n",
       "1335          0          1          0\n",
       "1336          0          0          1\n",
       "1337          1          0          0\n",
       "\n",
       "[1338 rows x 3 columns]"
      ]
     },
     "execution_count": 38,
     "metadata": {},
     "output_type": "execute_result"
    }
   ],
   "source": [
    "region_dummies"
   ]
  },
  {
   "cell_type": "code",
   "execution_count": 39,
   "metadata": {},
   "outputs": [],
   "source": [
    "insurance_df = pd.concat([insurance_df, region_dummies], axis = 1)"
   ]
  },
  {
   "cell_type": "code",
   "execution_count": 40,
   "metadata": {},
   "outputs": [
    {
     "data": {
      "text/html": [
       "<div>\n",
       "<style scoped>\n",
       "    .dataframe tbody tr th:only-of-type {\n",
       "        vertical-align: middle;\n",
       "    }\n",
       "\n",
       "    .dataframe tbody tr th {\n",
       "        vertical-align: top;\n",
       "    }\n",
       "\n",
       "    .dataframe thead th {\n",
       "        text-align: right;\n",
       "    }\n",
       "</style>\n",
       "<table border=\"1\" class=\"dataframe\">\n",
       "  <thead>\n",
       "    <tr style=\"text-align: right;\">\n",
       "      <th></th>\n",
       "      <th>age</th>\n",
       "      <th>sex</th>\n",
       "      <th>bmi</th>\n",
       "      <th>children</th>\n",
       "      <th>smoker</th>\n",
       "      <th>region</th>\n",
       "      <th>charges</th>\n",
       "      <th>northwest</th>\n",
       "      <th>southeast</th>\n",
       "      <th>southwest</th>\n",
       "    </tr>\n",
       "  </thead>\n",
       "  <tbody>\n",
       "    <tr>\n",
       "      <th>0</th>\n",
       "      <td>19</td>\n",
       "      <td>0</td>\n",
       "      <td>27.900</td>\n",
       "      <td>0</td>\n",
       "      <td>1</td>\n",
       "      <td>southwest</td>\n",
       "      <td>16884.92400</td>\n",
       "      <td>0</td>\n",
       "      <td>0</td>\n",
       "      <td>1</td>\n",
       "    </tr>\n",
       "    <tr>\n",
       "      <th>1</th>\n",
       "      <td>18</td>\n",
       "      <td>1</td>\n",
       "      <td>33.770</td>\n",
       "      <td>1</td>\n",
       "      <td>0</td>\n",
       "      <td>southeast</td>\n",
       "      <td>1725.55230</td>\n",
       "      <td>0</td>\n",
       "      <td>1</td>\n",
       "      <td>0</td>\n",
       "    </tr>\n",
       "    <tr>\n",
       "      <th>2</th>\n",
       "      <td>28</td>\n",
       "      <td>1</td>\n",
       "      <td>33.000</td>\n",
       "      <td>3</td>\n",
       "      <td>0</td>\n",
       "      <td>southeast</td>\n",
       "      <td>4449.46200</td>\n",
       "      <td>0</td>\n",
       "      <td>1</td>\n",
       "      <td>0</td>\n",
       "    </tr>\n",
       "    <tr>\n",
       "      <th>3</th>\n",
       "      <td>33</td>\n",
       "      <td>1</td>\n",
       "      <td>22.705</td>\n",
       "      <td>0</td>\n",
       "      <td>0</td>\n",
       "      <td>northwest</td>\n",
       "      <td>21984.47061</td>\n",
       "      <td>1</td>\n",
       "      <td>0</td>\n",
       "      <td>0</td>\n",
       "    </tr>\n",
       "    <tr>\n",
       "      <th>4</th>\n",
       "      <td>32</td>\n",
       "      <td>1</td>\n",
       "      <td>28.880</td>\n",
       "      <td>0</td>\n",
       "      <td>0</td>\n",
       "      <td>northwest</td>\n",
       "      <td>3866.85520</td>\n",
       "      <td>1</td>\n",
       "      <td>0</td>\n",
       "      <td>0</td>\n",
       "    </tr>\n",
       "  </tbody>\n",
       "</table>\n",
       "</div>"
      ],
      "text/plain": [
       "   age  sex     bmi  children  smoker     region      charges  northwest  \\\n",
       "0   19    0  27.900         0       1  southwest  16884.92400          0   \n",
       "1   18    1  33.770         1       0  southeast   1725.55230          0   \n",
       "2   28    1  33.000         3       0  southeast   4449.46200          0   \n",
       "3   33    1  22.705         0       0  northwest  21984.47061          1   \n",
       "4   32    1  28.880         0       0  northwest   3866.85520          1   \n",
       "\n",
       "   southeast  southwest  \n",
       "0          0          1  \n",
       "1          1          0  \n",
       "2          1          0  \n",
       "3          0          0  \n",
       "4          0          0  "
      ]
     },
     "execution_count": 40,
     "metadata": {},
     "output_type": "execute_result"
    }
   ],
   "source": [
    "insurance_df.head()"
   ]
  },
  {
   "cell_type": "code",
   "execution_count": 41,
   "metadata": {},
   "outputs": [],
   "source": [
    "# Let's drop the original 'region' column \n",
    "insurance_df.drop(['region'], axis = 1, inplace = True)"
   ]
  },
  {
   "cell_type": "code",
   "execution_count": 42,
   "metadata": {},
   "outputs": [
    {
     "data": {
      "text/html": [
       "<div>\n",
       "<style scoped>\n",
       "    .dataframe tbody tr th:only-of-type {\n",
       "        vertical-align: middle;\n",
       "    }\n",
       "\n",
       "    .dataframe tbody tr th {\n",
       "        vertical-align: top;\n",
       "    }\n",
       "\n",
       "    .dataframe thead th {\n",
       "        text-align: right;\n",
       "    }\n",
       "</style>\n",
       "<table border=\"1\" class=\"dataframe\">\n",
       "  <thead>\n",
       "    <tr style=\"text-align: right;\">\n",
       "      <th></th>\n",
       "      <th>age</th>\n",
       "      <th>sex</th>\n",
       "      <th>bmi</th>\n",
       "      <th>children</th>\n",
       "      <th>smoker</th>\n",
       "      <th>charges</th>\n",
       "      <th>northwest</th>\n",
       "      <th>southeast</th>\n",
       "      <th>southwest</th>\n",
       "    </tr>\n",
       "  </thead>\n",
       "  <tbody>\n",
       "    <tr>\n",
       "      <th>0</th>\n",
       "      <td>19</td>\n",
       "      <td>0</td>\n",
       "      <td>27.900</td>\n",
       "      <td>0</td>\n",
       "      <td>1</td>\n",
       "      <td>16884.92400</td>\n",
       "      <td>0</td>\n",
       "      <td>0</td>\n",
       "      <td>1</td>\n",
       "    </tr>\n",
       "    <tr>\n",
       "      <th>1</th>\n",
       "      <td>18</td>\n",
       "      <td>1</td>\n",
       "      <td>33.770</td>\n",
       "      <td>1</td>\n",
       "      <td>0</td>\n",
       "      <td>1725.55230</td>\n",
       "      <td>0</td>\n",
       "      <td>1</td>\n",
       "      <td>0</td>\n",
       "    </tr>\n",
       "    <tr>\n",
       "      <th>2</th>\n",
       "      <td>28</td>\n",
       "      <td>1</td>\n",
       "      <td>33.000</td>\n",
       "      <td>3</td>\n",
       "      <td>0</td>\n",
       "      <td>4449.46200</td>\n",
       "      <td>0</td>\n",
       "      <td>1</td>\n",
       "      <td>0</td>\n",
       "    </tr>\n",
       "    <tr>\n",
       "      <th>3</th>\n",
       "      <td>33</td>\n",
       "      <td>1</td>\n",
       "      <td>22.705</td>\n",
       "      <td>0</td>\n",
       "      <td>0</td>\n",
       "      <td>21984.47061</td>\n",
       "      <td>1</td>\n",
       "      <td>0</td>\n",
       "      <td>0</td>\n",
       "    </tr>\n",
       "    <tr>\n",
       "      <th>4</th>\n",
       "      <td>32</td>\n",
       "      <td>1</td>\n",
       "      <td>28.880</td>\n",
       "      <td>0</td>\n",
       "      <td>0</td>\n",
       "      <td>3866.85520</td>\n",
       "      <td>1</td>\n",
       "      <td>0</td>\n",
       "      <td>0</td>\n",
       "    </tr>\n",
       "  </tbody>\n",
       "</table>\n",
       "</div>"
      ],
      "text/plain": [
       "   age  sex     bmi  children  smoker      charges  northwest  southeast  \\\n",
       "0   19    0  27.900         0       1  16884.92400          0          0   \n",
       "1   18    1  33.770         1       0   1725.55230          0          1   \n",
       "2   28    1  33.000         3       0   4449.46200          0          1   \n",
       "3   33    1  22.705         0       0  21984.47061          1          0   \n",
       "4   32    1  28.880         0       0   3866.85520          1          0   \n",
       "\n",
       "   southwest  \n",
       "0          1  \n",
       "1          0  \n",
       "2          0  \n",
       "3          0  \n",
       "4          0  "
      ]
     },
     "execution_count": 42,
     "metadata": {},
     "output_type": "execute_result"
    }
   ],
   "source": [
    "insurance_df.head()"
   ]
  },
  {
   "cell_type": "markdown",
   "metadata": {},
   "source": [
    "MINI CHALLENGE\n",
    "- Calculate the mean and standard deviation of the age, charges and bmi"
   ]
  },
  {
   "cell_type": "code",
   "execution_count": 47,
   "metadata": {
    "colab": {
     "base_uri": "https://localhost:8080/",
     "height": 297
    },
    "colab_type": "code",
    "id": "Nn1Oxk2SzPX3",
    "outputId": "95f0265a-5e75-4a32-d771-4b3d15850c3c"
   },
   "outputs": [
    {
     "data": {
      "text/html": [
       "<div>\n",
       "<style scoped>\n",
       "    .dataframe tbody tr th:only-of-type {\n",
       "        vertical-align: middle;\n",
       "    }\n",
       "\n",
       "    .dataframe tbody tr th {\n",
       "        vertical-align: top;\n",
       "    }\n",
       "\n",
       "    .dataframe thead th {\n",
       "        text-align: right;\n",
       "    }\n",
       "</style>\n",
       "<table border=\"1\" class=\"dataframe\">\n",
       "  <thead>\n",
       "    <tr style=\"text-align: right;\">\n",
       "      <th></th>\n",
       "      <th>age</th>\n",
       "      <th>charges</th>\n",
       "      <th>bmi</th>\n",
       "    </tr>\n",
       "  </thead>\n",
       "  <tbody>\n",
       "    <tr>\n",
       "      <th>count</th>\n",
       "      <td>1338.000000</td>\n",
       "      <td>1338.000000</td>\n",
       "      <td>1338.000000</td>\n",
       "    </tr>\n",
       "    <tr>\n",
       "      <th>mean</th>\n",
       "      <td>39.207025</td>\n",
       "      <td>13270.422265</td>\n",
       "      <td>30.663397</td>\n",
       "    </tr>\n",
       "    <tr>\n",
       "      <th>std</th>\n",
       "      <td>14.049960</td>\n",
       "      <td>12110.011237</td>\n",
       "      <td>6.098187</td>\n",
       "    </tr>\n",
       "    <tr>\n",
       "      <th>min</th>\n",
       "      <td>18.000000</td>\n",
       "      <td>1121.873900</td>\n",
       "      <td>15.960000</td>\n",
       "    </tr>\n",
       "    <tr>\n",
       "      <th>25%</th>\n",
       "      <td>27.000000</td>\n",
       "      <td>4740.287150</td>\n",
       "      <td>26.296250</td>\n",
       "    </tr>\n",
       "    <tr>\n",
       "      <th>50%</th>\n",
       "      <td>39.000000</td>\n",
       "      <td>9382.033000</td>\n",
       "      <td>30.400000</td>\n",
       "    </tr>\n",
       "    <tr>\n",
       "      <th>75%</th>\n",
       "      <td>51.000000</td>\n",
       "      <td>16639.912515</td>\n",
       "      <td>34.693750</td>\n",
       "    </tr>\n",
       "    <tr>\n",
       "      <th>max</th>\n",
       "      <td>64.000000</td>\n",
       "      <td>63770.428010</td>\n",
       "      <td>53.130000</td>\n",
       "    </tr>\n",
       "  </tbody>\n",
       "</table>\n",
       "</div>"
      ],
      "text/plain": [
       "               age       charges          bmi\n",
       "count  1338.000000   1338.000000  1338.000000\n",
       "mean     39.207025  13270.422265    30.663397\n",
       "std      14.049960  12110.011237     6.098187\n",
       "min      18.000000   1121.873900    15.960000\n",
       "25%      27.000000   4740.287150    26.296250\n",
       "50%      39.000000   9382.033000    30.400000\n",
       "75%      51.000000  16639.912515    34.693750\n",
       "max      64.000000  63770.428010    53.130000"
      ]
     },
     "execution_count": 47,
     "metadata": {},
     "output_type": "execute_result"
    }
   ],
   "source": [
    "insurance_df[['age','charges','bmi']].describe()"
   ]
  },
  {
   "cell_type": "markdown",
   "metadata": {
    "colab_type": "text",
    "id": "Y0GmpAjG3GiH"
   },
   "source": [
    "# TASK #4: VISUALIZE DATASET"
   ]
  },
  {
   "cell_type": "code",
   "execution_count": 48,
   "metadata": {},
   "outputs": [
    {
     "data": {
      "text/plain": [
       "array([[<matplotlib.axes._subplots.AxesSubplot object at 0x7f92d8d7bad0>,\n",
       "        <matplotlib.axes._subplots.AxesSubplot object at 0x7f92d9c0f050>],\n",
       "       [<matplotlib.axes._subplots.AxesSubplot object at 0x7f92d9be82d0>,\n",
       "        <matplotlib.axes._subplots.AxesSubplot object at 0x7f92d8cec710>],\n",
       "       [<matplotlib.axes._subplots.AxesSubplot object at 0x7f92d8d2a8d0>,\n",
       "        <matplotlib.axes._subplots.AxesSubplot object at 0x7f92d8d3ce10>]],\n",
       "      dtype=object)"
      ]
     },
     "execution_count": 48,
     "metadata": {},
     "output_type": "execute_result"
    },
    {
     "data": {
      "image/png": "[encoded data removed]",
      "text/plain": [
       "<Figure size 1440x1440 with 6 Axes>"
      ]
     },
     "metadata": {
      "needs_background": "light"
     },
     "output_type": "display_data"
    }
   ],
   "source": [
    "insurance_df[['age', 'sex', 'bmi', 'children', 'smoker', 'charges']].hist(bins = 30, figsize = (20,20), color = 'r')"
   ]
  },
  {
   "cell_type": "code",
   "execution_count": 49,
   "metadata": {
    "colab": {
     "base_uri": "https://localhost:8080/",
     "height": 1000
    },
    "colab_type": "code",
    "id": "Ka9uFRXSkWHw",
    "outputId": "f42a681e-93d4-4b1f-a29c-f58fc8a6f974"
   },
   "outputs": [
    {
     "data": {
      "text/plain": [
       "<seaborn.axisgrid.PairGrid at 0x7f92d813ff50>"
      ]
     },
     "execution_count": 49,
     "metadata": {},
     "output_type": "execute_result"
    },
    {
     "data": {
      "image/png": "[encoded data removed]",
      "text/plain": [
       "<Figure size 1620x1620 with 90 Axes>"
      ]
     },
     "metadata": {
      "needs_background": "light"
     },
     "output_type": "display_data"
    }
   ],
   "source": [
    "# plot pairplot\n",
    "\n",
    "sns.pairplot(insurance_df)"
   ]
  },
  {
   "cell_type": "code",
   "execution_count": 50,
   "metadata": {
    "colab": {
     "base_uri": "https://localhost:8080/",
     "height": 1000
    },
    "colab_type": "code",
    "id": "1OiGun0tvU7W",
    "outputId": "22204cf6-1a4d-46c7-af61-a27511873584"
   },
   "outputs": [
    {
     "data": {
      "image/png": "[encoded data removed]",
      "text/plain": [
       "<Figure size 432x288 with 1 Axes>"
      ]
     },
     "metadata": {
      "needs_background": "light"
     },
     "output_type": "display_data"
    }
   ],
   "source": [
    "sns.regplot(x = 'age', y = 'charges', data = insurance_df)\n",
    "plt.show()\n",
    "  "
   ]
  },
  {
   "cell_type": "markdown",
   "metadata": {},
   "source": [
    "MINI CHALLENGE\n",
    "- Obtain the regplot between bmi and charges\n"
   ]
  },
  {
   "cell_type": "code",
   "execution_count": 51,
   "metadata": {},
   "outputs": [
    {
     "data": {
      "text/plain": [
       "<matplotlib.axes._subplots.AxesSubplot at 0x7f92cf678750>"
      ]
     },
     "execution_count": 51,
     "metadata": {},
     "output_type": "execute_result"
    },
    {
     "data": {
      "image/png": "[encoded data removed]",
      "text/plain": [
       "<Figure size 432x288 with 1 Axes>"
      ]
     },
     "metadata": {
      "needs_background": "light"
     },
     "output_type": "display_data"
    }
   ],
   "source": [
    "sns.regplot(x='bmi',y='charges',data=insurance_df)"
   ]
  },
  {
   "cell_type": "markdown",
   "metadata": {},
   "source": [
    "MINI CHALLENGE\n",
    " - Calculate and plot the correlation matrix\n",
    " - Which feature has the most positive correlation with charges?"
   ]
  },
  {
   "cell_type": "code",
   "execution_count": 61,
   "metadata": {
    "colab": {
     "base_uri": "https://localhost:8080/",
     "height": 297
    },
    "colab_type": "code",
    "id": "9q-tFxvskWDa",
    "outputId": "8834e9ec-7676-4e86-c5e7-20f4e9eccbcb"
   },
   "outputs": [
    {
     "data": {
      "text/plain": [
       "<matplotlib.axes._subplots.AxesSubplot at 0x7f92cee08fd0>"
      ]
     },
     "execution_count": 61,
     "metadata": {},
     "output_type": "execute_result"
    },
    {
     "data": {
      "image/png": "[encoded data removed]",
      "text/plain": [
       "<Figure size 864x432 with 2 Axes>"
      ]
     },
     "metadata": {
      "needs_background": "light"
     },
     "output_type": "display_data"
    }
   ],
   "source": [
    "plt.figure(figsize=(12,6))\n",
    "sns.heatmap(insurance_df.corr(), cmap='RdYlGn', annot=True)"
   ]
  },
  {
   "cell_type": "code",
   "execution_count": null,
   "metadata": {
    "colab": {
     "base_uri": "https://localhost:8080/",
     "height": 932
    },
    "colab_type": "code",
    "id": "clmblKfur8rm",
    "outputId": "760b0882-8993-4aed-9c38-866ef8a7c6cd"
   },
   "outputs": [],
   "source": [
    "\n",
    "# smoker and age have positive correlations with charges"
   ]
  },
  {
   "cell_type": "markdown",
   "metadata": {
    "colab_type": "text",
    "id": "53qDZFRn3-S1"
   },
   "source": [
    "# TASK #5: CREATE TRAINING AND TESTING DATASET"
   ]
  },
  {
   "cell_type": "code",
   "execution_count": 62,
   "metadata": {
    "colab": {
     "base_uri": "https://localhost:8080/",
     "height": 68
    },
    "colab_type": "code",
    "id": "8QQTkOBL1yUR",
    "outputId": "e79771c7-a34d-430f-db8a-fa4c1253af78"
   },
   "outputs": [
    {
     "data": {
      "text/plain": [
       "Index(['age', 'sex', 'bmi', 'children', 'smoker', 'charges', 'northwest',\n",
       "       'southeast', 'southwest'],\n",
       "      dtype='object')"
      ]
     },
     "execution_count": 62,
     "metadata": {},
     "output_type": "execute_result"
    }
   ],
   "source": [
    "insurance_df.columns"
   ]
  },
  {
   "cell_type": "code",
   "execution_count": 63,
   "metadata": {
    "colab": {},
    "colab_type": "code",
    "id": "4OXZB2F21e4H"
   },
   "outputs": [],
   "source": [
    "X = insurance_df.drop(columns =['charges'])\n",
    "y = insurance_df['charges']\n"
   ]
  },
  {
   "cell_type": "code",
   "execution_count": 64,
   "metadata": {
    "scrolled": true
   },
   "outputs": [
    {
     "data": {
      "text/html": [
       "<div>\n",
       "<style scoped>\n",
       "    .dataframe tbody tr th:only-of-type {\n",
       "        vertical-align: middle;\n",
       "    }\n",
       "\n",
       "    .dataframe tbody tr th {\n",
       "        vertical-align: top;\n",
       "    }\n",
       "\n",
       "    .dataframe thead th {\n",
       "        text-align: right;\n",
       "    }\n",
       "</style>\n",
       "<table border=\"1\" class=\"dataframe\">\n",
       "  <thead>\n",
       "    <tr style=\"text-align: right;\">\n",
       "      <th></th>\n",
       "      <th>age</th>\n",
       "      <th>sex</th>\n",
       "      <th>bmi</th>\n",
       "      <th>children</th>\n",
       "      <th>smoker</th>\n",
       "      <th>northwest</th>\n",
       "      <th>southeast</th>\n",
       "      <th>southwest</th>\n",
       "    </tr>\n",
       "  </thead>\n",
       "  <tbody>\n",
       "    <tr>\n",
       "      <th>0</th>\n",
       "      <td>19</td>\n",
       "      <td>0</td>\n",
       "      <td>27.900</td>\n",
       "      <td>0</td>\n",
       "      <td>1</td>\n",
       "      <td>0</td>\n",
       "      <td>0</td>\n",
       "      <td>1</td>\n",
       "    </tr>\n",
       "    <tr>\n",
       "      <th>1</th>\n",
       "      <td>18</td>\n",
       "      <td>1</td>\n",
       "      <td>33.770</td>\n",
       "      <td>1</td>\n",
       "      <td>0</td>\n",
       "      <td>0</td>\n",
       "      <td>1</td>\n",
       "      <td>0</td>\n",
       "    </tr>\n",
       "    <tr>\n",
       "      <th>2</th>\n",
       "      <td>28</td>\n",
       "      <td>1</td>\n",
       "      <td>33.000</td>\n",
       "      <td>3</td>\n",
       "      <td>0</td>\n",
       "      <td>0</td>\n",
       "      <td>1</td>\n",
       "      <td>0</td>\n",
       "    </tr>\n",
       "    <tr>\n",
       "      <th>3</th>\n",
       "      <td>33</td>\n",
       "      <td>1</td>\n",
       "      <td>22.705</td>\n",
       "      <td>0</td>\n",
       "      <td>0</td>\n",
       "      <td>1</td>\n",
       "      <td>0</td>\n",
       "      <td>0</td>\n",
       "    </tr>\n",
       "    <tr>\n",
       "      <th>4</th>\n",
       "      <td>32</td>\n",
       "      <td>1</td>\n",
       "      <td>28.880</td>\n",
       "      <td>0</td>\n",
       "      <td>0</td>\n",
       "      <td>1</td>\n",
       "      <td>0</td>\n",
       "      <td>0</td>\n",
       "    </tr>\n",
       "    <tr>\n",
       "      <th>...</th>\n",
       "      <td>...</td>\n",
       "      <td>...</td>\n",
       "      <td>...</td>\n",
       "      <td>...</td>\n",
       "      <td>...</td>\n",
       "      <td>...</td>\n",
       "      <td>...</td>\n",
       "      <td>...</td>\n",
       "    </tr>\n",
       "    <tr>\n",
       "      <th>1333</th>\n",
       "      <td>50</td>\n",
       "      <td>1</td>\n",
       "      <td>30.970</td>\n",
       "      <td>3</td>\n",
       "      <td>0</td>\n",
       "      <td>1</td>\n",
       "      <td>0</td>\n",
       "      <td>0</td>\n",
       "    </tr>\n",
       "    <tr>\n",
       "      <th>1334</th>\n",
       "      <td>18</td>\n",
       "      <td>0</td>\n",
       "      <td>31.920</td>\n",
       "      <td>0</td>\n",
       "      <td>0</td>\n",
       "      <td>0</td>\n",
       "      <td>0</td>\n",
       "      <td>0</td>\n",
       "    </tr>\n",
       "    <tr>\n",
       "      <th>1335</th>\n",
       "      <td>18</td>\n",
       "      <td>0</td>\n",
       "      <td>36.850</td>\n",
       "      <td>0</td>\n",
       "      <td>0</td>\n",
       "      <td>0</td>\n",
       "      <td>1</td>\n",
       "      <td>0</td>\n",
       "    </tr>\n",
       "    <tr>\n",
       "      <th>1336</th>\n",
       "      <td>21</td>\n",
       "      <td>0</td>\n",
       "      <td>25.800</td>\n",
       "      <td>0</td>\n",
       "      <td>0</td>\n",
       "      <td>0</td>\n",
       "      <td>0</td>\n",
       "      <td>1</td>\n",
       "    </tr>\n",
       "    <tr>\n",
       "      <th>1337</th>\n",
       "      <td>61</td>\n",
       "      <td>0</td>\n",
       "      <td>29.070</td>\n",
       "      <td>0</td>\n",
       "      <td>1</td>\n",
       "      <td>1</td>\n",
       "      <td>0</td>\n",
       "      <td>0</td>\n",
       "    </tr>\n",
       "  </tbody>\n",
       "</table>\n",
       "<p>1338 rows × 8 columns</p>\n",
       "</div>"
      ],
      "text/plain": [
       "      age  sex     bmi  children  smoker  northwest  southeast  southwest\n",
       "0      19    0  27.900         0       1          0          0          1\n",
       "1      18    1  33.770         1       0          0          1          0\n",
       "2      28    1  33.000         3       0          0          1          0\n",
       "3      33    1  22.705         0       0          1          0          0\n",
       "4      32    1  28.880         0       0          1          0          0\n",
       "...   ...  ...     ...       ...     ...        ...        ...        ...\n",
       "1333   50    1  30.970         3       0          1          0          0\n",
       "1334   18    0  31.920         0       0          0          0          0\n",
       "1335   18    0  36.850         0       0          0          1          0\n",
       "1336   21    0  25.800         0       0          0          0          1\n",
       "1337   61    0  29.070         0       1          1          0          0\n",
       "\n",
       "[1338 rows x 8 columns]"
      ]
     },
     "execution_count": 64,
     "metadata": {},
     "output_type": "execute_result"
    }
   ],
   "source": [
    "X"
   ]
  },
  {
   "cell_type": "code",
   "execution_count": 65,
   "metadata": {},
   "outputs": [
    {
     "data": {
      "text/plain": [
       "0       16884.92400\n",
       "1        1725.55230\n",
       "2        4449.46200\n",
       "3       21984.47061\n",
       "4        3866.85520\n",
       "           ...     \n",
       "1333    10600.54830\n",
       "1334     2205.98080\n",
       "1335     1629.83350\n",
       "1336     2007.94500\n",
       "1337    29141.36030\n",
       "Name: charges, Length: 1338, dtype: float64"
      ]
     },
     "execution_count": 65,
     "metadata": {},
     "output_type": "execute_result"
    }
   ],
   "source": [
    "y"
   ]
  },
  {
   "cell_type": "code",
   "execution_count": 66,
   "metadata": {
    "colab": {
     "base_uri": "https://localhost:8080/",
     "height": 34
    },
    "colab_type": "code",
    "id": "XpGU63Ne1e9P",
    "outputId": "e16c74ca-dc1c-416c-dc44-7f927bb99bc6"
   },
   "outputs": [
    {
     "data": {
      "text/plain": [
       "(1338, 8)"
      ]
     },
     "execution_count": 66,
     "metadata": {},
     "output_type": "execute_result"
    }
   ],
   "source": [
    "X.shape"
   ]
  },
  {
   "cell_type": "code",
   "execution_count": 67,
   "metadata": {
    "colab": {
     "base_uri": "https://localhost:8080/",
     "height": 34
    },
    "colab_type": "code",
    "id": "OjGj0RALA0qZ",
    "outputId": "26559a6c-880b-45b4-a1e8-3c4b92bea889"
   },
   "outputs": [
    {
     "data": {
      "text/plain": [
       "(1338,)"
      ]
     },
     "execution_count": 67,
     "metadata": {},
     "output_type": "execute_result"
    }
   ],
   "source": [
    "y.shape"
   ]
  },
  {
   "cell_type": "code",
   "execution_count": 68,
   "metadata": {
    "colab": {},
    "colab_type": "code",
    "id": "jIeiK1maA6mm"
   },
   "outputs": [],
   "source": [
    "X = np.array(X).astype('float32')\n",
    "y = np.array(y).astype('float32')"
   ]
  },
  {
   "cell_type": "code",
   "execution_count": 69,
   "metadata": {},
   "outputs": [],
   "source": [
    "y = y.reshape(-1,1)"
   ]
  },
  {
   "cell_type": "code",
   "execution_count": 70,
   "metadata": {},
   "outputs": [
    {
     "data": {
      "text/plain": [
       "array([[19.  ,  0.  , 27.9 , ...,  0.  ,  0.  ,  1.  ],\n",
       "       [18.  ,  1.  , 33.77, ...,  0.  ,  1.  ,  0.  ],\n",
       "       [28.  ,  1.  , 33.  , ...,  0.  ,  1.  ,  0.  ],\n",
       "       ...,\n",
       "       [18.  ,  0.  , 36.85, ...,  0.  ,  1.  ,  0.  ],\n",
       "       [21.  ,  0.  , 25.8 , ...,  0.  ,  0.  ,  1.  ],\n",
       "       [61.  ,  0.  , 29.07, ...,  1.  ,  0.  ,  0.  ]], dtype=float32)"
      ]
     },
     "execution_count": 70,
     "metadata": {},
     "output_type": "execute_result"
    }
   ],
   "source": [
    "# Only take the numerical variables and scale them\n",
    "X "
   ]
  },
  {
   "cell_type": "code",
   "execution_count": 71,
   "metadata": {
    "colab": {},
    "colab_type": "code",
    "id": "m6V7goNiA6xG"
   },
   "outputs": [],
   "source": [
    "#scaling the data before feeding the model\n",
    "from sklearn.preprocessing import StandardScaler, MinMaxScaler\n",
    "\n",
    "scaler_x = StandardScaler()\n",
    "X = scaler_x.fit_transform(X)\n",
    "\n",
    "scaler_y = StandardScaler()\n",
    "y = scaler_y.fit_transform(y)\n"
   ]
  },
  {
   "cell_type": "markdown",
   "metadata": {},
   "source": [
    "MINI CHALLENGE\n",
    "- Split the data into 20% Testing and 80% Training\n",
    "- Double check that the split was successful by getting the shape of both the training and testing datasets"
   ]
  },
  {
   "cell_type": "code",
   "execution_count": 72,
   "metadata": {},
   "outputs": [],
   "source": [
    "from sklearn.model_selection import train_test_split\n",
    "X_train, X_test, y_train, y_test = train_test_split(X,y,train_size=0.8)"
   ]
  },
  {
   "cell_type": "code",
   "execution_count": 73,
   "metadata": {},
   "outputs": [
    {
     "data": {
      "text/plain": [
       "(1070, 8)"
      ]
     },
     "execution_count": 73,
     "metadata": {},
     "output_type": "execute_result"
    }
   ],
   "source": [
    "X_train.shape"
   ]
  },
  {
   "cell_type": "code",
   "execution_count": 74,
   "metadata": {},
   "outputs": [
    {
     "data": {
      "text/plain": [
       "(268, 8)"
      ]
     },
     "execution_count": 74,
     "metadata": {},
     "output_type": "execute_result"
    }
   ],
   "source": [
    "X_test.shape"
   ]
  },
  {
   "cell_type": "code",
   "execution_count": 75,
   "metadata": {},
   "outputs": [
    {
     "data": {
      "text/plain": [
       "(1070, 1)"
      ]
     },
     "execution_count": 75,
     "metadata": {},
     "output_type": "execute_result"
    }
   ],
   "source": [
    "y_train.shape"
   ]
  },
  {
   "cell_type": "code",
   "execution_count": 76,
   "metadata": {},
   "outputs": [
    {
     "data": {
      "text/plain": [
       "(268, 1)"
      ]
     },
     "execution_count": 76,
     "metadata": {},
     "output_type": "execute_result"
    }
   ],
   "source": [
    "y_test.shape"
   ]
  },
  {
   "cell_type": "markdown",
   "metadata": {
    "colab_type": "text",
    "id": "idWHLv5alF4C"
   },
   "source": [
    "# TASK #6: TRAIN AND TEST A LINEAR REGRESSION MODEL IN SK-LEARN (NOTE THAT SAGEMAKER BUILT-IN ALGORITHMS ARE NOT USED HERE)"
   ]
  },
  {
   "cell_type": "code",
   "execution_count": 77,
   "metadata": {
    "colab": {
     "base_uri": "https://localhost:8080/",
     "height": 34
    },
    "colab_type": "code",
    "id": "yHL-6mKwBURs",
    "outputId": "10d71b6d-9c2b-4bab-8b27-d3c5883e6a25"
   },
   "outputs": [
    {
     "data": {
      "text/plain": [
       "LinearRegression(copy_X=True, fit_intercept=True, n_jobs=None, normalize=False)"
      ]
     },
     "execution_count": 77,
     "metadata": {},
     "output_type": "execute_result"
    }
   ],
   "source": [
    "# using linear regression model\n",
    "from sklearn.linear_model import LinearRegression\n",
    "from sklearn.metrics import mean_squared_error, accuracy_score\n",
    "\n",
    "regresssion_model_sklearn = LinearRegression()\n",
    "regresssion_model_sklearn.fit(X_train, y_train)\n"
   ]
  },
  {
   "cell_type": "code",
   "execution_count": 78,
   "metadata": {
    "colab": {
     "base_uri": "https://localhost:8080/",
     "height": 34
    },
    "colab_type": "code",
    "id": "elD8m5N0BgEY",
    "outputId": "16a1813d-a0f1-4d1f-dc02-d7ad5a445417"
   },
   "outputs": [
    {
     "data": {
      "text/plain": [
       "0.7264762621030101"
      ]
     },
     "execution_count": 78,
     "metadata": {},
     "output_type": "execute_result"
    }
   ],
   "source": [
    "regresssion_model_sklearn_accuracy = regresssion_model_sklearn.score(X_test, y_test)\n",
    "regresssion_model_sklearn_accuracy"
   ]
  },
  {
   "cell_type": "code",
   "execution_count": 79,
   "metadata": {},
   "outputs": [],
   "source": [
    "y_predict = regresssion_model_sklearn.predict(X_test)"
   ]
  },
  {
   "cell_type": "markdown",
   "metadata": {},
   "source": [
    "The predict values are scaled, to retrieve the original values in dollar format we use the inverse_transform of the scaler_y StandardScalar object we created above"
   ]
  },
  {
   "cell_type": "code",
   "execution_count": 80,
   "metadata": {},
   "outputs": [],
   "source": [
    "y_predict_orig = scaler_y.inverse_transform(y_predict)\n",
    "y_test_orig = scaler_y.inverse_transform(y_test)\n"
   ]
  },
  {
   "cell_type": "code",
   "execution_count": 81,
   "metadata": {},
   "outputs": [
    {
     "data": {
      "text/plain": [
       "268"
      ]
     },
     "execution_count": 81,
     "metadata": {},
     "output_type": "execute_result"
    }
   ],
   "source": [
    "k = X_test.shape[1]\n",
    "n = len(X_test)\n",
    "n"
   ]
  },
  {
   "cell_type": "code",
   "execution_count": 85,
   "metadata": {},
   "outputs": [
    {
     "data": {
      "text/plain": [
       "8"
      ]
     },
     "execution_count": 85,
     "metadata": {},
     "output_type": "execute_result"
    }
   ],
   "source": [
    "k"
   ]
  },
  {
   "cell_type": "code",
   "execution_count": 83,
   "metadata": {
    "scrolled": true
   },
   "outputs": [],
   "source": [
    "from sklearn.metrics import r2_score, mean_squared_error, mean_absolute_error\n",
    "from math import sqrt\n",
    "\n",
    "RMSE = float(format(np.sqrt(mean_squared_error(y_test_orig, y_predict_orig)),'.3f'))\n",
    "MSE = mean_squared_error(y_test_orig, y_predict_orig)\n"
   ]
  },
  {
   "cell_type": "markdown",
   "metadata": {},
   "source": [
    "MINI CHALLENGE\n",
    "- calculate the mean absolute error, R2 and adjusted R2"
   ]
  },
  {
   "cell_type": "code",
   "execution_count": 87,
   "metadata": {},
   "outputs": [],
   "source": [
    "MAE = mean_absolute_error(y_test_orig, y_predict_orig)\n",
    "r2 = r2_score(y_test_orig, y_predict_orig)\n",
    "adj_r2 = 1 - ((1 - r2) * (n-1) / (n - k - 1))"
   ]
  },
  {
   "cell_type": "code",
   "execution_count": 88,
   "metadata": {},
   "outputs": [
    {
     "name": "stdout",
     "output_type": "stream",
     "text": [
      "RMSE = 6204.029 \n",
      "MSE = 38489976.0 \n",
      "MAE = 4076.083 \n",
      "R2 = 0.7264762595706843 \n",
      "Adjusted R2 = 0.7180276498276938\n"
     ]
    }
   ],
   "source": [
    "print('RMSE =',RMSE, '\\nMSE =',MSE, '\\nMAE =',MAE, '\\nR2 =', r2, '\\nAdjusted R2 =', adj_r2) "
   ]
  },
  {
   "cell_type": "markdown",
   "metadata": {},
   "source": [
    "# TASK #7: TRAIN A LINEAR LEARNER MODEL USING SAGEMAKER"
   ]
  },
  {
   "cell_type": "code",
   "execution_count": 89,
   "metadata": {},
   "outputs": [
    {
     "name": "stdout",
     "output_type": "stream",
     "text": [
      "arn:aws:iam::088357769461:role/service-role/AmazonSageMaker-ExecutionRole-20201029T195050\n"
     ]
    }
   ],
   "source": [
    "# Boto3 is the Amazon Web Services (AWS) Software Development Kit (SDK) for Python\n",
    "# Boto3 allows Python developer to write software that makes use of services like Amazon S3 and Amazon EC2\n",
    "\n",
    "import sagemaker\n",
    "import boto3\n",
    "\n",
    "# Let's create a Sagemaker session\n",
    "sagemaker_session = sagemaker.Session()\n",
    "\n",
    "# Let's define the S3 bucket and prefix that we want to use in this session\n",
    "bucket = 'sagemaker-practical-williams' # bucket named 'sagemaker-practical' was created beforehand\n",
    "prefix = 'linear_learner' # prefix is the subfolder within the bucket.\n",
    "\n",
    "# Let's get the execution role for the notebook instance. \n",
    "# This is the IAM role that you created when you created your notebook instance. You pass the role to the training job.\n",
    "# Note that AWS Identity and Access Management (IAM) role that Amazon SageMaker can assume to perform tasks on your behalf (for example, reading training results, called model artifacts, from the S3 bucket and writing training results to Amazon S3). \n",
    "role = sagemaker.get_execution_role()\n",
    "print(role)"
   ]
  },
  {
   "cell_type": "code",
   "execution_count": 90,
   "metadata": {},
   "outputs": [
    {
     "data": {
      "text/plain": [
       "(1070, 8)"
      ]
     },
     "execution_count": 90,
     "metadata": {},
     "output_type": "execute_result"
    }
   ],
   "source": [
    "X_train.shape"
   ]
  },
  {
   "cell_type": "code",
   "execution_count": 91,
   "metadata": {},
   "outputs": [
    {
     "data": {
      "text/plain": [
       "(1070, 1)"
      ]
     },
     "execution_count": 91,
     "metadata": {},
     "output_type": "execute_result"
    }
   ],
   "source": [
    "y_train.shape"
   ]
  },
  {
   "cell_type": "code",
   "execution_count": 94,
   "metadata": {},
   "outputs": [],
   "source": [
    "y_train = y_train[:,0]"
   ]
  },
  {
   "cell_type": "code",
   "execution_count": 95,
   "metadata": {},
   "outputs": [
    {
     "data": {
      "text/plain": [
       "(1070,)"
      ]
     },
     "execution_count": 95,
     "metadata": {},
     "output_type": "execute_result"
    }
   ],
   "source": [
    "y_train.shape"
   ]
  },
  {
   "cell_type": "code",
   "execution_count": 96,
   "metadata": {},
   "outputs": [
    {
     "data": {
      "text/plain": [
       "0"
      ]
     },
     "execution_count": 96,
     "metadata": {},
     "output_type": "execute_result"
    }
   ],
   "source": [
    "import io # The io module allows for dealing with various types of I/O (text I/O, binary I/O and raw I/O). \n",
    "import numpy as np\n",
    "import sagemaker.amazon.common as smac # sagemaker common libary\n",
    "\n",
    "# Code below converts the data in numpy array format to RecordIO format\n",
    "# This is the format required by Sagemaker Linear Learner \n",
    "\n",
    "buf = io.BytesIO() # create an in-memory byte array (buf is a buffer I will be writing to)\n",
    "smac.write_numpy_to_dense_tensor(buf, X_train, y_train)\n",
    "buf.seek(0) \n",
    "# When you write to in-memory byte arrays, it increments 1 every time you write to it\n",
    "# Let's reset that back to zero \n"
   ]
  },
  {
   "cell_type": "code",
   "execution_count": 97,
   "metadata": {},
   "outputs": [
    {
     "name": "stdout",
     "output_type": "stream",
     "text": [
      "uploaded training data location: s3://sagemaker-practical-williams/linear_learner/train/linear-train-data-medical\n"
     ]
    }
   ],
   "source": [
    "import os\n",
    "\n",
    "# Code to upload RecordIO data to S3\n",
    " \n",
    "# Key refers to the name of the file    \n",
    "key = 'linear-train-data-medical'\n",
    "\n",
    "# The following code uploads the data in record-io format to S3 bucket to be accessed later for training\n",
    "boto3.resource('s3').Bucket(bucket).Object(os.path.join(prefix, 'train', key)).upload_fileobj(buf)\n",
    "\n",
    "# Let's print out the training data location in s3\n",
    "s3_train_data = 's3://{}/{}/train/{}'.format(bucket, prefix, key)\n",
    "print('uploaded training data location: {}'.format(s3_train_data))"
   ]
  },
  {
   "cell_type": "code",
   "execution_count": 98,
   "metadata": {},
   "outputs": [
    {
     "name": "stdout",
     "output_type": "stream",
     "text": [
      "Training artifacts will be uploaded to: s3://sagemaker-practical-williams/linear_learner/output\n"
     ]
    }
   ],
   "source": [
    "# create an output placeholder in S3 bucket to store the linear learner output\n",
    "\n",
    "output_location = 's3://{}/{}/output'.format(bucket, prefix)\n",
    "print('Training artifacts will be uploaded to: {}'.format(output_location))"
   ]
  },
  {
   "cell_type": "code",
   "execution_count": 99,
   "metadata": {},
   "outputs": [
    {
     "name": "stderr",
     "output_type": "stream",
     "text": [
      "The method get_image_uri has been renamed in sagemaker>=2.\n",
      "See: https://sagemaker.readthedocs.io/en/stable/v2.html for details.\n",
      "Defaulting to the only supported framework/algorithm version: 1. Ignoring framework/algorithm version: 1.\n"
     ]
    }
   ],
   "source": [
    "# This code is used to get the training container of sagemaker built-in algorithms\n",
    "# all we have to do is to specify the name of the algorithm, that we want to use\n",
    "\n",
    "# Let's obtain a reference to the linearLearner container image\n",
    "# Note that all regression models are named estimators\n",
    "# You don't have to specify (hardcode) the region, get_image_uri will get the current region name using boto3.Session\n",
    "\n",
    "\n",
    "from sagemaker.amazon.amazon_estimator import get_image_uri\n",
    "\n",
    "container = get_image_uri(boto3.Session().region_name, 'linear-learner')"
   ]
  },
  {
   "cell_type": "code",
   "execution_count": 102,
   "metadata": {},
   "outputs": [
    {
     "name": "stderr",
     "output_type": "stream",
     "text": [
      "train_instance_count has been renamed in sagemaker>=2.\n",
      "See: https://sagemaker.readthedocs.io/en/stable/v2.html for details.\n",
      "train_instance_type has been renamed in sagemaker>=2.\n",
      "See: https://sagemaker.readthedocs.io/en/stable/v2.html for details.\n"
     ]
    },
    {
     "name": "stdout",
     "output_type": "stream",
     "text": [
      "2020-12-01 02:35:20 Starting - Starting the training job...\n",
      "2020-12-01 02:35:22 Starting - Launching requested ML instances......\n",
      "2020-12-01 02:36:23 Starting - Preparing the instances for training......\n",
      "2020-12-01 02:37:34 Downloading - Downloading input data...\n",
      "2020-12-01 02:38:00 Training - Downloading the training image\u001b[34mDocker entrypoint called with argument(s): train\u001b[0m\n",
      "\u001b[34mRunning default environment configuration script\u001b[0m\n",
      "\u001b[34m[12/01/2020 02:38:18 INFO 139642506053440] Reading default configuration from /opt/amazon/lib/python2.7/site-packages/algorithm/resources/default-input.json: {u'loss_insensitivity': u'0.01', u'epochs': u'15', u'feature_dim': u'auto', u'init_bias': u'0.0', u'lr_scheduler_factor': u'auto', u'num_calibration_samples': u'10000000', u'accuracy_top_k': u'3', u'_num_kv_servers': u'auto', u'use_bias': u'true', u'num_point_for_scaler': u'10000', u'_log_level': u'info', u'quantile': u'0.5', u'bias_lr_mult': u'auto', u'lr_scheduler_step': u'auto', u'init_method': u'uniform', u'init_sigma': u'0.01', u'lr_scheduler_minimum_lr': u'auto', u'target_recall': u'0.8', u'num_models': u'auto', u'early_stopping_patience': u'3', u'momentum': u'auto', u'unbias_label': u'auto', u'wd': u'auto', u'optimizer': u'auto', u'_tuning_objective_metric': u'', u'early_stopping_tolerance': u'0.001', u'learning_rate': u'auto', u'_kvstore': u'auto', u'normalize_data': u'true', u'binary_classifier_model_selection_criteria': u'accuracy', u'use_lr_scheduler': u'true', u'target_precision': u'0.8', u'unbias_data': u'auto', u'init_scale': u'0.07', u'bias_wd_mult': u'auto', u'f_beta': u'1.0', u'mini_batch_size': u'1000', u'huber_delta': u'1.0', u'num_classes': u'1', u'beta_1': u'auto', u'loss': u'auto', u'beta_2': u'auto', u'_enable_profiler': u'false', u'normalize_label': u'auto', u'_num_gpus': u'auto', u'balance_multiclass_weights': u'false', u'positive_example_weight_mult': u'1.0', u'l1': u'auto', u'margin': u'1.0'}\u001b[0m\n",
      "\u001b[34m[12/01/2020 02:38:18 INFO 139642506053440] Merging with provided configuration from /opt/ml/input/config/hyperparameters.json: {u'loss': u'absolute_loss', u'mini_batch_size': u'100', u'predictor_type': u'regressor', u'epochs': u'100', u'feature_dim': u'8', u'num_models': u'32'}\u001b[0m\n",
      "\u001b[34m[12/01/2020 02:38:18 INFO 139642506053440] Final configuration: {u'loss_insensitivity': u'0.01', u'epochs': u'100', u'feature_dim': u'8', u'init_bias': u'0.0', u'lr_scheduler_factor': u'auto', u'num_calibration_samples': u'10000000', u'accuracy_top_k': u'3', u'_num_kv_servers': u'auto', u'use_bias': u'true', u'num_point_for_scaler': u'10000', u'_log_level': u'info', u'quantile': u'0.5', u'bias_lr_mult': u'auto', u'lr_scheduler_step': u'auto', u'init_method': u'uniform', u'init_sigma': u'0.01', u'lr_scheduler_minimum_lr': u'auto', u'target_recall': u'0.8', u'num_models': u'32', u'early_stopping_patience': u'3', u'momentum': u'auto', u'unbias_label': u'auto', u'wd': u'auto', u'optimizer': u'auto', u'_tuning_objective_metric': u'', u'early_stopping_tolerance': u'0.001', u'learning_rate': u'auto', u'_kvstore': u'auto', u'normalize_data': u'true', u'binary_classifier_model_selection_criteria': u'accuracy', u'use_lr_scheduler': u'true', u'target_precision': u'0.8', u'unbias_data': u'auto', u'init_scale': u'0.07', u'bias_wd_mult': u'auto', u'f_beta': u'1.0', u'mini_batch_size': u'100', u'huber_delta': u'1.0', u'num_classes': u'1', u'predictor_type': u'regressor', u'beta_1': u'auto', u'loss': u'absolute_loss', u'beta_2': u'auto', u'_enable_profiler': u'false', u'normalize_label': u'auto', u'_num_gpus': u'auto', u'balance_multiclass_weights': u'false', u'positive_example_weight_mult': u'1.0', u'l1': u'auto', u'margin': u'1.0'}\u001b[0m\n",
      "\u001b[34m[12/01/2020 02:38:18 WARNING 139642506053440] Loggers have already been setup.\u001b[0m\n",
      "\u001b[34mProcess 1 is a worker.\u001b[0m\n",
      "\u001b[34m[12/01/2020 02:38:18 INFO 139642506053440] Using default worker.\u001b[0m\n",
      "\u001b[34m[12/01/2020 02:38:19 INFO 139642506053440] Checkpoint loading and saving are disabled.\u001b[0m\n",
      "\u001b[34m[2020-12-01 02:38:19.023] [tensorio] [info] epoch_stats={\"data_pipeline\": \"/opt/ml/input/data/train\", \"epoch\": 0, \"duration\": 14, \"num_examples\": 1, \"num_bytes\": 7600}\u001b[0m\n",
      "\u001b[34m[12/01/2020 02:38:19 INFO 139642506053440] Create Store: local\u001b[0m\n",
      "\u001b[34m[2020-12-01 02:38:19.103] [tensorio] [info] epoch_stats={\"data_pipeline\": \"/opt/ml/input/data/train\", \"epoch\": 1, \"duration\": 79, \"num_examples\": 11, \"num_bytes\": 81320}\u001b[0m\n",
      "\u001b[34m[12/01/2020 02:38:19 INFO 139642506053440] Scaler algorithm parameters\n",
      " <algorithm.scaler.ScalerAlgorithmStable object at 0x7f00ae67b610>\u001b[0m\n",
      "\u001b[34m[12/01/2020 02:38:19 INFO 139642506053440] Scaling model computed with parameters:\n",
      " {'stdev_weight': \u001b[0m\n",
      "\u001b[34m[1.0002651  1.0000547  1.0036701  0.996186   1.0128404  1.0097417\n",
      " 1.0100515  0.99733055]\u001b[0m\n",
      "\u001b[34m<NDArray 8 @cpu(0)>, 'stdev_label': \u001b[0m\n",
      "\u001b[34m[1.0070925]\u001b[0m\n",
      "\u001b[34m<NDArray 1 @cpu(0)>, 'mean_label': \u001b[0m\n",
      "\u001b[34m[0.01163642]\u001b[0m\n",
      "\u001b[34m<NDArray 1 @cpu(0)>, 'mean_weight': \u001b[0m\n",
      "\u001b[34m[-0.00313467 -0.01046392  0.03369608 -0.014869    0.01788347  0.01655685\n",
      "  0.02011659 -0.00443024]\u001b[0m\n",
      "\u001b[34m<NDArray 8 @cpu(0)>}\u001b[0m\n",
      "\u001b[34m[12/01/2020 02:38:19 INFO 139642506053440] nvidia-smi took: 0.0251770019531 secs to identify 0 gpus\u001b[0m\n",
      "\u001b[34m[12/01/2020 02:38:19 INFO 139642506053440] Number of GPUs being used: 0\u001b[0m\n",
      "\u001b[34m#metrics {\"Metrics\": {\"Max Batches Seen Between Resets\": {\"count\": 1, \"max\": 11, \"sum\": 11.0, \"min\": 11}, \"Number of Batches Since Last Reset\": {\"count\": 1, \"max\": 0, \"sum\": 0.0, \"min\": 0}, \"Number of Records Since Last Reset\": {\"count\": 1, \"max\": 0, \"sum\": 0.0, \"min\": 0}, \"Total Batches Seen\": {\"count\": 1, \"max\": 12, \"sum\": 12.0, \"min\": 12}, \"Total Records Seen\": {\"count\": 1, \"max\": 1170, \"sum\": 1170.0, \"min\": 1170}, \"Max Records Seen Between Resets\": {\"count\": 1, \"max\": 1070, \"sum\": 1070.0, \"min\": 1070}, \"Reset Count\": {\"count\": 1, \"max\": 2, \"sum\": 2.0, \"min\": 2}}, \"EndTime\": 1606790299.204943, \"Dimensions\": {\"Host\": \"algo-1\", \"Meta\": \"init_train_data_iter\", \"Operation\": \"training\", \"Algorithm\": \"Linear Learner\"}, \"StartTime\": 1606790299.204901}\n",
      "\u001b[0m\n",
      "\u001b[34m[2020-12-01 02:38:19.405] [tensorio] [info] epoch_stats={\"data_pipeline\": \"/opt/ml/input/data/train\", \"epoch\": 4, \"duration\": 200, \"num_examples\": 11, \"num_bytes\": 81320}\u001b[0m\n",
      "\u001b[34m#metrics {\"Metrics\": {\"train_absolute_loss_objective\": {\"count\": 1, \"max\": 0.673010986328125, \"sum\": 0.673010986328125, \"min\": 0.673010986328125}}, \"EndTime\": 1606790299.405737, \"Dimensions\": {\"model\": 0, \"Host\": \"algo-1\", \"Operation\": \"training\", \"Algorithm\": \"Linear Learner\", \"epoch\": 0}, \"StartTime\": 1606790299.40563}\n",
      "\u001b[0m\n",
      "\u001b[34m#metrics {\"Metrics\": {\"train_absolute_loss_objective\": {\"count\": 1, \"max\": 0.7029838485717773, \"sum\": 0.7029838485717773, \"min\": 0.7029838485717773}}, \"EndTime\": 1606790299.405844, \"Dimensions\": {\"model\": 1, \"Host\": \"algo-1\", \"Operation\": \"training\", \"Algorithm\": \"Linear Learner\", \"epoch\": 0}, \"StartTime\": 1606790299.405824}\n",
      "\u001b[0m\n",
      "\u001b[34m#metrics {\"Metrics\": {\"train_absolute_loss_objective\": {\"count\": 1, \"max\": 0.6993651390075684, \"sum\": 0.6993651390075684, \"min\": 0.6993651390075684}}, \"EndTime\": 1606790299.405907, \"Dimensions\": {\"model\": 2, \"Host\": \"algo-1\", \"Operation\": \"training\", \"Algorithm\": \"Linear Learner\", \"epoch\": 0}, \"StartTime\": 1606790299.40589}\n",
      "\u001b[0m\n",
      "\u001b[34m#metrics {\"Metrics\": {\"train_absolute_loss_objective\": {\"count\": 1, \"max\": 0.6526628074645996, \"sum\": 0.6526628074645996, \"min\": 0.6526628074645996}}, \"EndTime\": 1606790299.405979, \"Dimensions\": {\"model\": 3, \"Host\": \"algo-1\", \"Operation\": \"training\", \"Algorithm\": \"Linear Learner\", \"epoch\": 0}, \"StartTime\": 1606790299.405961}\n",
      "\u001b[0m\n",
      "\u001b[34m#metrics {\"Metrics\": {\"train_absolute_loss_objective\": {\"count\": 1, \"max\": 0.6507013320922852, \"sum\": 0.6507013320922852, \"min\": 0.6507013320922852}}, \"EndTime\": 1606790299.406043, \"Dimensions\": {\"model\": 4, \"Host\": \"algo-1\", \"Operation\": \"training\", \"Algorithm\": \"Linear Learner\", \"epoch\": 0}, \"StartTime\": 1606790299.406026}\n",
      "\u001b[0m\n",
      "\u001b[34m#metrics {\"Metrics\": {\"train_absolute_loss_objective\": {\"count\": 1, \"max\": 0.6538858528137207, \"sum\": 0.6538858528137207, \"min\": 0.6538858528137207}}, \"EndTime\": 1606790299.406116, \"Dimensions\": {\"model\": 5, \"Host\": \"algo-1\", \"Operation\": \"training\", \"Algorithm\": \"Linear Learner\", \"epoch\": 0}, \"StartTime\": 1606790299.406097}\n",
      "\u001b[0m\n",
      "\u001b[34m#metrics {\"Metrics\": {\"train_absolute_loss_objective\": {\"count\": 1, \"max\": 0.6216883316040039, \"sum\": 0.6216883316040039, \"min\": 0.6216883316040039}}, \"EndTime\": 1606790299.406187, \"Dimensions\": {\"model\": 6, \"Host\": \"algo-1\", \"Operation\": \"training\", \"Algorithm\": \"Linear Learner\", \"epoch\": 0}, \"StartTime\": 1606790299.406169}\n",
      "\u001b[0m\n",
      "\u001b[34m#metrics {\"Metrics\": {\"train_absolute_loss_objective\": {\"count\": 1, \"max\": 0.6465010871887207, \"sum\": 0.6465010871887207, \"min\": 0.6465010871887207}}, \"EndTime\": 1606790299.406256, \"Dimensions\": {\"model\": 7, \"Host\": \"algo-1\", \"Operation\": \"training\", \"Algorithm\": \"Linear Learner\", \"epoch\": 0}, \"StartTime\": 1606790299.406239}\n",
      "\u001b[0m\n",
      "\u001b[34m#metrics {\"Metrics\": {\"train_absolute_loss_objective\": {\"count\": 1, \"max\": 0.6295191955566406, \"sum\": 0.6295191955566406, \"min\": 0.6295191955566406}}, \"EndTime\": 1606790299.406315, \"Dimensions\": {\"model\": 8, \"Host\": \"algo-1\", \"Operation\": \"training\", \"Algorithm\": \"Linear Learner\", \"epoch\": 0}, \"StartTime\": 1606790299.406299}\n",
      "\u001b[0m\n",
      "\u001b[34m#metrics {\"Metrics\": {\"train_absolute_loss_objective\": {\"count\": 1, \"max\": 0.7246813735961914, \"sum\": 0.7246813735961914, \"min\": 0.7246813735961914}}, \"EndTime\": 1606790299.40637, \"Dimensions\": {\"model\": 9, \"Host\": \"algo-1\", \"Operation\": \"training\", \"Algorithm\": \"Linear Learner\", \"epoch\": 0}, \"StartTime\": 1606790299.406355}\n",
      "\u001b[0m\n",
      "\u001b[34m#metrics {\"Metrics\": {\"train_absolute_loss_objective\": {\"count\": 1, \"max\": 0.6871515846252442, \"sum\": 0.6871515846252442, \"min\": 0.6871515846252442}}, \"EndTime\": 1606790299.406423, \"Dimensions\": {\"model\": 10, \"Host\": \"algo-1\", \"Operation\": \"training\", \"Algorithm\": \"Linear Learner\", \"epoch\": 0}, \"StartTime\": 1606790299.406408}\n",
      "\u001b[0m\n",
      "\u001b[34m#metrics {\"Metrics\": {\"train_absolute_loss_objective\": {\"count\": 1, \"max\": 0.6431439628601074, \"sum\": 0.6431439628601074, \"min\": 0.6431439628601074}}, \"EndTime\": 1606790299.406481, \"Dimensions\": {\"model\": 11, \"Host\": \"algo-1\", \"Operation\": \"training\", \"Algorithm\": \"Linear Learner\", \"epoch\": 0}, \"StartTime\": 1606790299.406465}\n",
      "\u001b[0m\n",
      "\u001b[34m#metrics {\"Metrics\": {\"train_absolute_loss_objective\": {\"count\": 1, \"max\": 0.6819871559143066, \"sum\": 0.6819871559143066, \"min\": 0.6819871559143066}}, \"EndTime\": 1606790299.406539, \"Dimensions\": {\"model\": 12, \"Host\": \"algo-1\", \"Operation\": \"training\", \"Algorithm\": \"Linear Learner\", \"epoch\": 0}, \"StartTime\": 1606790299.406523}\n",
      "\u001b[0m\n",
      "\u001b[34m#metrics {\"Metrics\": {\"train_absolute_loss_objective\": {\"count\": 1, \"max\": 0.6310522422790528, \"sum\": 0.6310522422790528, \"min\": 0.6310522422790528}}, \"EndTime\": 1606790299.406609, \"Dimensions\": {\"model\": 13, \"Host\": \"algo-1\", \"Operation\": \"training\", \"Algorithm\": \"Linear Learner\", \"epoch\": 0}, \"StartTime\": 1606790299.406591}\n",
      "\u001b[0m\n",
      "\u001b[34m#metrics {\"Metrics\": {\"train_absolute_loss_objective\": {\"count\": 1, \"max\": 0.6567166595458984, \"sum\": 0.6567166595458984, \"min\": 0.6567166595458984}}, \"EndTime\": 1606790299.406681, \"Dimensions\": {\"model\": 14, \"Host\": \"algo-1\", \"Operation\": \"training\", \"Algorithm\": \"Linear Learner\", \"epoch\": 0}, \"StartTime\": 1606790299.406662}\n",
      "\u001b[0m\n",
      "\u001b[34m#metrics {\"Metrics\": {\"train_absolute_loss_objective\": {\"count\": 1, \"max\": 0.6521976089477539, \"sum\": 0.6521976089477539, \"min\": 0.6521976089477539}}, \"EndTime\": 1606790299.406751, \"Dimensions\": {\"model\": 15, \"Host\": \"algo-1\", \"Operation\": \"training\", \"Algorithm\": \"Linear Learner\", \"epoch\": 0}, \"StartTime\": 1606790299.406733}\n",
      "\u001b[0m\n",
      "\u001b[34m#metrics {\"Metrics\": {\"train_absolute_loss_objective\": {\"count\": 1, \"max\": 0.7010305252075195, \"sum\": 0.7010305252075195, \"min\": 0.7010305252075195}}, \"EndTime\": 1606790299.40682, \"Dimensions\": {\"model\": 16, \"Host\": \"algo-1\", \"Operation\": \"training\", \"Algorithm\": \"Linear Learner\", \"epoch\": 0}, \"StartTime\": 1606790299.406802}\n",
      "\u001b[0m\n",
      "\u001b[34m#metrics {\"Metrics\": {\"train_absolute_loss_objective\": {\"count\": 1, \"max\": 0.7197954177856445, \"sum\": 0.7197954177856445, \"min\": 0.7197954177856445}}, \"EndTime\": 1606790299.406878, \"Dimensions\": {\"model\": 17, \"Host\": \"algo-1\", \"Operation\": \"training\", \"Algorithm\": \"Linear Learner\", \"epoch\": 0}, \"StartTime\": 1606790299.406862}\n",
      "\u001b[0m\n",
      "\u001b[34m#metrics {\"Metrics\": {\"train_absolute_loss_objective\": {\"count\": 1, \"max\": 0.637979362487793, \"sum\": 0.637979362487793, \"min\": 0.637979362487793}}, \"EndTime\": 1606790299.406929, \"Dimensions\": {\"model\": 18, \"Host\": \"algo-1\", \"Operation\": \"training\", \"Algorithm\": \"Linear Learner\", \"epoch\": 0}, \"StartTime\": 1606790299.406916}\n",
      "\u001b[0m\n",
      "\u001b[34m#metrics {\"Metrics\": {\"train_absolute_loss_objective\": {\"count\": 1, \"max\": 0.6787310981750488, \"sum\": 0.6787310981750488, \"min\": 0.6787310981750488}}, \"EndTime\": 1606790299.406985, \"Dimensions\": {\"model\": 19, \"Host\": \"algo-1\", \"Operation\": \"training\", \"Algorithm\": \"Linear Learner\", \"epoch\": 0}, \"StartTime\": 1606790299.406969}\n",
      "\u001b[0m\n",
      "\u001b[34m#metrics {\"Metrics\": {\"train_absolute_loss_objective\": {\"count\": 1, \"max\": 0.5931880950927735, \"sum\": 0.5931880950927735, \"min\": 0.5931880950927735}}, \"EndTime\": 1606790299.407053, \"Dimensions\": {\"model\": 20, \"Host\": \"algo-1\", \"Operation\": \"training\", \"Algorithm\": \"Linear Learner\", \"epoch\": 0}, \"StartTime\": 1606790299.407036}\n",
      "\u001b[0m\n",
      "\u001b[34m#metrics {\"Metrics\": {\"train_absolute_loss_objective\": {\"count\": 1, \"max\": 0.6557286376953125, \"sum\": 0.6557286376953125, \"min\": 0.6557286376953125}}, \"EndTime\": 1606790299.407113, \"Dimensions\": {\"model\": 21, \"Host\": \"algo-1\", \"Operation\": \"training\", \"Algorithm\": \"Linear Learner\", \"epoch\": 0}, \"StartTime\": 1606790299.407096}\n",
      "\u001b[0m\n",
      "\u001b[34m#metrics {\"Metrics\": {\"train_absolute_loss_objective\": {\"count\": 1, \"max\": 0.6494948768615723, \"sum\": 0.6494948768615723, \"min\": 0.6494948768615723}}, \"EndTime\": 1606790299.407178, \"Dimensions\": {\"model\": 22, \"Host\": \"algo-1\", \"Operation\": \"training\", \"Algorithm\": \"Linear Learner\", \"epoch\": 0}, \"StartTime\": 1606790299.40716}\n",
      "\u001b[0m\n",
      "\u001b[34m#metrics {\"Metrics\": {\"train_absolute_loss_objective\": {\"count\": 1, \"max\": 0.6348883781433106, \"sum\": 0.6348883781433106, \"min\": 0.6348883781433106}}, \"EndTime\": 1606790299.407235, \"Dimensions\": {\"model\": 23, \"Host\": \"algo-1\", \"Operation\": \"training\", \"Algorithm\": \"Linear Learner\", \"epoch\": 0}, \"StartTime\": 1606790299.407219}\n",
      "\u001b[0m\n",
      "\u001b[34m#metrics {\"Metrics\": {\"train_absolute_loss_objective\": {\"count\": 1, \"max\": 0.6950400161743164, \"sum\": 0.6950400161743164, \"min\": 0.6950400161743164}}, \"EndTime\": 1606790299.407294, \"Dimensions\": {\"model\": 24, \"Host\": \"algo-1\", \"Operation\": \"training\", \"Algorithm\": \"Linear Learner\", \"epoch\": 0}, \"StartTime\": 1606790299.407278}\n",
      "\u001b[0m\n",
      "\u001b[34m#metrics {\"Metrics\": {\"train_absolute_loss_objective\": {\"count\": 1, \"max\": 0.6726714935302734, \"sum\": 0.6726714935302734, \"min\": 0.6726714935302734}}, \"EndTime\": 1606790299.407354, \"Dimensions\": {\"model\": 25, \"Host\": \"algo-1\", \"Operation\": \"training\", \"Algorithm\": \"Linear Learner\", \"epoch\": 0}, \"StartTime\": 1606790299.407337}\n",
      "\u001b[0m\n",
      "\u001b[34m#metrics {\"Metrics\": {\"train_absolute_loss_objective\": {\"count\": 1, \"max\": 0.6852154159545898, \"sum\": 0.6852154159545898, \"min\": 0.6852154159545898}}, \"EndTime\": 1606790299.407413, \"Dimensions\": {\"model\": 26, \"Host\": \"algo-1\", \"Operation\": \"training\", \"Algorithm\": \"Linear Learner\", \"epoch\": 0}, \"StartTime\": 1606790299.407396}\n",
      "\u001b[0m\n",
      "\u001b[34m#metrics {\"Metrics\": {\"train_absolute_loss_objective\": {\"count\": 1, \"max\": 0.7135021476745605, \"sum\": 0.7135021476745605, \"min\": 0.7135021476745605}}, \"EndTime\": 1606790299.407474, \"Dimensions\": {\"model\": 27, \"Host\": \"algo-1\", \"Operation\": \"training\", \"Algorithm\": \"Linear Learner\", \"epoch\": 0}, \"StartTime\": 1606790299.407457}\n",
      "\u001b[0m\n",
      "\u001b[34m#metrics {\"Metrics\": {\"train_absolute_loss_objective\": {\"count\": 1, \"max\": 0.8061795272827148, \"sum\": 0.8061795272827148, \"min\": 0.8061795272827148}}, \"EndTime\": 1606790299.407535, \"Dimensions\": {\"model\": 28, \"Host\": \"algo-1\", \"Operation\": \"training\", \"Algorithm\": \"Linear Learner\", \"epoch\": 0}, \"StartTime\": 1606790299.407518}\n",
      "\u001b[0m\n",
      "\u001b[34m#metrics {\"Metrics\": {\"train_absolute_loss_objective\": {\"count\": 1, \"max\": 0.8014142532348633, \"sum\": 0.8014142532348633, \"min\": 0.8014142532348633}}, \"EndTime\": 1606790299.407592, \"Dimensions\": {\"model\": 29, \"Host\": \"algo-1\", \"Operation\": \"training\", \"Algorithm\": \"Linear Learner\", \"epoch\": 0}, \"StartTime\": 1606790299.407577}\n",
      "\u001b[0m\n",
      "\u001b[34m#metrics {\"Metrics\": {\"train_absolute_loss_objective\": {\"count\": 1, \"max\": 0.7953996887207031, \"sum\": 0.7953996887207031, \"min\": 0.7953996887207031}}, \"EndTime\": 1606790299.407649, \"Dimensions\": {\"model\": 30, \"Host\": \"algo-1\", \"Operation\": \"training\", \"Algorithm\": \"Linear Learner\", \"epoch\": 0}, \"StartTime\": 1606790299.407632}\n",
      "\u001b[0m\n",
      "\u001b[34m#metrics {\"Metrics\": {\"train_absolute_loss_objective\": {\"count\": 1, \"max\": 0.7799989204406739, \"sum\": 0.7799989204406739, \"min\": 0.7799989204406739}}, \"EndTime\": 1606790299.407703, \"Dimensions\": {\"model\": 31, \"Host\": \"algo-1\", \"Operation\": \"training\", \"Algorithm\": \"Linear Learner\", \"epoch\": 0}, \"StartTime\": 1606790299.407687}\n",
      "\u001b[0m\n",
      "\u001b[34m[12/01/2020 02:38:19 INFO 139642506053440] #quality_metric: host=algo-1, epoch=0, train absolute_loss_objective <loss>=0.673010986328\u001b[0m\n",
      "\u001b[34m[12/01/2020 02:38:19 INFO 139642506053440] #early_stopping_criteria_metric: host=algo-1, epoch=0, criteria=absolute_loss_objective, value=0.593188095093\u001b[0m\n",
      "\u001b[34m[12/01/2020 02:38:19 INFO 139642506053440] Epoch 0: Loss improved. Updating best model\u001b[0m\n",
      "\u001b[34m[12/01/2020 02:38:19 INFO 139642506053440] Saving model for epoch: 0\u001b[0m\n",
      "\u001b[34m[12/01/2020 02:38:19 INFO 139642506053440] Saved checkpoint to \"/tmp/tmpMVJW5T/mx-mod-0000.params\"\u001b[0m\n",
      "\u001b[34m[12/01/2020 02:38:19 INFO 139642506053440] #progress_metric: host=algo-1, completed 1 % of epochs\u001b[0m\n",
      "\u001b[34m#metrics {\"Metrics\": {\"Max Batches Seen Between Resets\": {\"count\": 1, \"max\": 11, \"sum\": 11.0, \"min\": 11}, \"Number of Batches Since Last Reset\": {\"count\": 1, \"max\": 11, \"sum\": 11.0, \"min\": 11}, \"Number of Records Since Last Reset\": {\"count\": 1, \"max\": 1070, \"sum\": 1070.0, \"min\": 1070}, \"Total Batches Seen\": {\"count\": 1, \"max\": 23, \"sum\": 23.0, \"min\": 23}, \"Total Records Seen\": {\"count\": 1, \"max\": 2240, \"sum\": 2240.0, \"min\": 2240}, \"Max Records Seen Between Resets\": {\"count\": 1, \"max\": 1070, \"sum\": 1070.0, \"min\": 1070}, \"Reset Count\": {\"count\": 1, \"max\": 3, \"sum\": 3.0, \"min\": 3}}, \"EndTime\": 1606790299.41858, \"Dimensions\": {\"Host\": \"algo-1\", \"Meta\": \"training_data_iter\", \"Operation\": \"training\", \"Algorithm\": \"Linear Learner\", \"epoch\": 0}, \"StartTime\": 1606790299.205178}\n",
      "\u001b[0m\n",
      "\u001b[34m[12/01/2020 02:38:19 INFO 139642506053440] #throughput_metric: host=algo-1, train throughput=5011.09910417 records/second\u001b[0m\n",
      "\u001b[34m[2020-12-01 02:38:19.610] [tensorio] [info] epoch_stats={\"data_pipeline\": \"/opt/ml/input/data/train\", \"epoch\": 6, \"duration\": 191, \"num_examples\": 11, \"num_bytes\": 81320}\u001b[0m\n",
      "\u001b[34m#metrics {\"Metrics\": {\"train_absolute_loss_objective\": {\"count\": 1, \"max\": 0.6161223068237305, \"sum\": 0.6161223068237305, \"min\": 0.6161223068237305}}, \"EndTime\": 1606790299.610658, \"Dimensions\": {\"model\": 0, \"Host\": \"algo-1\", \"Operation\": \"training\", \"Algorithm\": \"Linear Learner\", \"epoch\": 1}, \"StartTime\": 1606790299.610599}\n",
      "\u001b[0m\n",
      "\u001b[34m#metrics {\"Metrics\": {\"train_absolute_loss_objective\": {\"count\": 1, \"max\": 0.6395389823913574, \"sum\": 0.6395389823913574, \"min\": 0.6395389823913574}}, \"EndTime\": 1606790299.610737, \"Dimensions\": {\"model\": 1, \"Host\": \"algo-1\", \"Operation\": \"training\", \"Algorithm\": \"Linear Learner\", \"epoch\": 1}, \"StartTime\": 1606790299.610723}\n",
      "\u001b[0m\n",
      "\u001b[34m#metrics {\"Metrics\": {\"train_absolute_loss_objective\": {\"count\": 1, \"max\": 0.6328166198730468, \"sum\": 0.6328166198730468, \"min\": 0.6328166198730468}}, \"EndTime\": 1606790299.610787, \"Dimensions\": {\"model\": 2, \"Host\": \"algo-1\", \"Operation\": \"training\", \"Algorithm\": \"Linear Learner\", \"epoch\": 1}, \"StartTime\": 1606790299.610771}\n",
      "\u001b[0m\n",
      "\u001b[34m#metrics {\"Metrics\": {\"train_absolute_loss_objective\": {\"count\": 1, \"max\": 0.5946420249938965, \"sum\": 0.5946420249938965, \"min\": 0.5946420249938965}}, \"EndTime\": 1606790299.610843, \"Dimensions\": {\"model\": 3, \"Host\": \"algo-1\", \"Operation\": \"training\", \"Algorithm\": \"Linear Learner\", \"epoch\": 1}, \"StartTime\": 1606790299.610826}\n",
      "\u001b[0m\n",
      "\u001b[34m#metrics {\"Metrics\": {\"train_absolute_loss_objective\": {\"count\": 1, \"max\": 0.41670355224609373, \"sum\": 0.41670355224609373, \"min\": 0.41670355224609373}}, \"EndTime\": 1606790299.610895, \"Dimensions\": {\"model\": 4, \"Host\": \"algo-1\", \"Operation\": \"training\", \"Algorithm\": \"Linear Learner\", \"epoch\": 1}, \"StartTime\": 1606790299.610881}\n",
      "\u001b[0m\n",
      "\u001b[34m#metrics {\"Metrics\": {\"train_absolute_loss_objective\": {\"count\": 1, \"max\": 0.38474817848205567, \"sum\": 0.38474817848205567, \"min\": 0.38474817848205567}}, \"EndTime\": 1606790299.610949, \"Dimensions\": {\"model\": 5, \"Host\": \"algo-1\", \"Operation\": \"training\", \"Algorithm\": \"Linear Learner\", \"epoch\": 1}, \"StartTime\": 1606790299.610935}\n",
      "\u001b[0m\n",
      "\u001b[34m#metrics {\"Metrics\": {\"train_absolute_loss_objective\": {\"count\": 1, \"max\": 0.3863069496154785, \"sum\": 0.3863069496154785, \"min\": 0.3863069496154785}}, \"EndTime\": 1606790299.611008, \"Dimensions\": {\"model\": 6, \"Host\": \"algo-1\", \"Operation\": \"training\", \"Algorithm\": \"Linear Learner\", \"epoch\": 1}, \"StartTime\": 1606790299.610991}\n",
      "\u001b[0m\n",
      "\u001b[34m#metrics {\"Metrics\": {\"train_absolute_loss_objective\": {\"count\": 1, \"max\": 0.4497483139038086, \"sum\": 0.4497483139038086, \"min\": 0.4497483139038086}}, \"EndTime\": 1606790299.611065, \"Dimensions\": {\"model\": 7, \"Host\": \"algo-1\", \"Operation\": \"training\", \"Algorithm\": \"Linear Learner\", \"epoch\": 1}, \"StartTime\": 1606790299.611049}\n",
      "\u001b[0m\n",
      "\u001b[34m#metrics {\"Metrics\": {\"train_absolute_loss_objective\": {\"count\": 1, \"max\": 0.5720843009948731, \"sum\": 0.5720843009948731, \"min\": 0.5720843009948731}}, \"EndTime\": 1606790299.61112, \"Dimensions\": {\"model\": 8, \"Host\": \"algo-1\", \"Operation\": \"training\", \"Algorithm\": \"Linear Learner\", \"epoch\": 1}, \"StartTime\": 1606790299.611104}\n",
      "\u001b[0m\n",
      "\u001b[34m#metrics {\"Metrics\": {\"train_absolute_loss_objective\": {\"count\": 1, \"max\": 0.6629969329833985, \"sum\": 0.6629969329833985, \"min\": 0.6629969329833985}}, \"EndTime\": 1606790299.61118, \"Dimensions\": {\"model\": 9, \"Host\": \"algo-1\", \"Operation\": \"training\", \"Algorithm\": \"Linear Learner\", \"epoch\": 1}, \"StartTime\": 1606790299.611163}\n",
      "\u001b[0m\n",
      "\u001b[34m#metrics {\"Metrics\": {\"train_absolute_loss_objective\": {\"count\": 1, \"max\": 0.6299298362731933, \"sum\": 0.6299298362731933, \"min\": 0.6299298362731933}}, \"EndTime\": 1606790299.611237, \"Dimensions\": {\"model\": 10, \"Host\": \"algo-1\", \"Operation\": \"training\", \"Algorithm\": \"Linear Learner\", \"epoch\": 1}, \"StartTime\": 1606790299.611221}\n",
      "\u001b[0m\n",
      "\u001b[34m#metrics {\"Metrics\": {\"train_absolute_loss_objective\": {\"count\": 1, \"max\": 0.5851216239929199, \"sum\": 0.5851216239929199, \"min\": 0.5851216239929199}}, \"EndTime\": 1606790299.611293, \"Dimensions\": {\"model\": 11, \"Host\": \"algo-1\", \"Operation\": \"training\", \"Algorithm\": \"Linear Learner\", \"epoch\": 1}, \"StartTime\": 1606790299.611277}\n",
      "\u001b[0m\n",
      "\u001b[34m#metrics {\"Metrics\": {\"train_absolute_loss_objective\": {\"count\": 1, \"max\": 0.41988521385192873, \"sum\": 0.41988521385192873, \"min\": 0.41988521385192873}}, \"EndTime\": 1606790299.611351, \"Dimensions\": {\"model\": 12, \"Host\": \"algo-1\", \"Operation\": \"training\", \"Algorithm\": \"Linear Learner\", \"epoch\": 1}, \"StartTime\": 1606790299.611334}\n",
      "\u001b[0m\n",
      "\u001b[34m#metrics {\"Metrics\": {\"train_absolute_loss_objective\": {\"count\": 1, \"max\": 0.3871382484436035, \"sum\": 0.3871382484436035, \"min\": 0.3871382484436035}}, \"EndTime\": 1606790299.61141, \"Dimensions\": {\"model\": 13, \"Host\": \"algo-1\", \"Operation\": \"training\", \"Algorithm\": \"Linear Learner\", \"epoch\": 1}, \"StartTime\": 1606790299.611393}\n",
      "\u001b[0m\n",
      "\u001b[34m#metrics {\"Metrics\": {\"train_absolute_loss_objective\": {\"count\": 1, \"max\": 0.44095783233642577, \"sum\": 0.44095783233642577, \"min\": 0.44095783233642577}}, \"EndTime\": 1606790299.611469, \"Dimensions\": {\"model\": 14, \"Host\": \"algo-1\", \"Operation\": \"training\", \"Algorithm\": \"Linear Learner\", \"epoch\": 1}, \"StartTime\": 1606790299.611452}\n",
      "\u001b[0m\n",
      "\u001b[34m#metrics {\"Metrics\": {\"train_absolute_loss_objective\": {\"count\": 1, \"max\": 0.38875928115844727, \"sum\": 0.38875928115844727, \"min\": 0.38875928115844727}}, \"EndTime\": 1606790299.611528, \"Dimensions\": {\"model\": 15, \"Host\": \"algo-1\", \"Operation\": \"training\", \"Algorithm\": \"Linear Learner\", \"epoch\": 1}, \"StartTime\": 1606790299.611511}\n",
      "\u001b[0m\n",
      "\u001b[34m#metrics {\"Metrics\": {\"train_absolute_loss_objective\": {\"count\": 1, \"max\": 0.638409164428711, \"sum\": 0.638409164428711, \"min\": 0.638409164428711}}, \"EndTime\": 1606790299.611586, \"Dimensions\": {\"model\": 16, \"Host\": \"algo-1\", \"Operation\": \"training\", \"Algorithm\": \"Linear Learner\", \"epoch\": 1}, \"StartTime\": 1606790299.61157}\n",
      "\u001b[0m\n",
      "\u001b[34m#metrics {\"Metrics\": {\"train_absolute_loss_objective\": {\"count\": 1, \"max\": 0.6588584671020508, \"sum\": 0.6588584671020508, \"min\": 0.6588584671020508}}, \"EndTime\": 1606790299.611646, \"Dimensions\": {\"model\": 17, \"Host\": \"algo-1\", \"Operation\": \"training\", \"Algorithm\": \"Linear Learner\", \"epoch\": 1}, \"StartTime\": 1606790299.61163}\n",
      "\u001b[0m\n",
      "\u001b[34m#metrics {\"Metrics\": {\"train_absolute_loss_objective\": {\"count\": 1, \"max\": 0.5814039344787598, \"sum\": 0.5814039344787598, \"min\": 0.5814039344787598}}, \"EndTime\": 1606790299.611705, \"Dimensions\": {\"model\": 18, \"Host\": \"algo-1\", \"Operation\": \"training\", \"Algorithm\": \"Linear Learner\", \"epoch\": 1}, \"StartTime\": 1606790299.611689}\n",
      "\u001b[0m\n",
      "\u001b[34m#metrics {\"Metrics\": {\"train_absolute_loss_objective\": {\"count\": 1, \"max\": 0.6182805366516113, \"sum\": 0.6182805366516113, \"min\": 0.6182805366516113}}, \"EndTime\": 1606790299.611769, \"Dimensions\": {\"model\": 19, \"Host\": \"algo-1\", \"Operation\": \"training\", \"Algorithm\": \"Linear Learner\", \"epoch\": 1}, \"StartTime\": 1606790299.611753}\n",
      "\u001b[0m\n",
      "\u001b[34m#metrics {\"Metrics\": {\"train_absolute_loss_objective\": {\"count\": 1, \"max\": 0.4329282970428467, \"sum\": 0.4329282970428467, \"min\": 0.4329282970428467}}, \"EndTime\": 1606790299.611829, \"Dimensions\": {\"model\": 20, \"Host\": \"algo-1\", \"Operation\": \"training\", \"Algorithm\": \"Linear Learner\", \"epoch\": 1}, \"StartTime\": 1606790299.611812}\n",
      "\u001b[0m\n",
      "\u001b[34m#metrics {\"Metrics\": {\"train_absolute_loss_objective\": {\"count\": 1, \"max\": 0.476691593170166, \"sum\": 0.476691593170166, \"min\": 0.476691593170166}}, \"EndTime\": 1606790299.611887, \"Dimensions\": {\"model\": 21, \"Host\": \"algo-1\", \"Operation\": \"training\", \"Algorithm\": \"Linear Learner\", \"epoch\": 1}, \"StartTime\": 1606790299.611871}\n",
      "\u001b[0m\n",
      "\u001b[34m#metrics {\"Metrics\": {\"train_absolute_loss_objective\": {\"count\": 1, \"max\": 0.47193996810913086, \"sum\": 0.47193996810913086, \"min\": 0.47193996810913086}}, \"EndTime\": 1606790299.611947, \"Dimensions\": {\"model\": 22, \"Host\": \"algo-1\", \"Operation\": \"training\", \"Algorithm\": \"Linear Learner\", \"epoch\": 1}, \"StartTime\": 1606790299.61193}\n",
      "\u001b[0m\n",
      "\u001b[34m#metrics {\"Metrics\": {\"train_absolute_loss_objective\": {\"count\": 1, \"max\": 0.49374486541748047, \"sum\": 0.49374486541748047, \"min\": 0.49374486541748047}}, \"EndTime\": 1606790299.612005, \"Dimensions\": {\"model\": 23, \"Host\": \"algo-1\", \"Operation\": \"training\", \"Algorithm\": \"Linear Learner\", \"epoch\": 1}, \"StartTime\": 1606790299.611989}\n",
      "\u001b[0m\n",
      "\u001b[34m#metrics {\"Metrics\": {\"train_absolute_loss_objective\": {\"count\": 1, \"max\": 0.6874430046081543, \"sum\": 0.6874430046081543, \"min\": 0.6874430046081543}}, \"EndTime\": 1606790299.612064, \"Dimensions\": {\"model\": 24, \"Host\": \"algo-1\", \"Operation\": \"training\", \"Algorithm\": \"Linear Learner\", \"epoch\": 1}, \"StartTime\": 1606790299.612048}\n",
      "\u001b[0m\n",
      "\u001b[34m#metrics {\"Metrics\": {\"train_absolute_loss_objective\": {\"count\": 1, \"max\": 0.6934812240600586, \"sum\": 0.6934812240600586, \"min\": 0.6934812240600586}}, \"EndTime\": 1606790299.612122, \"Dimensions\": {\"model\": 25, \"Host\": \"algo-1\", \"Operation\": \"training\", \"Algorithm\": \"Linear Learner\", \"epoch\": 1}, \"StartTime\": 1606790299.612106}\n",
      "\u001b[0m\n",
      "\u001b[34m#metrics {\"Metrics\": {\"train_absolute_loss_objective\": {\"count\": 1, \"max\": 0.6952028083801269, \"sum\": 0.6952028083801269, \"min\": 0.6952028083801269}}, \"EndTime\": 1606790299.612175, \"Dimensions\": {\"model\": 26, \"Host\": \"algo-1\", \"Operation\": \"training\", \"Algorithm\": \"Linear Learner\", \"epoch\": 1}, \"StartTime\": 1606790299.612161}\n",
      "\u001b[0m\n",
      "\u001b[34m#metrics {\"Metrics\": {\"train_absolute_loss_objective\": {\"count\": 1, \"max\": 0.6782864608764648, \"sum\": 0.6782864608764648, \"min\": 0.6782864608764648}}, \"EndTime\": 1606790299.612232, \"Dimensions\": {\"model\": 27, \"Host\": \"algo-1\", \"Operation\": \"training\", \"Algorithm\": \"Linear Learner\", \"epoch\": 1}, \"StartTime\": 1606790299.612216}\n",
      "\u001b[0m\n",
      "\u001b[34m#metrics {\"Metrics\": {\"train_absolute_loss_objective\": {\"count\": 1, \"max\": 0.7597106399536133, \"sum\": 0.7597106399536133, \"min\": 0.7597106399536133}}, \"EndTime\": 1606790299.612291, \"Dimensions\": {\"model\": 28, \"Host\": \"algo-1\", \"Operation\": \"training\", \"Algorithm\": \"Linear Learner\", \"epoch\": 1}, \"StartTime\": 1606790299.612275}\n",
      "\u001b[0m\n",
      "\u001b[34m#metrics {\"Metrics\": {\"train_absolute_loss_objective\": {\"count\": 1, \"max\": 0.730431900024414, \"sum\": 0.730431900024414, \"min\": 0.730431900024414}}, \"EndTime\": 1606790299.612348, \"Dimensions\": {\"model\": 29, \"Host\": \"algo-1\", \"Operation\": \"training\", \"Algorithm\": \"Linear Learner\", \"epoch\": 1}, \"StartTime\": 1606790299.612332}\n",
      "\u001b[0m\n",
      "\u001b[34m#metrics {\"Metrics\": {\"train_absolute_loss_objective\": {\"count\": 1, \"max\": 0.7171614189147949, \"sum\": 0.7171614189147949, \"min\": 0.7171614189147949}}, \"EndTime\": 1606790299.612404, \"Dimensions\": {\"model\": 30, \"Host\": \"algo-1\", \"Operation\": \"training\", \"Algorithm\": \"Linear Learner\", \"epoch\": 1}, \"StartTime\": 1606790299.612389}\n",
      "\u001b[0m\n",
      "\u001b[34m#metrics {\"Metrics\": {\"train_absolute_loss_objective\": {\"count\": 1, \"max\": 0.7309526824951171, \"sum\": 0.7309526824951171, \"min\": 0.7309526824951171}}, \"EndTime\": 1606790299.612456, \"Dimensions\": {\"model\": 31, \"Host\": \"algo-1\", \"Operation\": \"training\", \"Algorithm\": \"Linear Learner\", \"epoch\": 1}, \"StartTime\": 1606790299.61244}\n",
      "\u001b[0m\n",
      "\u001b[34m[12/01/2020 02:38:19 INFO 139642506053440] #quality_metric: host=algo-1, epoch=1, train absolute_loss_objective <loss>=0.616122306824\u001b[0m\n",
      "\u001b[34m[12/01/2020 02:38:19 INFO 139642506053440] #early_stopping_criteria_metric: host=algo-1, epoch=1, criteria=absolute_loss_objective, value=0.384748178482\u001b[0m\n",
      "\u001b[34m[12/01/2020 02:38:19 INFO 139642506053440] Epoch 1: Loss improved. Updating best model\u001b[0m\n",
      "\u001b[34m[12/01/2020 02:38:19 INFO 139642506053440] Saving model for epoch: 1\u001b[0m\n",
      "\u001b[34m[12/01/2020 02:38:19 INFO 139642506053440] Saved checkpoint to \"/tmp/tmpJssGlZ/mx-mod-0000.params\"\u001b[0m\n",
      "\u001b[34m[12/01/2020 02:38:19 INFO 139642506053440] #progress_metric: host=algo-1, completed 2 % of epochs\u001b[0m\n",
      "\u001b[34m#metrics {\"Metrics\": {\"Max Batches Seen Between Resets\": {\"count\": 1, \"max\": 11, \"sum\": 11.0, \"min\": 11}, \"Number of Batches Since Last Reset\": {\"count\": 1, \"max\": 11, \"sum\": 11.0, \"min\": 11}, \"Number of Records Since Last Reset\": {\"count\": 1, \"max\": 1070, \"sum\": 1070.0, \"min\": 1070}, \"Total Batches Seen\": {\"count\": 1, \"max\": 34, \"sum\": 34.0, \"min\": 34}, \"Total Records Seen\": {\"count\": 1, \"max\": 3310, \"sum\": 3310.0, \"min\": 3310}, \"Max Records Seen Between Resets\": {\"count\": 1, \"max\": 1070, \"sum\": 1070.0, \"min\": 1070}, \"Reset Count\": {\"count\": 1, \"max\": 4, \"sum\": 4.0, \"min\": 4}}, \"EndTime\": 1606790299.620495, \"Dimensions\": {\"Host\": \"algo-1\", \"Meta\": \"training_data_iter\", \"Operation\": \"training\", \"Algorithm\": \"Linear Learner\", \"epoch\": 1}, \"StartTime\": 1606790299.418858}\n",
      "\u001b[0m\n",
      "\u001b[34m[12/01/2020 02:38:19 INFO 139642506053440] #throughput_metric: host=algo-1, train throughput=5303.25407826 records/second\u001b[0m\n",
      "\u001b[34m[2020-12-01 02:38:19.876] [tensorio] [info] epoch_stats={\"data_pipeline\": \"/opt/ml/input/data/train\", \"epoch\": 8, \"duration\": 255, \"num_examples\": 11, \"num_bytes\": 81320}\u001b[0m\n",
      "\u001b[34m#metrics {\"Metrics\": {\"train_absolute_loss_objective\": {\"count\": 1, \"max\": 0.558382797241211, \"sum\": 0.558382797241211, \"min\": 0.558382797241211}}, \"EndTime\": 1606790299.876137, \"Dimensions\": {\"model\": 0, \"Host\": \"algo-1\", \"Operation\": \"training\", \"Algorithm\": \"Linear Learner\", \"epoch\": 2}, \"StartTime\": 1606790299.876057}\n",
      "\u001b[0m\n",
      "\u001b[34m#metrics {\"Metrics\": {\"train_absolute_loss_objective\": {\"count\": 1, \"max\": 0.5826581993103027, \"sum\": 0.5826581993103027, \"min\": 0.5826581993103027}}, \"EndTime\": 1606790299.876205, \"Dimensions\": {\"model\": 1, \"Host\": \"algo-1\", \"Operation\": \"training\", \"Algorithm\": \"Linear Learner\", \"epoch\": 2}, \"StartTime\": 1606790299.87619}\n",
      "\u001b[0m\n",
      "\u001b[34m#metrics {\"Metrics\": {\"train_absolute_loss_objective\": {\"count\": 1, \"max\": 0.5756309432983399, \"sum\": 0.5756309432983399, \"min\": 0.5756309432983399}}, \"EndTime\": 1606790299.876262, \"Dimensions\": {\"model\": 2, \"Host\": \"algo-1\", \"Operation\": \"training\", \"Algorithm\": \"Linear Learner\", \"epoch\": 2}, \"StartTime\": 1606790299.876245}\n",
      "\u001b[0m\n",
      "\u001b[34m#metrics {\"Metrics\": {\"train_absolute_loss_objective\": {\"count\": 1, \"max\": 0.5370612907409668, \"sum\": 0.5370612907409668, \"min\": 0.5370612907409668}}, \"EndTime\": 1606790299.876315, \"Dimensions\": {\"model\": 3, \"Host\": \"algo-1\", \"Operation\": \"training\", \"Algorithm\": \"Linear Learner\", \"epoch\": 2}, \"StartTime\": 1606790299.876303}\n",
      "\u001b[0m\n",
      "\u001b[34m#metrics {\"Metrics\": {\"train_absolute_loss_objective\": {\"count\": 1, \"max\": 0.3695432186126709, \"sum\": 0.3695432186126709, \"min\": 0.3695432186126709}}, \"EndTime\": 1606790299.876347, \"Dimensions\": {\"model\": 4, \"Host\": \"algo-1\", \"Operation\": \"training\", \"Algorithm\": \"Linear Learner\", \"epoch\": 2}, \"StartTime\": 1606790299.876339}\n",
      "\u001b[0m\n",
      "\u001b[34m#metrics {\"Metrics\": {\"train_absolute_loss_objective\": {\"count\": 1, \"max\": 0.33448731422424316, \"sum\": 0.33448731422424316, \"min\": 0.33448731422424316}}, \"EndTime\": 1606790299.876375, \"Dimensions\": {\"model\": 5, \"Host\": \"algo-1\", \"Operation\": \"training\", \"Algorithm\": \"Linear Learner\", \"epoch\": 2}, \"StartTime\": 1606790299.876367}\n",
      "\u001b[0m\n",
      "\u001b[34m#metrics {\"Metrics\": {\"train_absolute_loss_objective\": {\"count\": 1, \"max\": 0.34729369926452636, \"sum\": 0.34729369926452636, \"min\": 0.34729369926452636}}, \"EndTime\": 1606790299.876413, \"Dimensions\": {\"model\": 6, \"Host\": \"algo-1\", \"Operation\": \"training\", \"Algorithm\": \"Linear Learner\", \"epoch\": 2}, \"StartTime\": 1606790299.876399}\n",
      "\u001b[0m\n",
      "\u001b[34m#metrics {\"Metrics\": {\"train_absolute_loss_objective\": {\"count\": 1, \"max\": 0.36333049964904784, \"sum\": 0.36333049964904784, \"min\": 0.36333049964904784}}, \"EndTime\": 1606790299.876477, \"Dimensions\": {\"model\": 7, \"Host\": \"algo-1\", \"Operation\": \"training\", \"Algorithm\": \"Linear Learner\", \"epoch\": 2}, \"StartTime\": 1606790299.87646}\n",
      "\u001b[0m\n",
      "\u001b[34m#metrics {\"Metrics\": {\"train_absolute_loss_objective\": {\"count\": 1, \"max\": 0.5179574012756347, \"sum\": 0.5179574012756347, \"min\": 0.5179574012756347}}, \"EndTime\": 1606790299.876536, \"Dimensions\": {\"model\": 8, \"Host\": \"algo-1\", \"Operation\": \"training\", \"Algorithm\": \"Linear Learner\", \"epoch\": 2}, \"StartTime\": 1606790299.87652}\n",
      "\u001b[0m\n",
      "\u001b[34m#metrics {\"Metrics\": {\"train_absolute_loss_objective\": {\"count\": 1, \"max\": 0.6071353378295898, \"sum\": 0.6071353378295898, \"min\": 0.6071353378295898}}, \"EndTime\": 1606790299.876594, \"Dimensions\": {\"model\": 9, \"Host\": \"algo-1\", \"Operation\": \"training\", \"Algorithm\": \"Linear Learner\", \"epoch\": 2}, \"StartTime\": 1606790299.876577}\n",
      "\u001b[0m\n",
      "\u001b[34m#metrics {\"Metrics\": {\"train_absolute_loss_objective\": {\"count\": 1, \"max\": 0.5756329917907714, \"sum\": 0.5756329917907714, \"min\": 0.5756329917907714}}, \"EndTime\": 1606790299.876651, \"Dimensions\": {\"model\": 10, \"Host\": \"algo-1\", \"Operation\": \"training\", \"Algorithm\": \"Linear Learner\", \"epoch\": 2}, \"StartTime\": 1606790299.876636}\n",
      "\u001b[0m\n",
      "\u001b[34m#metrics {\"Metrics\": {\"train_absolute_loss_objective\": {\"count\": 1, \"max\": 0.5280703811645507, \"sum\": 0.5280703811645507, \"min\": 0.5280703811645507}}, \"EndTime\": 1606790299.876705, \"Dimensions\": {\"model\": 11, \"Host\": \"algo-1\", \"Operation\": \"training\", \"Algorithm\": \"Linear Learner\", \"epoch\": 2}, \"StartTime\": 1606790299.876691}\n",
      "\u001b[0m\n",
      "\u001b[34m#metrics {\"Metrics\": {\"train_absolute_loss_objective\": {\"count\": 1, \"max\": 0.3433074970245361, \"sum\": 0.3433074970245361, \"min\": 0.3433074970245361}}, \"EndTime\": 1606790299.87676, \"Dimensions\": {\"model\": 12, \"Host\": \"algo-1\", \"Operation\": \"training\", \"Algorithm\": \"Linear Learner\", \"epoch\": 2}, \"StartTime\": 1606790299.876744}\n",
      "\u001b[0m\n",
      "\u001b[34m#metrics {\"Metrics\": {\"train_absolute_loss_objective\": {\"count\": 1, \"max\": 0.3376656131744385, \"sum\": 0.3376656131744385, \"min\": 0.3376656131744385}}, \"EndTime\": 1606790299.876815, \"Dimensions\": {\"model\": 13, \"Host\": \"algo-1\", \"Operation\": \"training\", \"Algorithm\": \"Linear Learner\", \"epoch\": 2}, \"StartTime\": 1606790299.8768}\n",
      "\u001b[0m\n",
      "\u001b[34m#metrics {\"Metrics\": {\"train_absolute_loss_objective\": {\"count\": 1, \"max\": 0.3623881206512451, \"sum\": 0.3623881206512451, \"min\": 0.3623881206512451}}, \"EndTime\": 1606790299.87687, \"Dimensions\": {\"model\": 14, \"Host\": \"algo-1\", \"Operation\": \"training\", \"Algorithm\": \"Linear Learner\", \"epoch\": 2}, \"StartTime\": 1606790299.876854}\n",
      "\u001b[0m\n",
      "\u001b[34m#metrics {\"Metrics\": {\"train_absolute_loss_objective\": {\"count\": 1, \"max\": 0.3458713989257812, \"sum\": 0.3458713989257812, \"min\": 0.3458713989257812}}, \"EndTime\": 1606790299.876928, \"Dimensions\": {\"model\": 15, \"Host\": \"algo-1\", \"Operation\": \"training\", \"Algorithm\": \"Linear Learner\", \"epoch\": 2}, \"StartTime\": 1606790299.876911}\n",
      "\u001b[0m\n",
      "\u001b[34m#metrics {\"Metrics\": {\"train_absolute_loss_objective\": {\"count\": 1, \"max\": 0.583587532043457, \"sum\": 0.583587532043457, \"min\": 0.583587532043457}}, \"EndTime\": 1606790299.876981, \"Dimensions\": {\"model\": 16, \"Host\": \"algo-1\", \"Operation\": \"training\", \"Algorithm\": \"Linear Learner\", \"epoch\": 2}, \"StartTime\": 1606790299.876966}\n",
      "\u001b[0m\n",
      "\u001b[34m#metrics {\"Metrics\": {\"train_absolute_loss_objective\": {\"count\": 1, \"max\": 0.6061103820800782, \"sum\": 0.6061103820800782, \"min\": 0.6061103820800782}}, \"EndTime\": 1606790299.877043, \"Dimensions\": {\"model\": 17, \"Host\": \"algo-1\", \"Operation\": \"training\", \"Algorithm\": \"Linear Learner\", \"epoch\": 2}, \"StartTime\": 1606790299.877026}\n",
      "\u001b[0m\n",
      "\u001b[34m#metrics {\"Metrics\": {\"train_absolute_loss_objective\": {\"count\": 1, \"max\": 0.5308669319152832, \"sum\": 0.5308669319152832, \"min\": 0.5308669319152832}}, \"EndTime\": 1606790299.877101, \"Dimensions\": {\"model\": 18, \"Host\": \"algo-1\", \"Operation\": \"training\", \"Algorithm\": \"Linear Learner\", \"epoch\": 2}, \"StartTime\": 1606790299.877084}\n",
      "\u001b[0m\n",
      "\u001b[34m#metrics {\"Metrics\": {\"train_absolute_loss_objective\": {\"count\": 1, \"max\": 0.5637924880981445, \"sum\": 0.5637924880981445, \"min\": 0.5637924880981445}}, \"EndTime\": 1606790299.877159, \"Dimensions\": {\"model\": 19, \"Host\": \"algo-1\", \"Operation\": \"training\", \"Algorithm\": \"Linear Learner\", \"epoch\": 2}, \"StartTime\": 1606790299.877142}\n",
      "\u001b[0m\n",
      "\u001b[34m#metrics {\"Metrics\": {\"train_absolute_loss_objective\": {\"count\": 1, \"max\": 0.40003927612304685, \"sum\": 0.40003927612304685, \"min\": 0.40003927612304685}}, \"EndTime\": 1606790299.877219, \"Dimensions\": {\"model\": 20, \"Host\": \"algo-1\", \"Operation\": \"training\", \"Algorithm\": \"Linear Learner\", \"epoch\": 2}, \"StartTime\": 1606790299.877202}\n",
      "\u001b[0m\n",
      "\u001b[34m#metrics {\"Metrics\": {\"train_absolute_loss_objective\": {\"count\": 1, \"max\": 0.41501713180541994, \"sum\": 0.41501713180541994, \"min\": 0.41501713180541994}}, \"EndTime\": 1606790299.87728, \"Dimensions\": {\"model\": 21, \"Host\": \"algo-1\", \"Operation\": \"training\", \"Algorithm\": \"Linear Learner\", \"epoch\": 2}, \"StartTime\": 1606790299.877263}\n",
      "\u001b[0m\n",
      "\u001b[34m#metrics {\"Metrics\": {\"train_absolute_loss_objective\": {\"count\": 1, \"max\": 0.43105440139770507, \"sum\": 0.43105440139770507, \"min\": 0.43105440139770507}}, \"EndTime\": 1606790299.87734, \"Dimensions\": {\"model\": 22, \"Host\": \"algo-1\", \"Operation\": \"training\", \"Algorithm\": \"Linear Learner\", \"epoch\": 2}, \"StartTime\": 1606790299.877322}\n",
      "\u001b[0m\n",
      "\u001b[34m#metrics {\"Metrics\": {\"train_absolute_loss_objective\": {\"count\": 1, \"max\": 0.39859436988830566, \"sum\": 0.39859436988830566, \"min\": 0.39859436988830566}}, \"EndTime\": 1606790299.877398, \"Dimensions\": {\"model\": 23, \"Host\": \"algo-1\", \"Operation\": \"training\", \"Algorithm\": \"Linear Learner\", \"epoch\": 2}, \"StartTime\": 1606790299.877382}\n",
      "\u001b[0m\n",
      "\u001b[34m#metrics {\"Metrics\": {\"train_absolute_loss_objective\": {\"count\": 1, \"max\": 0.6813699493408203, \"sum\": 0.6813699493408203, \"min\": 0.6813699493408203}}, \"EndTime\": 1606790299.877457, \"Dimensions\": {\"model\": 24, \"Host\": \"algo-1\", \"Operation\": \"training\", \"Algorithm\": \"Linear Learner\", \"epoch\": 2}, \"StartTime\": 1606790299.877441}\n",
      "\u001b[0m\n",
      "\u001b[34m#metrics {\"Metrics\": {\"train_absolute_loss_objective\": {\"count\": 1, \"max\": 0.6907544631958008, \"sum\": 0.6907544631958008, \"min\": 0.6907544631958008}}, \"EndTime\": 1606790299.877503, \"Dimensions\": {\"model\": 25, \"Host\": \"algo-1\", \"Operation\": \"training\", \"Algorithm\": \"Linear Learner\", \"epoch\": 2}, \"StartTime\": 1606790299.877489}\n",
      "\u001b[0m\n",
      "\u001b[34m#metrics {\"Metrics\": {\"train_absolute_loss_objective\": {\"count\": 1, \"max\": 0.688426212310791, \"sum\": 0.688426212310791, \"min\": 0.688426212310791}}, \"EndTime\": 1606790299.87757, \"Dimensions\": {\"model\": 26, \"Host\": \"algo-1\", \"Operation\": \"training\", \"Algorithm\": \"Linear Learner\", \"epoch\": 2}, \"StartTime\": 1606790299.877553}\n",
      "\u001b[0m\n",
      "\u001b[34m#metrics {\"Metrics\": {\"train_absolute_loss_objective\": {\"count\": 1, \"max\": 0.684455997467041, \"sum\": 0.684455997467041, \"min\": 0.684455997467041}}, \"EndTime\": 1606790299.877637, \"Dimensions\": {\"model\": 27, \"Host\": \"algo-1\", \"Operation\": \"training\", \"Algorithm\": \"Linear Learner\", \"epoch\": 2}, \"StartTime\": 1606790299.877619}\n",
      "\u001b[0m\n",
      "\u001b[34m#metrics {\"Metrics\": {\"train_absolute_loss_objective\": {\"count\": 1, \"max\": 0.751861629486084, \"sum\": 0.751861629486084, \"min\": 0.751861629486084}}, \"EndTime\": 1606790299.877718, \"Dimensions\": {\"model\": 28, \"Host\": \"algo-1\", \"Operation\": \"training\", \"Algorithm\": \"Linear Learner\", \"epoch\": 2}, \"StartTime\": 1606790299.877701}\n",
      "\u001b[0m\n",
      "\u001b[34m#metrics {\"Metrics\": {\"train_absolute_loss_objective\": {\"count\": 1, \"max\": 0.7226048049926758, \"sum\": 0.7226048049926758, \"min\": 0.7226048049926758}}, \"EndTime\": 1606790299.877774, \"Dimensions\": {\"model\": 29, \"Host\": \"algo-1\", \"Operation\": \"training\", \"Algorithm\": \"Linear Learner\", \"epoch\": 2}, \"StartTime\": 1606790299.877762}\n",
      "\u001b[0m\n",
      "\u001b[34m#metrics {\"Metrics\": {\"train_absolute_loss_objective\": {\"count\": 1, \"max\": 0.7084259452819824, \"sum\": 0.7084259452819824, \"min\": 0.7084259452819824}}, \"EndTime\": 1606790299.877827, \"Dimensions\": {\"model\": 30, \"Host\": \"algo-1\", \"Operation\": \"training\", \"Algorithm\": \"Linear Learner\", \"epoch\": 2}, \"StartTime\": 1606790299.877811}\n",
      "\u001b[0m\n",
      "\u001b[34m#metrics {\"Metrics\": {\"train_absolute_loss_objective\": {\"count\": 1, \"max\": 0.7272841339111328, \"sum\": 0.7272841339111328, \"min\": 0.7272841339111328}}, \"EndTime\": 1606790299.877862, \"Dimensions\": {\"model\": 31, \"Host\": \"algo-1\", \"Operation\": \"training\", \"Algorithm\": \"Linear Learner\", \"epoch\": 2}, \"StartTime\": 1606790299.877853}\n",
      "\u001b[0m\n",
      "\u001b[34m[12/01/2020 02:38:19 INFO 139642506053440] #quality_metric: host=algo-1, epoch=2, train absolute_loss_objective <loss>=0.558382797241\u001b[0m\n",
      "\u001b[34m[12/01/2020 02:38:19 INFO 139642506053440] #early_stopping_criteria_metric: host=algo-1, epoch=2, criteria=absolute_loss_objective, value=0.334487314224\u001b[0m\n",
      "\u001b[34m[12/01/2020 02:38:19 INFO 139642506053440] Epoch 2: Loss improved. Updating best model\u001b[0m\n",
      "\u001b[34m[12/01/2020 02:38:19 INFO 139642506053440] Saving model for epoch: 2\u001b[0m\n",
      "\u001b[34m[12/01/2020 02:38:19 INFO 139642506053440] Saved checkpoint to \"/tmp/tmp8IlP8V/mx-mod-0000.params\"\u001b[0m\n",
      "\u001b[34m[12/01/2020 02:38:19 INFO 139642506053440] #progress_metric: host=algo-1, completed 3 % of epochs\u001b[0m\n",
      "\u001b[34m#metrics {\"Metrics\": {\"Max Batches Seen Between Resets\": {\"count\": 1, \"max\": 11, \"sum\": 11.0, \"min\": 11}, \"Number of Batches Since Last Reset\": {\"count\": 1, \"max\": 11, \"sum\": 11.0, \"min\": 11}, \"Number of Records Since Last Reset\": {\"count\": 1, \"max\": 1070, \"sum\": 1070.0, \"min\": 1070}, \"Total Batches Seen\": {\"count\": 1, \"max\": 45, \"sum\": 45.0, \"min\": 45}, \"Total Records Seen\": {\"count\": 1, \"max\": 4380, \"sum\": 4380.0, \"min\": 4380}, \"Max Records Seen Between Resets\": {\"count\": 1, \"max\": 1070, \"sum\": 1070.0, \"min\": 1070}, \"Reset Count\": {\"count\": 1, \"max\": 5, \"sum\": 5.0, \"min\": 5}}, \"EndTime\": 1606790299.885149, \"Dimensions\": {\"Host\": \"algo-1\", \"Meta\": \"training_data_iter\", \"Operation\": \"training\", \"Algorithm\": \"Linear Learner\", \"epoch\": 2}, \"StartTime\": 1606790299.620777}\n",
      "\u001b[0m\n",
      "\u001b[34m[12/01/2020 02:38:19 INFO 139642506053440] #throughput_metric: host=algo-1, train throughput=4045.41386593 records/second\u001b[0m\n",
      "\u001b[34m[2020-12-01 02:38:20.068] [tensorio] [info] epoch_stats={\"data_pipeline\": \"/opt/ml/input/data/train\", \"epoch\": 10, \"duration\": 182, \"num_examples\": 11, \"num_bytes\": 81320}\u001b[0m\n",
      "\u001b[34m#metrics {\"Metrics\": {\"train_absolute_loss_objective\": {\"count\": 1, \"max\": 0.5080464324951172, \"sum\": 0.5080464324951172, \"min\": 0.5080464324951172}}, \"EndTime\": 1606790300.068216, \"Dimensions\": {\"model\": 0, \"Host\": \"algo-1\", \"Operation\": \"training\", \"Algorithm\": \"Linear Learner\", \"epoch\": 3}, \"StartTime\": 1606790300.068136}\n",
      "\u001b[0m\n",
      "\u001b[34m#metrics {\"Metrics\": {\"train_absolute_loss_objective\": {\"count\": 1, \"max\": 0.5324119529724121, \"sum\": 0.5324119529724121, \"min\": 0.5324119529724121}}, \"EndTime\": 1606790300.068297, \"Dimensions\": {\"model\": 1, \"Host\": \"algo-1\", \"Operation\": \"training\", \"Algorithm\": \"Linear Learner\", \"epoch\": 3}, \"StartTime\": 1606790300.068278}\n",
      "\u001b[0m\n",
      "\u001b[34m#metrics {\"Metrics\": {\"train_absolute_loss_objective\": {\"count\": 1, \"max\": 0.5259386863708496, \"sum\": 0.5259386863708496, \"min\": 0.5259386863708496}}, \"EndTime\": 1606790300.068359, \"Dimensions\": {\"model\": 2, \"Host\": \"algo-1\", \"Operation\": \"training\", \"Algorithm\": \"Linear Learner\", \"epoch\": 3}, \"StartTime\": 1606790300.068342}\n",
      "\u001b[0m\n",
      "\u001b[34m#metrics {\"Metrics\": {\"train_absolute_loss_objective\": {\"count\": 1, \"max\": 0.4877933006286621, \"sum\": 0.4877933006286621, \"min\": 0.4877933006286621}}, \"EndTime\": 1606790300.068419, \"Dimensions\": {\"model\": 3, \"Host\": \"algo-1\", \"Operation\": \"training\", \"Algorithm\": \"Linear Learner\", \"epoch\": 3}, \"StartTime\": 1606790300.068403}\n",
      "\u001b[0m\n",
      "\u001b[34m#metrics {\"Metrics\": {\"train_absolute_loss_objective\": {\"count\": 1, \"max\": 0.3330460758209228, \"sum\": 0.3330460758209228, \"min\": 0.3330460758209228}}, \"EndTime\": 1606790300.068475, \"Dimensions\": {\"model\": 4, \"Host\": \"algo-1\", \"Operation\": \"training\", \"Algorithm\": \"Linear Learner\", \"epoch\": 3}, \"StartTime\": 1606790300.068459}\n",
      "\u001b[0m\n",
      "\u001b[34m#metrics {\"Metrics\": {\"train_absolute_loss_objective\": {\"count\": 1, \"max\": 0.30845301246643064, \"sum\": 0.30845301246643064, \"min\": 0.30845301246643064}}, \"EndTime\": 1606790300.068534, \"Dimensions\": {\"model\": 5, \"Host\": \"algo-1\", \"Operation\": \"training\", \"Algorithm\": \"Linear Learner\", \"epoch\": 3}, \"StartTime\": 1606790300.068517}\n",
      "\u001b[0m\n",
      "\u001b[34m#metrics {\"Metrics\": {\"train_absolute_loss_objective\": {\"count\": 1, \"max\": 0.3097321357727051, \"sum\": 0.3097321357727051, \"min\": 0.3097321357727051}}, \"EndTime\": 1606790300.068596, \"Dimensions\": {\"model\": 6, \"Host\": \"algo-1\", \"Operation\": \"training\", \"Algorithm\": \"Linear Learner\", \"epoch\": 3}, \"StartTime\": 1606790300.068578}\n",
      "\u001b[0m\n",
      "\u001b[34m#metrics {\"Metrics\": {\"train_absolute_loss_objective\": {\"count\": 1, \"max\": 0.335880277633667, \"sum\": 0.335880277633667, \"min\": 0.335880277633667}}, \"EndTime\": 1606790300.068657, \"Dimensions\": {\"model\": 7, \"Host\": \"algo-1\", \"Operation\": \"training\", \"Algorithm\": \"Linear Learner\", \"epoch\": 3}, \"StartTime\": 1606790300.068639}\n",
      "\u001b[0m\n",
      "\u001b[34m#metrics {\"Metrics\": {\"train_absolute_loss_objective\": {\"count\": 1, \"max\": 0.4713318977355957, \"sum\": 0.4713318977355957, \"min\": 0.4713318977355957}}, \"EndTime\": 1606790300.068717, \"Dimensions\": {\"model\": 8, \"Host\": \"algo-1\", \"Operation\": \"training\", \"Algorithm\": \"Linear Learner\", \"epoch\": 3}, \"StartTime\": 1606790300.0687}\n",
      "\u001b[0m\n",
      "\u001b[34m#metrics {\"Metrics\": {\"train_absolute_loss_objective\": {\"count\": 1, \"max\": 0.5563970260620117, \"sum\": 0.5563970260620117, \"min\": 0.5563970260620117}}, \"EndTime\": 1606790300.068777, \"Dimensions\": {\"model\": 9, \"Host\": \"algo-1\", \"Operation\": \"training\", \"Algorithm\": \"Linear Learner\", \"epoch\": 3}, \"StartTime\": 1606790300.06876}\n",
      "\u001b[0m\n",
      "\u001b[34m#metrics {\"Metrics\": {\"train_absolute_loss_objective\": {\"count\": 1, \"max\": 0.5276106643676758, \"sum\": 0.5276106643676758, \"min\": 0.5276106643676758}}, \"EndTime\": 1606790300.068836, \"Dimensions\": {\"model\": 10, \"Host\": \"algo-1\", \"Operation\": \"training\", \"Algorithm\": \"Linear Learner\", \"epoch\": 3}, \"StartTime\": 1606790300.06882}\n",
      "\u001b[0m\n",
      "\u001b[34m#metrics {\"Metrics\": {\"train_absolute_loss_objective\": {\"count\": 1, \"max\": 0.4782372398376465, \"sum\": 0.4782372398376465, \"min\": 0.4782372398376465}}, \"EndTime\": 1606790300.0689, \"Dimensions\": {\"model\": 11, \"Host\": \"algo-1\", \"Operation\": \"training\", \"Algorithm\": \"Linear Learner\", \"epoch\": 3}, \"StartTime\": 1606790300.068883}\n",
      "\u001b[0m\n",
      "\u001b[34m#metrics {\"Metrics\": {\"train_absolute_loss_objective\": {\"count\": 1, \"max\": 0.3185213489532471, \"sum\": 0.3185213489532471, \"min\": 0.3185213489532471}}, \"EndTime\": 1606790300.068959, \"Dimensions\": {\"model\": 12, \"Host\": \"algo-1\", \"Operation\": \"training\", \"Algorithm\": \"Linear Learner\", \"epoch\": 3}, \"StartTime\": 1606790300.068942}\n",
      "\u001b[0m\n",
      "\u001b[34m#metrics {\"Metrics\": {\"train_absolute_loss_objective\": {\"count\": 1, \"max\": 0.31509969902038576, \"sum\": 0.31509969902038576, \"min\": 0.31509969902038576}}, \"EndTime\": 1606790300.069017, \"Dimensions\": {\"model\": 13, \"Host\": \"algo-1\", \"Operation\": \"training\", \"Algorithm\": \"Linear Learner\", \"epoch\": 3}, \"StartTime\": 1606790300.069001}\n",
      "\u001b[0m\n",
      "\u001b[34m#metrics {\"Metrics\": {\"train_absolute_loss_objective\": {\"count\": 1, \"max\": 0.36068833541870116, \"sum\": 0.36068833541870116, \"min\": 0.36068833541870116}}, \"EndTime\": 1606790300.069077, \"Dimensions\": {\"model\": 14, \"Host\": \"algo-1\", \"Operation\": \"training\", \"Algorithm\": \"Linear Learner\", \"epoch\": 3}, \"StartTime\": 1606790300.06906}\n",
      "\u001b[0m\n",
      "\u001b[34m#metrics {\"Metrics\": {\"train_absolute_loss_objective\": {\"count\": 1, \"max\": 0.307427619934082, \"sum\": 0.307427619934082, \"min\": 0.307427619934082}}, \"EndTime\": 1606790300.069137, \"Dimensions\": {\"model\": 15, \"Host\": \"algo-1\", \"Operation\": \"training\", \"Algorithm\": \"Linear Learner\", \"epoch\": 3}, \"StartTime\": 1606790300.06912}\n",
      "\u001b[0m\n",
      "\u001b[34m#metrics {\"Metrics\": {\"train_absolute_loss_objective\": {\"count\": 1, \"max\": 0.5388292694091796, \"sum\": 0.5388292694091796, \"min\": 0.5388292694091796}}, \"EndTime\": 1606790300.069196, \"Dimensions\": {\"model\": 16, \"Host\": \"algo-1\", \"Operation\": \"training\", \"Algorithm\": \"Linear Learner\", \"epoch\": 3}, \"StartTime\": 1606790300.06918}\n",
      "\u001b[0m\n",
      "\u001b[34m#metrics {\"Metrics\": {\"train_absolute_loss_objective\": {\"count\": 1, \"max\": 0.560389518737793, \"sum\": 0.560389518737793, \"min\": 0.560389518737793}}, \"EndTime\": 1606790300.069254, \"Dimensions\": {\"model\": 17, \"Host\": \"algo-1\", \"Operation\": \"training\", \"Algorithm\": \"Linear Learner\", \"epoch\": 3}, \"StartTime\": 1606790300.069237}\n",
      "\u001b[0m\n",
      "\u001b[34m#metrics {\"Metrics\": {\"train_absolute_loss_objective\": {\"count\": 1, \"max\": 0.48751355743408203, \"sum\": 0.48751355743408203, \"min\": 0.48751355743408203}}, \"EndTime\": 1606790300.069314, \"Dimensions\": {\"model\": 18, \"Host\": \"algo-1\", \"Operation\": \"training\", \"Algorithm\": \"Linear Learner\", \"epoch\": 3}, \"StartTime\": 1606790300.069297}\n",
      "\u001b[0m\n",
      "\u001b[34m#metrics {\"Metrics\": {\"train_absolute_loss_objective\": {\"count\": 1, \"max\": 0.518369213104248, \"sum\": 0.518369213104248, \"min\": 0.518369213104248}}, \"EndTime\": 1606790300.069374, \"Dimensions\": {\"model\": 19, \"Host\": \"algo-1\", \"Operation\": \"training\", \"Algorithm\": \"Linear Learner\", \"epoch\": 3}, \"StartTime\": 1606790300.069358}\n",
      "\u001b[0m\n",
      "\u001b[34m#metrics {\"Metrics\": {\"train_absolute_loss_objective\": {\"count\": 1, \"max\": 0.3780965766906738, \"sum\": 0.3780965766906738, \"min\": 0.3780965766906738}}, \"EndTime\": 1606790300.069434, \"Dimensions\": {\"model\": 20, \"Host\": \"algo-1\", \"Operation\": \"training\", \"Algorithm\": \"Linear Learner\", \"epoch\": 3}, \"StartTime\": 1606790300.069417}\n",
      "\u001b[0m\n",
      "\u001b[34m#metrics {\"Metrics\": {\"train_absolute_loss_objective\": {\"count\": 1, \"max\": 0.3834405860900879, \"sum\": 0.3834405860900879, \"min\": 0.3834405860900879}}, \"EndTime\": 1606790300.069493, \"Dimensions\": {\"model\": 21, \"Host\": \"algo-1\", \"Operation\": \"training\", \"Algorithm\": \"Linear Learner\", \"epoch\": 3}, \"StartTime\": 1606790300.069476}\n",
      "\u001b[0m\n",
      "\u001b[34m#metrics {\"Metrics\": {\"train_absolute_loss_objective\": {\"count\": 1, \"max\": 0.3784845657348633, \"sum\": 0.3784845657348633, \"min\": 0.3784845657348633}}, \"EndTime\": 1606790300.069555, \"Dimensions\": {\"model\": 22, \"Host\": \"algo-1\", \"Operation\": \"training\", \"Algorithm\": \"Linear Learner\", \"epoch\": 3}, \"StartTime\": 1606790300.069537}\n",
      "\u001b[0m\n",
      "\u001b[34m#metrics {\"Metrics\": {\"train_absolute_loss_objective\": {\"count\": 1, \"max\": 0.41247811126708983, \"sum\": 0.41247811126708983, \"min\": 0.41247811126708983}}, \"EndTime\": 1606790300.069614, \"Dimensions\": {\"model\": 23, \"Host\": \"algo-1\", \"Operation\": \"training\", \"Algorithm\": \"Linear Learner\", \"epoch\": 3}, \"StartTime\": 1606790300.069597}\n",
      "\u001b[0m\n",
      "\u001b[34m#metrics {\"Metrics\": {\"train_absolute_loss_objective\": {\"count\": 1, \"max\": 0.6811050834655762, \"sum\": 0.6811050834655762, \"min\": 0.6811050834655762}}, \"EndTime\": 1606790300.069673, \"Dimensions\": {\"model\": 24, \"Host\": \"algo-1\", \"Operation\": \"training\", \"Algorithm\": \"Linear Learner\", \"epoch\": 3}, \"StartTime\": 1606790300.069657}\n",
      "\u001b[0m\n",
      "\u001b[34m#metrics {\"Metrics\": {\"train_absolute_loss_objective\": {\"count\": 1, \"max\": 0.6811428451538086, \"sum\": 0.6811428451538086, \"min\": 0.6811428451538086}}, \"EndTime\": 1606790300.069758, \"Dimensions\": {\"model\": 25, \"Host\": \"algo-1\", \"Operation\": \"training\", \"Algorithm\": \"Linear Learner\", \"epoch\": 3}, \"StartTime\": 1606790300.06974}\n",
      "\u001b[0m\n",
      "\u001b[34m#metrics {\"Metrics\": {\"train_absolute_loss_objective\": {\"count\": 1, \"max\": 0.6850687828063965, \"sum\": 0.6850687828063965, \"min\": 0.6850687828063965}}, \"EndTime\": 1606790300.069829, \"Dimensions\": {\"model\": 26, \"Host\": \"algo-1\", \"Operation\": \"training\", \"Algorithm\": \"Linear Learner\", \"epoch\": 3}, \"StartTime\": 1606790300.06981}\n",
      "\u001b[0m\n",
      "\u001b[34m#metrics {\"Metrics\": {\"train_absolute_loss_objective\": {\"count\": 1, \"max\": 0.6849178619384766, \"sum\": 0.6849178619384766, \"min\": 0.6849178619384766}}, \"EndTime\": 1606790300.069881, \"Dimensions\": {\"model\": 27, \"Host\": \"algo-1\", \"Operation\": \"training\", \"Algorithm\": \"Linear Learner\", \"epoch\": 3}, \"StartTime\": 1606790300.069865}\n",
      "\u001b[0m\n",
      "\u001b[34m#metrics {\"Metrics\": {\"train_absolute_loss_objective\": {\"count\": 1, \"max\": 0.7135724182128906, \"sum\": 0.7135724182128906, \"min\": 0.7135724182128906}}, \"EndTime\": 1606790300.069939, \"Dimensions\": {\"model\": 28, \"Host\": \"algo-1\", \"Operation\": \"training\", \"Algorithm\": \"Linear Learner\", \"epoch\": 3}, \"StartTime\": 1606790300.069924}\n",
      "\u001b[0m\n",
      "\u001b[34m#metrics {\"Metrics\": {\"train_absolute_loss_objective\": {\"count\": 1, \"max\": 0.7248937644958496, \"sum\": 0.7248937644958496, \"min\": 0.7248937644958496}}, \"EndTime\": 1606790300.069996, \"Dimensions\": {\"model\": 29, \"Host\": \"algo-1\", \"Operation\": \"training\", \"Algorithm\": \"Linear Learner\", \"epoch\": 3}, \"StartTime\": 1606790300.069979}\n",
      "\u001b[0m\n",
      "\u001b[34m#metrics {\"Metrics\": {\"train_absolute_loss_objective\": {\"count\": 1, \"max\": 0.7057031440734863, \"sum\": 0.7057031440734863, \"min\": 0.7057031440734863}}, \"EndTime\": 1606790300.070052, \"Dimensions\": {\"model\": 30, \"Host\": \"algo-1\", \"Operation\": \"training\", \"Algorithm\": \"Linear Learner\", \"epoch\": 3}, \"StartTime\": 1606790300.070035}\n",
      "\u001b[0m\n",
      "\u001b[34m#metrics {\"Metrics\": {\"train_absolute_loss_objective\": {\"count\": 1, \"max\": 0.7204147567749023, \"sum\": 0.7204147567749023, \"min\": 0.7204147567749023}}, \"EndTime\": 1606790300.070108, \"Dimensions\": {\"model\": 31, \"Host\": \"algo-1\", \"Operation\": \"training\", \"Algorithm\": \"Linear Learner\", \"epoch\": 3}, \"StartTime\": 1606790300.070092}\n",
      "\u001b[0m\n",
      "\u001b[34m[12/01/2020 02:38:20 INFO 139642506053440] #quality_metric: host=algo-1, epoch=3, train absolute_loss_objective <loss>=0.508046432495\u001b[0m\n",
      "\u001b[34m[12/01/2020 02:38:20 INFO 139642506053440] #early_stopping_criteria_metric: host=algo-1, epoch=3, criteria=absolute_loss_objective, value=0.307427619934\u001b[0m\n",
      "\u001b[34m[12/01/2020 02:38:20 INFO 139642506053440] Epoch 3: Loss improved. Updating best model\u001b[0m\n",
      "\u001b[34m[12/01/2020 02:38:20 INFO 139642506053440] Saving model for epoch: 3\u001b[0m\n",
      "\u001b[34m[12/01/2020 02:38:20 INFO 139642506053440] Saved checkpoint to \"/tmp/tmpyoPGZ5/mx-mod-0000.params\"\u001b[0m\n",
      "\u001b[34m[12/01/2020 02:38:20 INFO 139642506053440] #progress_metric: host=algo-1, completed 4 % of epochs\u001b[0m\n",
      "\u001b[34m#metrics {\"Metrics\": {\"Max Batches Seen Between Resets\": {\"count\": 1, \"max\": 11, \"sum\": 11.0, \"min\": 11}, \"Number of Batches Since Last Reset\": {\"count\": 1, \"max\": 11, \"sum\": 11.0, \"min\": 11}, \"Number of Records Since Last Reset\": {\"count\": 1, \"max\": 1070, \"sum\": 1070.0, \"min\": 1070}, \"Total Batches Seen\": {\"count\": 1, \"max\": 56, \"sum\": 56.0, \"min\": 56}, \"Total Records Seen\": {\"count\": 1, \"max\": 5450, \"sum\": 5450.0, \"min\": 5450}, \"Max Records Seen Between Resets\": {\"count\": 1, \"max\": 1070, \"sum\": 1070.0, \"min\": 1070}, \"Reset Count\": {\"count\": 1, \"max\": 6, \"sum\": 6.0, \"min\": 6}}, \"EndTime\": 1606790300.076841, \"Dimensions\": {\"Host\": \"algo-1\", \"Meta\": \"training_data_iter\", \"Operation\": \"training\", \"Algorithm\": \"Linear Learner\", \"epoch\": 3}, \"StartTime\": 1606790299.885418}\n",
      "\u001b[0m\n",
      "\u001b[34m[12/01/2020 02:38:20 INFO 139642506053440] #throughput_metric: host=algo-1, train throughput=5586.59249255 records/second\u001b[0m\n",
      "\u001b[34m[2020-12-01 02:38:20.265] [tensorio] [info] epoch_stats={\"data_pipeline\": \"/opt/ml/input/data/train\", \"epoch\": 12, \"duration\": 188, \"num_examples\": 11, \"num_bytes\": 81320}\u001b[0m\n",
      "\u001b[34m#metrics {\"Metrics\": {\"train_absolute_loss_objective\": {\"count\": 1, \"max\": 0.4621830253601074, \"sum\": 0.4621830253601074, \"min\": 0.4621830253601074}}, \"EndTime\": 1606790300.266086, \"Dimensions\": {\"model\": 0, \"Host\": \"algo-1\", \"Operation\": \"training\", \"Algorithm\": \"Linear Learner\", \"epoch\": 4}, \"StartTime\": 1606790300.265993}\n",
      "\u001b[0m\n",
      "\u001b[34m#metrics {\"Metrics\": {\"train_absolute_loss_objective\": {\"count\": 1, \"max\": 0.485020206451416, \"sum\": 0.485020206451416, \"min\": 0.485020206451416}}, \"EndTime\": 1606790300.266184, \"Dimensions\": {\"model\": 1, \"Host\": \"algo-1\", \"Operation\": \"training\", \"Algorithm\": \"Linear Learner\", \"epoch\": 4}, \"StartTime\": 1606790300.266162}\n",
      "\u001b[0m\n",
      "\u001b[34m#metrics {\"Metrics\": {\"train_absolute_loss_objective\": {\"count\": 1, \"max\": 0.4809100341796875, \"sum\": 0.4809100341796875, \"min\": 0.4809100341796875}}, \"EndTime\": 1606790300.266255, \"Dimensions\": {\"model\": 2, \"Host\": \"algo-1\", \"Operation\": \"training\", \"Algorithm\": \"Linear Learner\", \"epoch\": 4}, \"StartTime\": 1606790300.266235}\n",
      "\u001b[0m\n",
      "\u001b[34m#metrics {\"Metrics\": {\"train_absolute_loss_objective\": {\"count\": 1, \"max\": 0.44004712677001956, \"sum\": 0.44004712677001956, \"min\": 0.44004712677001956}}, \"EndTime\": 1606790300.266321, \"Dimensions\": {\"model\": 3, \"Host\": \"algo-1\", \"Operation\": \"training\", \"Algorithm\": \"Linear Learner\", \"epoch\": 4}, \"StartTime\": 1606790300.266302}\n",
      "\u001b[0m\n",
      "\u001b[34m#metrics {\"Metrics\": {\"train_absolute_loss_objective\": {\"count\": 1, \"max\": 0.31514003562927245, \"sum\": 0.31514003562927245, \"min\": 0.31514003562927245}}, \"EndTime\": 1606790300.266386, \"Dimensions\": {\"model\": 4, \"Host\": \"algo-1\", \"Operation\": \"training\", \"Algorithm\": \"Linear Learner\", \"epoch\": 4}, \"StartTime\": 1606790300.266368}\n",
      "\u001b[0m\n",
      "\u001b[34m#metrics {\"Metrics\": {\"train_absolute_loss_objective\": {\"count\": 1, \"max\": 0.2981490707397461, \"sum\": 0.2981490707397461, \"min\": 0.2981490707397461}}, \"EndTime\": 1606790300.266447, \"Dimensions\": {\"model\": 5, \"Host\": \"algo-1\", \"Operation\": \"training\", \"Algorithm\": \"Linear Learner\", \"epoch\": 4}, \"StartTime\": 1606790300.26643}\n",
      "\u001b[0m\n",
      "\u001b[34m#metrics {\"Metrics\": {\"train_absolute_loss_objective\": {\"count\": 1, \"max\": 0.3124005966186523, \"sum\": 0.3124005966186523, \"min\": 0.3124005966186523}}, \"EndTime\": 1606790300.26651, \"Dimensions\": {\"model\": 6, \"Host\": \"algo-1\", \"Operation\": \"training\", \"Algorithm\": \"Linear Learner\", \"epoch\": 4}, \"StartTime\": 1606790300.266492}\n",
      "\u001b[0m\n",
      "\u001b[34m#metrics {\"Metrics\": {\"train_absolute_loss_objective\": {\"count\": 1, \"max\": 0.295758768081665, \"sum\": 0.295758768081665, \"min\": 0.295758768081665}}, \"EndTime\": 1606790300.266571, \"Dimensions\": {\"model\": 7, \"Host\": \"algo-1\", \"Operation\": \"training\", \"Algorithm\": \"Linear Learner\", \"epoch\": 4}, \"StartTime\": 1606790300.266554}\n",
      "\u001b[0m\n",
      "\u001b[34m#metrics {\"Metrics\": {\"train_absolute_loss_objective\": {\"count\": 1, \"max\": 0.42516656875610354, \"sum\": 0.42516656875610354, \"min\": 0.42516656875610354}}, \"EndTime\": 1606790300.266632, \"Dimensions\": {\"model\": 8, \"Host\": \"algo-1\", \"Operation\": \"training\", \"Algorithm\": \"Linear Learner\", \"epoch\": 4}, \"StartTime\": 1606790300.266615}\n",
      "\u001b[0m\n",
      "\u001b[34m#metrics {\"Metrics\": {\"train_absolute_loss_objective\": {\"count\": 1, \"max\": 0.5092912406921387, \"sum\": 0.5092912406921387, \"min\": 0.5092912406921387}}, \"EndTime\": 1606790300.266692, \"Dimensions\": {\"model\": 9, \"Host\": \"algo-1\", \"Operation\": \"training\", \"Algorithm\": \"Linear Learner\", \"epoch\": 4}, \"StartTime\": 1606790300.266675}\n",
      "\u001b[0m\n",
      "\u001b[34m#metrics {\"Metrics\": {\"train_absolute_loss_objective\": {\"count\": 1, \"max\": 0.4811266098022461, \"sum\": 0.4811266098022461, \"min\": 0.4811266098022461}}, \"EndTime\": 1606790300.266753, \"Dimensions\": {\"model\": 10, \"Host\": \"algo-1\", \"Operation\": \"training\", \"Algorithm\": \"Linear Learner\", \"epoch\": 4}, \"StartTime\": 1606790300.266736}\n",
      "\u001b[0m\n",
      "\u001b[34m#metrics {\"Metrics\": {\"train_absolute_loss_objective\": {\"count\": 1, \"max\": 0.4326078701019287, \"sum\": 0.4326078701019287, \"min\": 0.4326078701019287}}, \"EndTime\": 1606790300.266812, \"Dimensions\": {\"model\": 11, \"Host\": \"algo-1\", \"Operation\": \"training\", \"Algorithm\": \"Linear Learner\", \"epoch\": 4}, \"StartTime\": 1606790300.266795}\n",
      "\u001b[0m\n",
      "\u001b[34m#metrics {\"Metrics\": {\"train_absolute_loss_objective\": {\"count\": 1, \"max\": 0.3114186477661133, \"sum\": 0.3114186477661133, \"min\": 0.3114186477661133}}, \"EndTime\": 1606790300.266872, \"Dimensions\": {\"model\": 12, \"Host\": \"algo-1\", \"Operation\": \"training\", \"Algorithm\": \"Linear Learner\", \"epoch\": 4}, \"StartTime\": 1606790300.266855}\n",
      "\u001b[0m\n",
      "\u001b[34m#metrics {\"Metrics\": {\"train_absolute_loss_objective\": {\"count\": 1, \"max\": 0.29925778198242187, \"sum\": 0.29925778198242187, \"min\": 0.29925778198242187}}, \"EndTime\": 1606790300.266932, \"Dimensions\": {\"model\": 13, \"Host\": \"algo-1\", \"Operation\": \"training\", \"Algorithm\": \"Linear Learner\", \"epoch\": 4}, \"StartTime\": 1606790300.266914}\n",
      "\u001b[0m\n",
      "\u001b[34m#metrics {\"Metrics\": {\"train_absolute_loss_objective\": {\"count\": 1, \"max\": 0.33833727645874023, \"sum\": 0.33833727645874023, \"min\": 0.33833727645874023}}, \"EndTime\": 1606790300.266993, \"Dimensions\": {\"model\": 14, \"Host\": \"algo-1\", \"Operation\": \"training\", \"Algorithm\": \"Linear Learner\", \"epoch\": 4}, \"StartTime\": 1606790300.266977}\n",
      "\u001b[0m\n",
      "\u001b[34m#metrics {\"Metrics\": {\"train_absolute_loss_objective\": {\"count\": 1, \"max\": 0.3112949924468994, \"sum\": 0.3112949924468994, \"min\": 0.3112949924468994}}, \"EndTime\": 1606790300.267053, \"Dimensions\": {\"model\": 15, \"Host\": \"algo-1\", \"Operation\": \"training\", \"Algorithm\": \"Linear Learner\", \"epoch\": 4}, \"StartTime\": 1606790300.267037}\n",
      "\u001b[0m\n",
      "\u001b[34m#metrics {\"Metrics\": {\"train_absolute_loss_objective\": {\"count\": 1, \"max\": 0.5001964988708496, \"sum\": 0.5001964988708496, \"min\": 0.5001964988708496}}, \"EndTime\": 1606790300.267111, \"Dimensions\": {\"model\": 16, \"Host\": \"algo-1\", \"Operation\": \"training\", \"Algorithm\": \"Linear Learner\", \"epoch\": 4}, \"StartTime\": 1606790300.267096}\n",
      "\u001b[0m\n",
      "\u001b[34m#metrics {\"Metrics\": {\"train_absolute_loss_objective\": {\"count\": 1, \"max\": 0.5197698593139648, \"sum\": 0.5197698593139648, \"min\": 0.5197698593139648}}, \"EndTime\": 1606790300.26717, \"Dimensions\": {\"model\": 17, \"Host\": \"algo-1\", \"Operation\": \"training\", \"Algorithm\": \"Linear Learner\", \"epoch\": 4}, \"StartTime\": 1606790300.267154}\n",
      "\u001b[0m\n",
      "\u001b[34m#metrics {\"Metrics\": {\"train_absolute_loss_objective\": {\"count\": 1, \"max\": 0.4479136219024658, \"sum\": 0.4479136219024658, \"min\": 0.4479136219024658}}, \"EndTime\": 1606790300.267229, \"Dimensions\": {\"model\": 18, \"Host\": \"algo-1\", \"Operation\": \"training\", \"Algorithm\": \"Linear Learner\", \"epoch\": 4}, \"StartTime\": 1606790300.267213}\n",
      "\u001b[0m\n",
      "\u001b[34m#metrics {\"Metrics\": {\"train_absolute_loss_objective\": {\"count\": 1, \"max\": 0.4764606132507324, \"sum\": 0.4764606132507324, \"min\": 0.4764606132507324}}, \"EndTime\": 1606790300.267289, \"Dimensions\": {\"model\": 19, \"Host\": \"algo-1\", \"Operation\": \"training\", \"Algorithm\": \"Linear Learner\", \"epoch\": 4}, \"StartTime\": 1606790300.267272}\n",
      "\u001b[0m\n",
      "\u001b[34m#metrics {\"Metrics\": {\"train_absolute_loss_objective\": {\"count\": 1, \"max\": 0.37342296409606934, \"sum\": 0.37342296409606934, \"min\": 0.37342296409606934}}, \"EndTime\": 1606790300.267346, \"Dimensions\": {\"model\": 20, \"Host\": \"algo-1\", \"Operation\": \"training\", \"Algorithm\": \"Linear Learner\", \"epoch\": 4}, \"StartTime\": 1606790300.267329}\n",
      "\u001b[0m\n",
      "\u001b[34m#metrics {\"Metrics\": {\"train_absolute_loss_objective\": {\"count\": 1, \"max\": 0.38654317092895507, \"sum\": 0.38654317092895507, \"min\": 0.38654317092895507}}, \"EndTime\": 1606790300.267407, \"Dimensions\": {\"model\": 21, \"Host\": \"algo-1\", \"Operation\": \"training\", \"Algorithm\": \"Linear Learner\", \"epoch\": 4}, \"StartTime\": 1606790300.26739}\n",
      "\u001b[0m\n",
      "\u001b[34m#metrics {\"Metrics\": {\"train_absolute_loss_objective\": {\"count\": 1, \"max\": 0.3777995738983154, \"sum\": 0.3777995738983154, \"min\": 0.3777995738983154}}, \"EndTime\": 1606790300.267467, \"Dimensions\": {\"model\": 22, \"Host\": \"algo-1\", \"Operation\": \"training\", \"Algorithm\": \"Linear Learner\", \"epoch\": 4}, \"StartTime\": 1606790300.26745}\n",
      "\u001b[0m\n",
      "\u001b[34m#metrics {\"Metrics\": {\"train_absolute_loss_objective\": {\"count\": 1, \"max\": 0.3736177272796631, \"sum\": 0.3736177272796631, \"min\": 0.3736177272796631}}, \"EndTime\": 1606790300.267526, \"Dimensions\": {\"model\": 23, \"Host\": \"algo-1\", \"Operation\": \"training\", \"Algorithm\": \"Linear Learner\", \"epoch\": 4}, \"StartTime\": 1606790300.267509}\n",
      "\u001b[0m\n",
      "\u001b[34m#metrics {\"Metrics\": {\"train_absolute_loss_objective\": {\"count\": 1, \"max\": 0.6831116142272949, \"sum\": 0.6831116142272949, \"min\": 0.6831116142272949}}, \"EndTime\": 1606790300.267583, \"Dimensions\": {\"model\": 24, \"Host\": \"algo-1\", \"Operation\": \"training\", \"Algorithm\": \"Linear Learner\", \"epoch\": 4}, \"StartTime\": 1606790300.267567}\n",
      "\u001b[0m\n",
      "\u001b[34m#metrics {\"Metrics\": {\"train_absolute_loss_objective\": {\"count\": 1, \"max\": 0.6800789527893066, \"sum\": 0.6800789527893066, \"min\": 0.6800789527893066}}, \"EndTime\": 1606790300.267642, \"Dimensions\": {\"model\": 25, \"Host\": \"algo-1\", \"Operation\": \"training\", \"Algorithm\": \"Linear Learner\", \"epoch\": 4}, \"StartTime\": 1606790300.267625}\n",
      "\u001b[0m\n",
      "\u001b[34m#metrics {\"Metrics\": {\"train_absolute_loss_objective\": {\"count\": 1, \"max\": 0.6803435173034668, \"sum\": 0.6803435173034668, \"min\": 0.6803435173034668}}, \"EndTime\": 1606790300.267705, \"Dimensions\": {\"model\": 26, \"Host\": \"algo-1\", \"Operation\": \"training\", \"Algorithm\": \"Linear Learner\", \"epoch\": 4}, \"StartTime\": 1606790300.267688}\n",
      "\u001b[0m\n",
      "\u001b[34m#metrics {\"Metrics\": {\"train_absolute_loss_objective\": {\"count\": 1, \"max\": 0.6801610374450684, \"sum\": 0.6801610374450684, \"min\": 0.6801610374450684}}, \"EndTime\": 1606790300.267766, \"Dimensions\": {\"model\": 27, \"Host\": \"algo-1\", \"Operation\": \"training\", \"Algorithm\": \"Linear Learner\", \"epoch\": 4}, \"StartTime\": 1606790300.267749}\n",
      "\u001b[0m\n",
      "\u001b[34m#metrics {\"Metrics\": {\"train_absolute_loss_objective\": {\"count\": 1, \"max\": 0.7013102493286133, \"sum\": 0.7013102493286133, \"min\": 0.7013102493286133}}, \"EndTime\": 1606790300.267825, \"Dimensions\": {\"model\": 28, \"Host\": \"algo-1\", \"Operation\": \"training\", \"Algorithm\": \"Linear Learner\", \"epoch\": 4}, \"StartTime\": 1606790300.267808}\n",
      "\u001b[0m\n",
      "\u001b[34m#metrics {\"Metrics\": {\"train_absolute_loss_objective\": {\"count\": 1, \"max\": 0.7291953392028808, \"sum\": 0.7291953392028808, \"min\": 0.7291953392028808}}, \"EndTime\": 1606790300.267885, \"Dimensions\": {\"model\": 29, \"Host\": \"algo-1\", \"Operation\": \"training\", \"Algorithm\": \"Linear Learner\", \"epoch\": 4}, \"StartTime\": 1606790300.267868}\n",
      "\u001b[0m\n",
      "\u001b[34m#metrics {\"Metrics\": {\"train_absolute_loss_objective\": {\"count\": 1, \"max\": 0.7032360763549804, \"sum\": 0.7032360763549804, \"min\": 0.7032360763549804}}, \"EndTime\": 1606790300.267948, \"Dimensions\": {\"model\": 30, \"Host\": \"algo-1\", \"Operation\": \"training\", \"Algorithm\": \"Linear Learner\", \"epoch\": 4}, \"StartTime\": 1606790300.26793}\n",
      "\u001b[0m\n",
      "\u001b[34m#metrics {\"Metrics\": {\"train_absolute_loss_objective\": {\"count\": 1, \"max\": 0.7136793785095215, \"sum\": 0.7136793785095215, \"min\": 0.7136793785095215}}, \"EndTime\": 1606790300.268007, \"Dimensions\": {\"model\": 31, \"Host\": \"algo-1\", \"Operation\": \"training\", \"Algorithm\": \"Linear Learner\", \"epoch\": 4}, \"StartTime\": 1606790300.26799}\n",
      "\u001b[0m\n",
      "\u001b[34m[12/01/2020 02:38:20 INFO 139642506053440] #quality_metric: host=algo-1, epoch=4, train absolute_loss_objective <loss>=0.46218302536\u001b[0m\n",
      "\u001b[34m[12/01/2020 02:38:20 INFO 139642506053440] #early_stopping_criteria_metric: host=algo-1, epoch=4, criteria=absolute_loss_objective, value=0.295758768082\u001b[0m\n",
      "\u001b[34m[12/01/2020 02:38:20 INFO 139642506053440] Epoch 4: Loss improved. Updating best model\u001b[0m\n",
      "\u001b[34m[12/01/2020 02:38:20 INFO 139642506053440] Saving model for epoch: 4\u001b[0m\n",
      "\u001b[34m[12/01/2020 02:38:20 INFO 139642506053440] Saved checkpoint to \"/tmp/tmpT4PVaA/mx-mod-0000.params\"\u001b[0m\n",
      "\u001b[34m[12/01/2020 02:38:20 INFO 139642506053440] #progress_metric: host=algo-1, completed 5 % of epochs\u001b[0m\n",
      "\u001b[34m#metrics {\"Metrics\": {\"Max Batches Seen Between Resets\": {\"count\": 1, \"max\": 11, \"sum\": 11.0, \"min\": 11}, \"Number of Batches Since Last Reset\": {\"count\": 1, \"max\": 11, \"sum\": 11.0, \"min\": 11}, \"Number of Records Since Last Reset\": {\"count\": 1, \"max\": 1070, \"sum\": 1070.0, \"min\": 1070}, \"Total Batches Seen\": {\"count\": 1, \"max\": 67, \"sum\": 67.0, \"min\": 67}, \"Total Records Seen\": {\"count\": 1, \"max\": 6520, \"sum\": 6520.0, \"min\": 6520}, \"Max Records Seen Between Resets\": {\"count\": 1, \"max\": 1070, \"sum\": 1070.0, \"min\": 1070}, \"Reset Count\": {\"count\": 1, \"max\": 7, \"sum\": 7.0, \"min\": 7}}, \"EndTime\": 1606790300.275639, \"Dimensions\": {\"Host\": \"algo-1\", \"Meta\": \"training_data_iter\", \"Operation\": \"training\", \"Algorithm\": \"Linear Learner\", \"epoch\": 4}, \"StartTime\": 1606790300.077081}\n",
      "\u001b[0m\n",
      "\u001b[34m[12/01/2020 02:38:20 INFO 139642506053440] #throughput_metric: host=algo-1, train throughput=5385.78578569 records/second\u001b[0m\n",
      "\u001b[34m[2020-12-01 02:38:20.476] [tensorio] [info] epoch_stats={\"data_pipeline\": \"/opt/ml/input/data/train\", \"epoch\": 14, \"duration\": 200, \"num_examples\": 11, \"num_bytes\": 81320}\u001b[0m\n",
      "\u001b[34m#metrics {\"Metrics\": {\"train_absolute_loss_objective\": {\"count\": 1, \"max\": 0.41975324630737304, \"sum\": 0.41975324630737304, \"min\": 0.41975324630737304}}, \"EndTime\": 1606790300.47615, \"Dimensions\": {\"model\": 0, \"Host\": \"algo-1\", \"Operation\": \"training\", \"Algorithm\": \"Linear Learner\", \"epoch\": 5}, \"StartTime\": 1606790300.476069}\n",
      "\u001b[0m\n",
      "\u001b[34m#metrics {\"Metrics\": {\"train_absolute_loss_objective\": {\"count\": 1, \"max\": 0.44406510162353513, \"sum\": 0.44406510162353513, \"min\": 0.44406510162353513}}, \"EndTime\": 1606790300.476241, \"Dimensions\": {\"model\": 1, \"Host\": \"algo-1\", \"Operation\": \"training\", \"Algorithm\": \"Linear Learner\", \"epoch\": 5}, \"StartTime\": 1606790300.47622}\n",
      "\u001b[0m\n",
      "\u001b[34m#metrics {\"Metrics\": {\"train_absolute_loss_objective\": {\"count\": 1, \"max\": 0.4394296817779541, \"sum\": 0.4394296817779541, \"min\": 0.4394296817779541}}, \"EndTime\": 1606790300.476307, \"Dimensions\": {\"model\": 2, \"Host\": \"algo-1\", \"Operation\": \"training\", \"Algorithm\": \"Linear Learner\", \"epoch\": 5}, \"StartTime\": 1606790300.476289}\n",
      "\u001b[0m\n",
      "\u001b[34m#metrics {\"Metrics\": {\"train_absolute_loss_objective\": {\"count\": 1, \"max\": 0.4027175769805908, \"sum\": 0.4027175769805908, \"min\": 0.4027175769805908}}, \"EndTime\": 1606790300.476375, \"Dimensions\": {\"model\": 3, \"Host\": \"algo-1\", \"Operation\": \"training\", \"Algorithm\": \"Linear Learner\", \"epoch\": 5}, \"StartTime\": 1606790300.476358}\n",
      "\u001b[0m\n",
      "\u001b[34m#metrics {\"Metrics\": {\"train_absolute_loss_objective\": {\"count\": 1, \"max\": 0.30500499343872073, \"sum\": 0.30500499343872073, \"min\": 0.30500499343872073}}, \"EndTime\": 1606790300.476473, \"Dimensions\": {\"model\": 4, \"Host\": \"algo-1\", \"Operation\": \"training\", \"Algorithm\": \"Linear Learner\", \"epoch\": 5}, \"StartTime\": 1606790300.476414}\n",
      "\u001b[0m\n",
      "\u001b[34m#metrics {\"Metrics\": {\"train_absolute_loss_objective\": {\"count\": 1, \"max\": 0.31663525009155274, \"sum\": 0.31663525009155274, \"min\": 0.31663525009155274}}, \"EndTime\": 1606790300.476545, \"Dimensions\": {\"model\": 5, \"Host\": \"algo-1\", \"Operation\": \"training\", \"Algorithm\": \"Linear Learner\", \"epoch\": 5}, \"StartTime\": 1606790300.476525}\n",
      "\u001b[0m\n",
      "\u001b[34m#metrics {\"Metrics\": {\"train_absolute_loss_objective\": {\"count\": 1, \"max\": 0.3201860656738281, \"sum\": 0.3201860656738281, \"min\": 0.3201860656738281}}, \"EndTime\": 1606790300.476609, \"Dimensions\": {\"model\": 6, \"Host\": \"algo-1\", \"Operation\": \"training\", \"Algorithm\": \"Linear Learner\", \"epoch\": 5}, \"StartTime\": 1606790300.476589}\n",
      "\u001b[0m\n",
      "\u001b[34m#metrics {\"Metrics\": {\"train_absolute_loss_objective\": {\"count\": 1, \"max\": 0.3103210067749023, \"sum\": 0.3103210067749023, \"min\": 0.3103210067749023}}, \"EndTime\": 1606790300.476671, \"Dimensions\": {\"model\": 7, \"Host\": \"algo-1\", \"Operation\": \"training\", \"Algorithm\": \"Linear Learner\", \"epoch\": 5}, \"StartTime\": 1606790300.476654}\n",
      "\u001b[0m\n",
      "\u001b[34m#metrics {\"Metrics\": {\"train_absolute_loss_objective\": {\"count\": 1, \"max\": 0.3895908946990967, \"sum\": 0.3895908946990967, \"min\": 0.3895908946990967}}, \"EndTime\": 1606790300.476731, \"Dimensions\": {\"model\": 8, \"Host\": \"algo-1\", \"Operation\": \"training\", \"Algorithm\": \"Linear Learner\", \"epoch\": 5}, \"StartTime\": 1606790300.476713}\n",
      "\u001b[0m\n",
      "\u001b[34m#metrics {\"Metrics\": {\"train_absolute_loss_objective\": {\"count\": 1, \"max\": 0.4633919677734375, \"sum\": 0.4633919677734375, \"min\": 0.4633919677734375}}, \"EndTime\": 1606790300.476791, \"Dimensions\": {\"model\": 9, \"Host\": \"algo-1\", \"Operation\": \"training\", \"Algorithm\": \"Linear Learner\", \"epoch\": 5}, \"StartTime\": 1606790300.476775}\n",
      "\u001b[0m\n",
      "\u001b[34m#metrics {\"Metrics\": {\"train_absolute_loss_objective\": {\"count\": 1, \"max\": 0.43747486114501954, \"sum\": 0.43747486114501954, \"min\": 0.43747486114501954}}, \"EndTime\": 1606790300.476849, \"Dimensions\": {\"model\": 10, \"Host\": \"algo-1\", \"Operation\": \"training\", \"Algorithm\": \"Linear Learner\", \"epoch\": 5}, \"StartTime\": 1606790300.476833}\n",
      "\u001b[0m\n",
      "\u001b[34m#metrics {\"Metrics\": {\"train_absolute_loss_objective\": {\"count\": 1, \"max\": 0.3977957210540771, \"sum\": 0.3977957210540771, \"min\": 0.3977957210540771}}, \"EndTime\": 1606790300.476909, \"Dimensions\": {\"model\": 11, \"Host\": \"algo-1\", \"Operation\": \"training\", \"Algorithm\": \"Linear Learner\", \"epoch\": 5}, \"StartTime\": 1606790300.476892}\n",
      "\u001b[0m\n",
      "\u001b[34m#metrics {\"Metrics\": {\"train_absolute_loss_objective\": {\"count\": 1, \"max\": 0.31378076553344725, \"sum\": 0.31378076553344725, \"min\": 0.31378076553344725}}, \"EndTime\": 1606790300.476967, \"Dimensions\": {\"model\": 12, \"Host\": \"algo-1\", \"Operation\": \"training\", \"Algorithm\": \"Linear Learner\", \"epoch\": 5}, \"StartTime\": 1606790300.476951}\n",
      "\u001b[0m\n",
      "\u001b[34m#metrics {\"Metrics\": {\"train_absolute_loss_objective\": {\"count\": 1, \"max\": 0.29552345085144044, \"sum\": 0.29552345085144044, \"min\": 0.29552345085144044}}, \"EndTime\": 1606790300.477024, \"Dimensions\": {\"model\": 13, \"Host\": \"algo-1\", \"Operation\": \"training\", \"Algorithm\": \"Linear Learner\", \"epoch\": 5}, \"StartTime\": 1606790300.477007}\n",
      "\u001b[0m\n",
      "\u001b[34m#metrics {\"Metrics\": {\"train_absolute_loss_objective\": {\"count\": 1, \"max\": 0.34240341758728027, \"sum\": 0.34240341758728027, \"min\": 0.34240341758728027}}, \"EndTime\": 1606790300.477084, \"Dimensions\": {\"model\": 14, \"Host\": \"algo-1\", \"Operation\": \"training\", \"Algorithm\": \"Linear Learner\", \"epoch\": 5}, \"StartTime\": 1606790300.477067}\n",
      "\u001b[0m\n",
      "\u001b[34m#metrics {\"Metrics\": {\"train_absolute_loss_objective\": {\"count\": 1, \"max\": 0.3076852550506592, \"sum\": 0.3076852550506592, \"min\": 0.3076852550506592}}, \"EndTime\": 1606790300.477145, \"Dimensions\": {\"model\": 15, \"Host\": \"algo-1\", \"Operation\": \"training\", \"Algorithm\": \"Linear Learner\", \"epoch\": 5}, \"StartTime\": 1606790300.477128}\n",
      "\u001b[0m\n",
      "\u001b[34m#metrics {\"Metrics\": {\"train_absolute_loss_objective\": {\"count\": 1, \"max\": 0.46275278663635255, \"sum\": 0.46275278663635255, \"min\": 0.46275278663635255}}, \"EndTime\": 1606790300.4772, \"Dimensions\": {\"model\": 16, \"Host\": \"algo-1\", \"Operation\": \"training\", \"Algorithm\": \"Linear Learner\", \"epoch\": 5}, \"StartTime\": 1606790300.477184}\n",
      "\u001b[0m\n",
      "\u001b[34m#metrics {\"Metrics\": {\"train_absolute_loss_objective\": {\"count\": 1, \"max\": 0.4799068374633789, \"sum\": 0.4799068374633789, \"min\": 0.4799068374633789}}, \"EndTime\": 1606790300.477261, \"Dimensions\": {\"model\": 17, \"Host\": \"algo-1\", \"Operation\": \"training\", \"Algorithm\": \"Linear Learner\", \"epoch\": 5}, \"StartTime\": 1606790300.477245}\n",
      "\u001b[0m\n",
      "\u001b[34m#metrics {\"Metrics\": {\"train_absolute_loss_objective\": {\"count\": 1, \"max\": 0.4145055923461914, \"sum\": 0.4145055923461914, \"min\": 0.4145055923461914}}, \"EndTime\": 1606790300.47732, \"Dimensions\": {\"model\": 18, \"Host\": \"algo-1\", \"Operation\": \"training\", \"Algorithm\": \"Linear Learner\", \"epoch\": 5}, \"StartTime\": 1606790300.477303}\n",
      "\u001b[0m\n",
      "\u001b[34m#metrics {\"Metrics\": {\"train_absolute_loss_objective\": {\"count\": 1, \"max\": 0.43873311805725096, \"sum\": 0.43873311805725096, \"min\": 0.43873311805725096}}, \"EndTime\": 1606790300.477378, \"Dimensions\": {\"model\": 19, \"Host\": \"algo-1\", \"Operation\": \"training\", \"Algorithm\": \"Linear Learner\", \"epoch\": 5}, \"StartTime\": 1606790300.477362}\n",
      "\u001b[0m\n",
      "\u001b[34m#metrics {\"Metrics\": {\"train_absolute_loss_objective\": {\"count\": 1, \"max\": 0.3687761745452881, \"sum\": 0.3687761745452881, \"min\": 0.3687761745452881}}, \"EndTime\": 1606790300.477433, \"Dimensions\": {\"model\": 20, \"Host\": \"algo-1\", \"Operation\": \"training\", \"Algorithm\": \"Linear Learner\", \"epoch\": 5}, \"StartTime\": 1606790300.477416}\n",
      "\u001b[0m\n",
      "\u001b[34m#metrics {\"Metrics\": {\"train_absolute_loss_objective\": {\"count\": 1, \"max\": 0.3858147010803223, \"sum\": 0.3858147010803223, \"min\": 0.3858147010803223}}, \"EndTime\": 1606790300.477492, \"Dimensions\": {\"model\": 21, \"Host\": \"algo-1\", \"Operation\": \"training\", \"Algorithm\": \"Linear Learner\", \"epoch\": 5}, \"StartTime\": 1606790300.477475}\n",
      "\u001b[0m\n",
      "\u001b[34m#metrics {\"Metrics\": {\"train_absolute_loss_objective\": {\"count\": 1, \"max\": 0.35818220710754395, \"sum\": 0.35818220710754395, \"min\": 0.35818220710754395}}, \"EndTime\": 1606790300.477554, \"Dimensions\": {\"model\": 22, \"Host\": \"algo-1\", \"Operation\": \"training\", \"Algorithm\": \"Linear Learner\", \"epoch\": 5}, \"StartTime\": 1606790300.477536}\n",
      "\u001b[0m\n",
      "\u001b[34m#metrics {\"Metrics\": {\"train_absolute_loss_objective\": {\"count\": 1, \"max\": 0.4020040340423584, \"sum\": 0.4020040340423584, \"min\": 0.4020040340423584}}, \"EndTime\": 1606790300.477612, \"Dimensions\": {\"model\": 23, \"Host\": \"algo-1\", \"Operation\": \"training\", \"Algorithm\": \"Linear Learner\", \"epoch\": 5}, \"StartTime\": 1606790300.477597}\n",
      "\u001b[0m\n",
      "\u001b[34m#metrics {\"Metrics\": {\"train_absolute_loss_objective\": {\"count\": 1, \"max\": 0.6813411674499512, \"sum\": 0.6813411674499512, \"min\": 0.6813411674499512}}, \"EndTime\": 1606790300.477671, \"Dimensions\": {\"model\": 24, \"Host\": \"algo-1\", \"Operation\": \"training\", \"Algorithm\": \"Linear Learner\", \"epoch\": 5}, \"StartTime\": 1606790300.477654}\n",
      "\u001b[0m\n",
      "\u001b[34m#metrics {\"Metrics\": {\"train_absolute_loss_objective\": {\"count\": 1, \"max\": 0.6822316017150879, \"sum\": 0.6822316017150879, \"min\": 0.6822316017150879}}, \"EndTime\": 1606790300.477762, \"Dimensions\": {\"model\": 25, \"Host\": \"algo-1\", \"Operation\": \"training\", \"Algorithm\": \"Linear Learner\", \"epoch\": 5}, \"StartTime\": 1606790300.477743}\n",
      "\u001b[0m\n",
      "\u001b[34m#metrics {\"Metrics\": {\"train_absolute_loss_objective\": {\"count\": 1, \"max\": 0.6813433494567871, \"sum\": 0.6813433494567871, \"min\": 0.6813433494567871}}, \"EndTime\": 1606790300.47782, \"Dimensions\": {\"model\": 26, \"Host\": \"algo-1\", \"Operation\": \"training\", \"Algorithm\": \"Linear Learner\", \"epoch\": 5}, \"StartTime\": 1606790300.477803}\n",
      "\u001b[0m\n",
      "\u001b[34m#metrics {\"Metrics\": {\"train_absolute_loss_objective\": {\"count\": 1, \"max\": 0.6826276016235352, \"sum\": 0.6826276016235352, \"min\": 0.6826276016235352}}, \"EndTime\": 1606790300.477885, \"Dimensions\": {\"model\": 27, \"Host\": \"algo-1\", \"Operation\": \"training\", \"Algorithm\": \"Linear Learner\", \"epoch\": 5}, \"StartTime\": 1606790300.477868}\n",
      "\u001b[0m\n",
      "\u001b[34m#metrics {\"Metrics\": {\"train_absolute_loss_objective\": {\"count\": 1, \"max\": 0.6962022285461426, \"sum\": 0.6962022285461426, \"min\": 0.6962022285461426}}, \"EndTime\": 1606790300.47793, \"Dimensions\": {\"model\": 28, \"Host\": \"algo-1\", \"Operation\": \"training\", \"Algorithm\": \"Linear Learner\", \"epoch\": 5}, \"StartTime\": 1606790300.47792}\n",
      "\u001b[0m\n",
      "\u001b[34m#metrics {\"Metrics\": {\"train_absolute_loss_objective\": {\"count\": 1, \"max\": 0.7251607437133789, \"sum\": 0.7251607437133789, \"min\": 0.7251607437133789}}, \"EndTime\": 1606790300.477968, \"Dimensions\": {\"model\": 29, \"Host\": \"algo-1\", \"Operation\": \"training\", \"Algorithm\": \"Linear Learner\", \"epoch\": 5}, \"StartTime\": 1606790300.477955}\n",
      "\u001b[0m\n",
      "\u001b[34m#metrics {\"Metrics\": {\"train_absolute_loss_objective\": {\"count\": 1, \"max\": 0.7027524299621583, \"sum\": 0.7027524299621583, \"min\": 0.7027524299621583}}, \"EndTime\": 1606790300.478001, \"Dimensions\": {\"model\": 30, \"Host\": \"algo-1\", \"Operation\": \"training\", \"Algorithm\": \"Linear Learner\", \"epoch\": 5}, \"StartTime\": 1606790300.477993}\n",
      "\u001b[0m\n",
      "\u001b[34m#metrics {\"Metrics\": {\"train_absolute_loss_objective\": {\"count\": 1, \"max\": 0.7130366096496582, \"sum\": 0.7130366096496582, \"min\": 0.7130366096496582}}, \"EndTime\": 1606790300.478028, \"Dimensions\": {\"model\": 31, \"Host\": \"algo-1\", \"Operation\": \"training\", \"Algorithm\": \"Linear Learner\", \"epoch\": 5}, \"StartTime\": 1606790300.478021}\n",
      "\u001b[0m\n",
      "\u001b[34m[12/01/2020 02:38:20 INFO 139642506053440] #quality_metric: host=algo-1, epoch=5, train absolute_loss_objective <loss>=0.419753246307\u001b[0m\n",
      "\u001b[34m[12/01/2020 02:38:20 INFO 139642506053440] #early_stopping_criteria_metric: host=algo-1, epoch=5, criteria=absolute_loss_objective, value=0.295523450851\u001b[0m\n",
      "\u001b[34m[12/01/2020 02:38:20 INFO 139642506053440] Saving model for epoch: 5\u001b[0m\n",
      "\u001b[34m[12/01/2020 02:38:20 INFO 139642506053440] Saved checkpoint to \"/tmp/tmpwAmJY3/mx-mod-0000.params\"\u001b[0m\n",
      "\u001b[34m[12/01/2020 02:38:20 INFO 139642506053440] #progress_metric: host=algo-1, completed 6 % of epochs\u001b[0m\n",
      "\u001b[34m#metrics {\"Metrics\": {\"Max Batches Seen Between Resets\": {\"count\": 1, \"max\": 11, \"sum\": 11.0, \"min\": 11}, \"Number of Batches Since Last Reset\": {\"count\": 1, \"max\": 11, \"sum\": 11.0, \"min\": 11}, \"Number of Records Since Last Reset\": {\"count\": 1, \"max\": 1070, \"sum\": 1070.0, \"min\": 1070}, \"Total Batches Seen\": {\"count\": 1, \"max\": 78, \"sum\": 78.0, \"min\": 78}, \"Total Records Seen\": {\"count\": 1, \"max\": 7590, \"sum\": 7590.0, \"min\": 7590}, \"Max Records Seen Between Resets\": {\"count\": 1, \"max\": 1070, \"sum\": 1070.0, \"min\": 1070}, \"Reset Count\": {\"count\": 1, \"max\": 8, \"sum\": 8.0, \"min\": 8}}, \"EndTime\": 1606790300.484468, \"Dimensions\": {\"Host\": \"algo-1\", \"Meta\": \"training_data_iter\", \"Operation\": \"training\", \"Algorithm\": \"Linear Learner\", \"epoch\": 5}, \"StartTime\": 1606790300.275856}\n",
      "\u001b[0m\n",
      "\u001b[34m[12/01/2020 02:38:20 INFO 139642506053440] #throughput_metric: host=algo-1, train throughput=5126.67926278 records/second\u001b[0m\n",
      "\u001b[34m[2020-12-01 02:38:20.681] [tensorio] [info] epoch_stats={\"data_pipeline\": \"/opt/ml/input/data/train\", \"epoch\": 16, \"duration\": 196, \"num_examples\": 11, \"num_bytes\": 81320}\u001b[0m\n",
      "\u001b[34m#metrics {\"Metrics\": {\"train_absolute_loss_objective\": {\"count\": 1, \"max\": 0.3900073661804199, \"sum\": 0.3900073661804199, \"min\": 0.3900073661804199}}, \"EndTime\": 1606790300.681954, \"Dimensions\": {\"model\": 0, \"Host\": \"algo-1\", \"Operation\": \"training\", \"Algorithm\": \"Linear Learner\", \"epoch\": 6}, \"StartTime\": 1606790300.681866}\n",
      "\u001b[0m\n",
      "\u001b[34m#metrics {\"Metrics\": {\"train_absolute_loss_objective\": {\"count\": 1, \"max\": 0.4153230800628662, \"sum\": 0.4153230800628662, \"min\": 0.4153230800628662}}, \"EndTime\": 1606790300.682057, \"Dimensions\": {\"model\": 1, \"Host\": \"algo-1\", \"Operation\": \"training\", \"Algorithm\": \"Linear Learner\", \"epoch\": 6}, \"StartTime\": 1606790300.682036}\n",
      "\u001b[0m\n",
      "\u001b[34m#metrics {\"Metrics\": {\"train_absolute_loss_objective\": {\"count\": 1, \"max\": 0.41111490631103514, \"sum\": 0.41111490631103514, \"min\": 0.41111490631103514}}, \"EndTime\": 1606790300.682118, \"Dimensions\": {\"model\": 2, \"Host\": \"algo-1\", \"Operation\": \"training\", \"Algorithm\": \"Linear Learner\", \"epoch\": 6}, \"StartTime\": 1606790300.682102}\n",
      "\u001b[0m\n",
      "\u001b[34m#metrics {\"Metrics\": {\"train_absolute_loss_objective\": {\"count\": 1, \"max\": 0.3766017818450928, \"sum\": 0.3766017818450928, \"min\": 0.3766017818450928}}, \"EndTime\": 1606790300.682183, \"Dimensions\": {\"model\": 3, \"Host\": \"algo-1\", \"Operation\": \"training\", \"Algorithm\": \"Linear Learner\", \"epoch\": 6}, \"StartTime\": 1606790300.682165}\n",
      "\u001b[0m\n",
      "\u001b[34m#metrics {\"Metrics\": {\"train_absolute_loss_objective\": {\"count\": 1, \"max\": 0.3066974029541016, \"sum\": 0.3066974029541016, \"min\": 0.3066974029541016}}, \"EndTime\": 1606790300.682244, \"Dimensions\": {\"model\": 4, \"Host\": \"algo-1\", \"Operation\": \"training\", \"Algorithm\": \"Linear Learner\", \"epoch\": 6}, \"StartTime\": 1606790300.682226}\n",
      "\u001b[0m\n",
      "\u001b[34m#metrics {\"Metrics\": {\"train_absolute_loss_objective\": {\"count\": 1, \"max\": 0.3444823875427246, \"sum\": 0.3444823875427246, \"min\": 0.3444823875427246}}, \"EndTime\": 1606790300.682305, \"Dimensions\": {\"model\": 5, \"Host\": \"algo-1\", \"Operation\": \"training\", \"Algorithm\": \"Linear Learner\", \"epoch\": 6}, \"StartTime\": 1606790300.682288}\n",
      "\u001b[0m\n",
      "\u001b[34m#metrics {\"Metrics\": {\"train_absolute_loss_objective\": {\"count\": 1, \"max\": 0.30218784713745117, \"sum\": 0.30218784713745117, \"min\": 0.30218784713745117}}, \"EndTime\": 1606790300.682369, \"Dimensions\": {\"model\": 6, \"Host\": \"algo-1\", \"Operation\": \"training\", \"Algorithm\": \"Linear Learner\", \"epoch\": 6}, \"StartTime\": 1606790300.682351}\n",
      "\u001b[0m\n",
      "\u001b[34m#metrics {\"Metrics\": {\"train_absolute_loss_objective\": {\"count\": 1, \"max\": 0.3226396408081055, \"sum\": 0.3226396408081055, \"min\": 0.3226396408081055}}, \"EndTime\": 1606790300.682429, \"Dimensions\": {\"model\": 7, \"Host\": \"algo-1\", \"Operation\": \"training\", \"Algorithm\": \"Linear Learner\", \"epoch\": 6}, \"StartTime\": 1606790300.682411}\n",
      "\u001b[0m\n",
      "\u001b[34m#metrics {\"Metrics\": {\"train_absolute_loss_objective\": {\"count\": 1, \"max\": 0.36524454498291015, \"sum\": 0.36524454498291015, \"min\": 0.36524454498291015}}, \"EndTime\": 1606790300.682488, \"Dimensions\": {\"model\": 8, \"Host\": \"algo-1\", \"Operation\": \"training\", \"Algorithm\": \"Linear Learner\", \"epoch\": 6}, \"StartTime\": 1606790300.682471}\n",
      "\u001b[0m\n",
      "\u001b[34m#metrics {\"Metrics\": {\"train_absolute_loss_objective\": {\"count\": 1, \"max\": 0.4294131278991699, \"sum\": 0.4294131278991699, \"min\": 0.4294131278991699}}, \"EndTime\": 1606790300.682548, \"Dimensions\": {\"model\": 9, \"Host\": \"algo-1\", \"Operation\": \"training\", \"Algorithm\": \"Linear Learner\", \"epoch\": 6}, \"StartTime\": 1606790300.682531}\n",
      "\u001b[0m\n",
      "\u001b[34m#metrics {\"Metrics\": {\"train_absolute_loss_objective\": {\"count\": 1, \"max\": 0.4018833026885986, \"sum\": 0.4018833026885986, \"min\": 0.4018833026885986}}, \"EndTime\": 1606790300.682604, \"Dimensions\": {\"model\": 10, \"Host\": \"algo-1\", \"Operation\": \"training\", \"Algorithm\": \"Linear Learner\", \"epoch\": 6}, \"StartTime\": 1606790300.682589}\n",
      "\u001b[0m\n",
      "\u001b[34m#metrics {\"Metrics\": {\"train_absolute_loss_objective\": {\"count\": 1, \"max\": 0.37421837615966796, \"sum\": 0.37421837615966796, \"min\": 0.37421837615966796}}, \"EndTime\": 1606790300.682661, \"Dimensions\": {\"model\": 11, \"Host\": \"algo-1\", \"Operation\": \"training\", \"Algorithm\": \"Linear Learner\", \"epoch\": 6}, \"StartTime\": 1606790300.682645}\n",
      "\u001b[0m\n",
      "\u001b[34m#metrics {\"Metrics\": {\"train_absolute_loss_objective\": {\"count\": 1, \"max\": 0.32481238174438476, \"sum\": 0.32481238174438476, \"min\": 0.32481238174438476}}, \"EndTime\": 1606790300.682718, \"Dimensions\": {\"model\": 12, \"Host\": \"algo-1\", \"Operation\": \"training\", \"Algorithm\": \"Linear Learner\", \"epoch\": 6}, \"StartTime\": 1606790300.682702}\n",
      "\u001b[0m\n",
      "\u001b[34m#metrics {\"Metrics\": {\"train_absolute_loss_objective\": {\"count\": 1, \"max\": 0.2919397487640381, \"sum\": 0.2919397487640381, \"min\": 0.2919397487640381}}, \"EndTime\": 1606790300.682778, \"Dimensions\": {\"model\": 13, \"Host\": \"algo-1\", \"Operation\": \"training\", \"Algorithm\": \"Linear Learner\", \"epoch\": 6}, \"StartTime\": 1606790300.682763}\n",
      "\u001b[0m\n",
      "\u001b[34m#metrics {\"Metrics\": {\"train_absolute_loss_objective\": {\"count\": 1, \"max\": 0.31667432403564455, \"sum\": 0.31667432403564455, \"min\": 0.31667432403564455}}, \"EndTime\": 1606790300.682832, \"Dimensions\": {\"model\": 14, \"Host\": \"algo-1\", \"Operation\": \"training\", \"Algorithm\": \"Linear Learner\", \"epoch\": 6}, \"StartTime\": 1606790300.682817}\n",
      "\u001b[0m\n",
      "\u001b[34m#metrics {\"Metrics\": {\"train_absolute_loss_objective\": {\"count\": 1, \"max\": 0.301215576171875, \"sum\": 0.301215576171875, \"min\": 0.301215576171875}}, \"EndTime\": 1606790300.682886, \"Dimensions\": {\"model\": 15, \"Host\": \"algo-1\", \"Operation\": \"training\", \"Algorithm\": \"Linear Learner\", \"epoch\": 6}, \"StartTime\": 1606790300.68287}\n",
      "\u001b[0m\n",
      "\u001b[34m#metrics {\"Metrics\": {\"train_absolute_loss_objective\": {\"count\": 1, \"max\": 0.4348130702972412, \"sum\": 0.4348130702972412, \"min\": 0.4348130702972412}}, \"EndTime\": 1606790300.682945, \"Dimensions\": {\"model\": 16, \"Host\": \"algo-1\", \"Operation\": \"training\", \"Algorithm\": \"Linear Learner\", \"epoch\": 6}, \"StartTime\": 1606790300.682928}\n",
      "\u001b[0m\n",
      "\u001b[34m#metrics {\"Metrics\": {\"train_absolute_loss_objective\": {\"count\": 1, \"max\": 0.4486194324493408, \"sum\": 0.4486194324493408, \"min\": 0.4486194324493408}}, \"EndTime\": 1606790300.683004, \"Dimensions\": {\"model\": 17, \"Host\": \"algo-1\", \"Operation\": \"training\", \"Algorithm\": \"Linear Learner\", \"epoch\": 6}, \"StartTime\": 1606790300.682988}\n",
      "\u001b[0m\n",
      "\u001b[34m#metrics {\"Metrics\": {\"train_absolute_loss_objective\": {\"count\": 1, \"max\": 0.3877212390899658, \"sum\": 0.3877212390899658, \"min\": 0.3877212390899658}}, \"EndTime\": 1606790300.683061, \"Dimensions\": {\"model\": 18, \"Host\": \"algo-1\", \"Operation\": \"training\", \"Algorithm\": \"Linear Learner\", \"epoch\": 6}, \"StartTime\": 1606790300.683045}\n",
      "\u001b[0m\n",
      "\u001b[34m#metrics {\"Metrics\": {\"train_absolute_loss_objective\": {\"count\": 1, \"max\": 0.40581822776794435, \"sum\": 0.40581822776794435, \"min\": 0.40581822776794435}}, \"EndTime\": 1606790300.683124, \"Dimensions\": {\"model\": 19, \"Host\": \"algo-1\", \"Operation\": \"training\", \"Algorithm\": \"Linear Learner\", \"epoch\": 6}, \"StartTime\": 1606790300.683107}\n",
      "\u001b[0m\n",
      "\u001b[34m#metrics {\"Metrics\": {\"train_absolute_loss_objective\": {\"count\": 1, \"max\": 0.36772419929504396, \"sum\": 0.36772419929504396, \"min\": 0.36772419929504396}}, \"EndTime\": 1606790300.683181, \"Dimensions\": {\"model\": 20, \"Host\": \"algo-1\", \"Operation\": \"training\", \"Algorithm\": \"Linear Learner\", \"epoch\": 6}, \"StartTime\": 1606790300.683165}\n",
      "\u001b[0m\n",
      "\u001b[34m#metrics {\"Metrics\": {\"train_absolute_loss_objective\": {\"count\": 1, \"max\": 0.3711697654724121, \"sum\": 0.3711697654724121, \"min\": 0.3711697654724121}}, \"EndTime\": 1606790300.683237, \"Dimensions\": {\"model\": 21, \"Host\": \"algo-1\", \"Operation\": \"training\", \"Algorithm\": \"Linear Learner\", \"epoch\": 6}, \"StartTime\": 1606790300.683222}\n",
      "\u001b[0m\n",
      "\u001b[34m#metrics {\"Metrics\": {\"train_absolute_loss_objective\": {\"count\": 1, \"max\": 0.38710072708129883, \"sum\": 0.38710072708129883, \"min\": 0.38710072708129883}}, \"EndTime\": 1606790300.683294, \"Dimensions\": {\"model\": 22, \"Host\": \"algo-1\", \"Operation\": \"training\", \"Algorithm\": \"Linear Learner\", \"epoch\": 6}, \"StartTime\": 1606790300.683278}\n",
      "\u001b[0m\n",
      "\u001b[34m#metrics {\"Metrics\": {\"train_absolute_loss_objective\": {\"count\": 1, \"max\": 0.3792038116455078, \"sum\": 0.3792038116455078, \"min\": 0.3792038116455078}}, \"EndTime\": 1606790300.683353, \"Dimensions\": {\"model\": 23, \"Host\": \"algo-1\", \"Operation\": \"training\", \"Algorithm\": \"Linear Learner\", \"epoch\": 6}, \"StartTime\": 1606790300.683336}\n",
      "\u001b[0m\n",
      "\u001b[34m#metrics {\"Metrics\": {\"train_absolute_loss_objective\": {\"count\": 1, \"max\": 0.6813738708496093, \"sum\": 0.6813738708496093, \"min\": 0.6813738708496093}}, \"EndTime\": 1606790300.683411, \"Dimensions\": {\"model\": 24, \"Host\": \"algo-1\", \"Operation\": \"training\", \"Algorithm\": \"Linear Learner\", \"epoch\": 6}, \"StartTime\": 1606790300.683396}\n",
      "\u001b[0m\n",
      "\u001b[34m#metrics {\"Metrics\": {\"train_absolute_loss_objective\": {\"count\": 1, \"max\": 0.6822635917663574, \"sum\": 0.6822635917663574, \"min\": 0.6822635917663574}}, \"EndTime\": 1606790300.683465, \"Dimensions\": {\"model\": 25, \"Host\": \"algo-1\", \"Operation\": \"training\", \"Algorithm\": \"Linear Learner\", \"epoch\": 6}, \"StartTime\": 1606790300.68345}\n",
      "\u001b[0m\n",
      "\u001b[34m#metrics {\"Metrics\": {\"train_absolute_loss_objective\": {\"count\": 1, \"max\": 0.6821653709411621, \"sum\": 0.6821653709411621, \"min\": 0.6821653709411621}}, \"EndTime\": 1606790300.683515, \"Dimensions\": {\"model\": 26, \"Host\": \"algo-1\", \"Operation\": \"training\", \"Algorithm\": \"Linear Learner\", \"epoch\": 6}, \"StartTime\": 1606790300.683501}\n",
      "\u001b[0m\n",
      "\u001b[34m#metrics {\"Metrics\": {\"train_absolute_loss_objective\": {\"count\": 1, \"max\": 0.6817789421081543, \"sum\": 0.6817789421081543, \"min\": 0.6817789421081543}}, \"EndTime\": 1606790300.683566, \"Dimensions\": {\"model\": 27, \"Host\": \"algo-1\", \"Operation\": \"training\", \"Algorithm\": \"Linear Learner\", \"epoch\": 6}, \"StartTime\": 1606790300.683551}\n",
      "\u001b[0m\n",
      "\u001b[34m#metrics {\"Metrics\": {\"train_absolute_loss_objective\": {\"count\": 1, \"max\": 0.6987981262207031, \"sum\": 0.6987981262207031, \"min\": 0.6987981262207031}}, \"EndTime\": 1606790300.683624, \"Dimensions\": {\"model\": 28, \"Host\": \"algo-1\", \"Operation\": \"training\", \"Algorithm\": \"Linear Learner\", \"epoch\": 6}, \"StartTime\": 1606790300.683607}\n",
      "\u001b[0m\n",
      "\u001b[34m#metrics {\"Metrics\": {\"train_absolute_loss_objective\": {\"count\": 1, \"max\": 0.7112855796813965, \"sum\": 0.7112855796813965, \"min\": 0.7112855796813965}}, \"EndTime\": 1606790300.683683, \"Dimensions\": {\"model\": 29, \"Host\": \"algo-1\", \"Operation\": \"training\", \"Algorithm\": \"Linear Learner\", \"epoch\": 6}, \"StartTime\": 1606790300.683666}\n",
      "\u001b[0m\n",
      "\u001b[34m#metrics {\"Metrics\": {\"train_absolute_loss_objective\": {\"count\": 1, \"max\": 0.7037110290527344, \"sum\": 0.7037110290527344, \"min\": 0.7037110290527344}}, \"EndTime\": 1606790300.68374, \"Dimensions\": {\"model\": 30, \"Host\": \"algo-1\", \"Operation\": \"training\", \"Algorithm\": \"Linear Learner\", \"epoch\": 6}, \"StartTime\": 1606790300.683724}\n",
      "\u001b[0m\n",
      "\u001b[34m#metrics {\"Metrics\": {\"train_absolute_loss_objective\": {\"count\": 1, \"max\": 0.7087378196716309, \"sum\": 0.7087378196716309, \"min\": 0.7087378196716309}}, \"EndTime\": 1606790300.683797, \"Dimensions\": {\"model\": 31, \"Host\": \"algo-1\", \"Operation\": \"training\", \"Algorithm\": \"Linear Learner\", \"epoch\": 6}, \"StartTime\": 1606790300.68378}\n",
      "\u001b[0m\n",
      "\u001b[34m[12/01/2020 02:38:20 INFO 139642506053440] #quality_metric: host=algo-1, epoch=6, train absolute_loss_objective <loss>=0.39000736618\u001b[0m\n",
      "\u001b[34m[12/01/2020 02:38:20 INFO 139642506053440] #early_stopping_criteria_metric: host=algo-1, epoch=6, criteria=absolute_loss_objective, value=0.291939748764\u001b[0m\n",
      "\u001b[34m[12/01/2020 02:38:20 INFO 139642506053440] Epoch 6: Loss improved. Updating best model\u001b[0m\n",
      "\u001b[34m[12/01/2020 02:38:20 INFO 139642506053440] Saving model for epoch: 6\u001b[0m\n",
      "\u001b[34m[12/01/2020 02:38:20 INFO 139642506053440] Saved checkpoint to \"/tmp/tmpCM2cbP/mx-mod-0000.params\"\u001b[0m\n",
      "\u001b[34m[12/01/2020 02:38:20 INFO 139642506053440] #progress_metric: host=algo-1, completed 7 % of epochs\u001b[0m\n",
      "\u001b[34m#metrics {\"Metrics\": {\"Max Batches Seen Between Resets\": {\"count\": 1, \"max\": 11, \"sum\": 11.0, \"min\": 11}, \"Number of Batches Since Last Reset\": {\"count\": 1, \"max\": 11, \"sum\": 11.0, \"min\": 11}, \"Number of Records Since Last Reset\": {\"count\": 1, \"max\": 1070, \"sum\": 1070.0, \"min\": 1070}, \"Total Batches Seen\": {\"count\": 1, \"max\": 89, \"sum\": 89.0, \"min\": 89}, \"Total Records Seen\": {\"count\": 1, \"max\": 8660, \"sum\": 8660.0, \"min\": 8660}, \"Max Records Seen Between Resets\": {\"count\": 1, \"max\": 1070, \"sum\": 1070.0, \"min\": 1070}, \"Reset Count\": {\"count\": 1, \"max\": 9, \"sum\": 9.0, \"min\": 9}}, \"EndTime\": 1606790300.692514, \"Dimensions\": {\"Host\": \"algo-1\", \"Meta\": \"training_data_iter\", \"Operation\": \"training\", \"Algorithm\": \"Linear Learner\", \"epoch\": 6}, \"StartTime\": 1606790300.484714}\n",
      "\u001b[0m\n",
      "\u001b[34m[12/01/2020 02:38:20 INFO 139642506053440] #throughput_metric: host=algo-1, train throughput=5146.13152496 records/second\u001b[0m\n",
      "\u001b[34m[2020-12-01 02:38:20.933] [tensorio] [info] epoch_stats={\"data_pipeline\": \"/opt/ml/input/data/train\", \"epoch\": 18, \"duration\": 240, \"num_examples\": 11, \"num_bytes\": 81320}\u001b[0m\n",
      "\u001b[34m#metrics {\"Metrics\": {\"train_absolute_loss_objective\": {\"count\": 1, \"max\": 0.3682119560241699, \"sum\": 0.3682119560241699, \"min\": 0.3682119560241699}}, \"EndTime\": 1606790300.933333, \"Dimensions\": {\"model\": 0, \"Host\": \"algo-1\", \"Operation\": \"training\", \"Algorithm\": \"Linear Learner\", \"epoch\": 7}, \"StartTime\": 1606790300.933218}\n",
      "\u001b[0m\n",
      "\u001b[34m#metrics {\"Metrics\": {\"train_absolute_loss_objective\": {\"count\": 1, \"max\": 0.3909097023010254, \"sum\": 0.3909097023010254, \"min\": 0.3909097023010254}}, \"EndTime\": 1606790300.93357, \"Dimensions\": {\"model\": 1, \"Host\": \"algo-1\", \"Operation\": \"training\", \"Algorithm\": \"Linear Learner\", \"epoch\": 7}, \"StartTime\": 1606790300.933407}\n",
      "\u001b[0m\n",
      "\u001b[34m#metrics {\"Metrics\": {\"train_absolute_loss_objective\": {\"count\": 1, \"max\": 0.38855251693725584, \"sum\": 0.38855251693725584, \"min\": 0.38855251693725584}}, \"EndTime\": 1606790300.933643, \"Dimensions\": {\"model\": 2, \"Host\": \"algo-1\", \"Operation\": \"training\", \"Algorithm\": \"Linear Learner\", \"epoch\": 7}, \"StartTime\": 1606790300.93362}\n",
      "\u001b[0m\n",
      "\u001b[34m#metrics {\"Metrics\": {\"train_absolute_loss_objective\": {\"count\": 1, \"max\": 0.35323146057128907, \"sum\": 0.35323146057128907, \"min\": 0.35323146057128907}}, \"EndTime\": 1606790300.933756, \"Dimensions\": {\"model\": 3, \"Host\": \"algo-1\", \"Operation\": \"training\", \"Algorithm\": \"Linear Learner\", \"epoch\": 7}, \"StartTime\": 1606790300.933733}\n",
      "\u001b[0m\n",
      "\u001b[34m#metrics {\"Metrics\": {\"train_absolute_loss_objective\": {\"count\": 1, \"max\": 0.31280309867858885, \"sum\": 0.31280309867858885, \"min\": 0.31280309867858885}}, \"EndTime\": 1606790300.933826, \"Dimensions\": {\"model\": 4, \"Host\": \"algo-1\", \"Operation\": \"training\", \"Algorithm\": \"Linear Learner\", \"epoch\": 7}, \"StartTime\": 1606790300.933806}\n",
      "\u001b[0m\n",
      "\u001b[34m#metrics {\"Metrics\": {\"train_absolute_loss_objective\": {\"count\": 1, \"max\": 0.32657336616516114, \"sum\": 0.32657336616516114, \"min\": 0.32657336616516114}}, \"EndTime\": 1606790300.933927, \"Dimensions\": {\"model\": 5, \"Host\": \"algo-1\", \"Operation\": \"training\", \"Algorithm\": \"Linear Learner\", \"epoch\": 7}, \"StartTime\": 1606790300.933906}\n",
      "\u001b[0m\n",
      "\u001b[34m#metrics {\"Metrics\": {\"train_absolute_loss_objective\": {\"count\": 1, \"max\": 0.3018309955596924, \"sum\": 0.3018309955596924, \"min\": 0.3018309955596924}}, \"EndTime\": 1606790300.933992, \"Dimensions\": {\"model\": 6, \"Host\": \"algo-1\", \"Operation\": \"training\", \"Algorithm\": \"Linear Learner\", \"epoch\": 7}, \"StartTime\": 1606790300.933973}\n",
      "\u001b[0m\n",
      "\u001b[34m#metrics {\"Metrics\": {\"train_absolute_loss_objective\": {\"count\": 1, \"max\": 0.30400795364379885, \"sum\": 0.30400795364379885, \"min\": 0.30400795364379885}}, \"EndTime\": 1606790300.93409, \"Dimensions\": {\"model\": 7, \"Host\": \"algo-1\", \"Operation\": \"training\", \"Algorithm\": \"Linear Learner\", \"epoch\": 7}, \"StartTime\": 1606790300.934069}\n",
      "\u001b[0m\n",
      "\u001b[34m#metrics {\"Metrics\": {\"train_absolute_loss_objective\": {\"count\": 1, \"max\": 0.34492178916931154, \"sum\": 0.34492178916931154, \"min\": 0.34492178916931154}}, \"EndTime\": 1606790300.934153, \"Dimensions\": {\"model\": 8, \"Host\": \"algo-1\", \"Operation\": \"training\", \"Algorithm\": \"Linear Learner\", \"epoch\": 7}, \"StartTime\": 1606790300.934135}\n",
      "\u001b[0m\n",
      "\u001b[34m#metrics {\"Metrics\": {\"train_absolute_loss_objective\": {\"count\": 1, \"max\": 0.4047278919219971, \"sum\": 0.4047278919219971, \"min\": 0.4047278919219971}}, \"EndTime\": 1606790300.934252, \"Dimensions\": {\"model\": 9, \"Host\": \"algo-1\", \"Operation\": \"training\", \"Algorithm\": \"Linear Learner\", \"epoch\": 7}, \"StartTime\": 1606790300.934232}\n",
      "\u001b[0m\n",
      "\u001b[34m#metrics {\"Metrics\": {\"train_absolute_loss_objective\": {\"count\": 1, \"max\": 0.37826405143737796, \"sum\": 0.37826405143737796, \"min\": 0.37826405143737796}}, \"EndTime\": 1606790300.934314, \"Dimensions\": {\"model\": 10, \"Host\": \"algo-1\", \"Operation\": \"training\", \"Algorithm\": \"Linear Learner\", \"epoch\": 7}, \"StartTime\": 1606790300.934298}\n",
      "\u001b[0m\n",
      "\u001b[34m#metrics {\"Metrics\": {\"train_absolute_loss_objective\": {\"count\": 1, \"max\": 0.35132690620422363, \"sum\": 0.35132690620422363, \"min\": 0.35132690620422363}}, \"EndTime\": 1606790300.934412, \"Dimensions\": {\"model\": 11, \"Host\": \"algo-1\", \"Operation\": \"training\", \"Algorithm\": \"Linear Learner\", \"epoch\": 7}, \"StartTime\": 1606790300.934392}\n",
      "\u001b[0m\n",
      "\u001b[34m#metrics {\"Metrics\": {\"train_absolute_loss_objective\": {\"count\": 1, \"max\": 0.3183552494049072, \"sum\": 0.3183552494049072, \"min\": 0.3183552494049072}}, \"EndTime\": 1606790300.934476, \"Dimensions\": {\"model\": 12, \"Host\": \"algo-1\", \"Operation\": \"training\", \"Algorithm\": \"Linear Learner\", \"epoch\": 7}, \"StartTime\": 1606790300.934459}\n",
      "\u001b[0m\n",
      "\u001b[34m#metrics {\"Metrics\": {\"train_absolute_loss_objective\": {\"count\": 1, \"max\": 0.30361690521240237, \"sum\": 0.30361690521240237, \"min\": 0.30361690521240237}}, \"EndTime\": 1606790300.934572, \"Dimensions\": {\"model\": 13, \"Host\": \"algo-1\", \"Operation\": \"training\", \"Algorithm\": \"Linear Learner\", \"epoch\": 7}, \"StartTime\": 1606790300.93455}\n",
      "\u001b[0m\n",
      "\u001b[34m#metrics {\"Metrics\": {\"train_absolute_loss_objective\": {\"count\": 1, \"max\": 0.2941840991973877, \"sum\": 0.2941840991973877, \"min\": 0.2941840991973877}}, \"EndTime\": 1606790300.934636, \"Dimensions\": {\"model\": 14, \"Host\": \"algo-1\", \"Operation\": \"training\", \"Algorithm\": \"Linear Learner\", \"epoch\": 7}, \"StartTime\": 1606790300.93462}\n",
      "\u001b[0m\n",
      "\u001b[34m#metrics {\"Metrics\": {\"train_absolute_loss_objective\": {\"count\": 1, \"max\": 0.30174946784973145, \"sum\": 0.30174946784973145, \"min\": 0.30174946784973145}}, \"EndTime\": 1606790300.934733, \"Dimensions\": {\"model\": 15, \"Host\": \"algo-1\", \"Operation\": \"training\", \"Algorithm\": \"Linear Learner\", \"epoch\": 7}, \"StartTime\": 1606790300.934708}\n",
      "\u001b[0m\n",
      "\u001b[34m#metrics {\"Metrics\": {\"train_absolute_loss_objective\": {\"count\": 1, \"max\": 0.41480691146850585, \"sum\": 0.41480691146850585, \"min\": 0.41480691146850585}}, \"EndTime\": 1606790300.934799, \"Dimensions\": {\"model\": 16, \"Host\": \"algo-1\", \"Operation\": \"training\", \"Algorithm\": \"Linear Learner\", \"epoch\": 7}, \"StartTime\": 1606790300.934782}\n",
      "\u001b[0m\n",
      "\u001b[34m#metrics {\"Metrics\": {\"train_absolute_loss_objective\": {\"count\": 1, \"max\": 0.426026538848877, \"sum\": 0.426026538848877, \"min\": 0.426026538848877}}, \"EndTime\": 1606790300.934908, \"Dimensions\": {\"model\": 17, \"Host\": \"algo-1\", \"Operation\": \"training\", \"Algorithm\": \"Linear Learner\", \"epoch\": 7}, \"StartTime\": 1606790300.934843}\n",
      "\u001b[0m\n",
      "\u001b[34m#metrics {\"Metrics\": {\"train_absolute_loss_objective\": {\"count\": 1, \"max\": 0.37195319175720215, \"sum\": 0.37195319175720215, \"min\": 0.37195319175720215}}, \"EndTime\": 1606790300.934979, \"Dimensions\": {\"model\": 18, \"Host\": \"algo-1\", \"Operation\": \"training\", \"Algorithm\": \"Linear Learner\", \"epoch\": 7}, \"StartTime\": 1606790300.934959}\n",
      "\u001b[0m\n",
      "\u001b[34m#metrics {\"Metrics\": {\"train_absolute_loss_objective\": {\"count\": 1, \"max\": 0.38167496490478514, \"sum\": 0.38167496490478514, \"min\": 0.38167496490478514}}, \"EndTime\": 1606790300.935078, \"Dimensions\": {\"model\": 19, \"Host\": \"algo-1\", \"Operation\": \"training\", \"Algorithm\": \"Linear Learner\", \"epoch\": 7}, \"StartTime\": 1606790300.935029}\n",
      "\u001b[0m\n",
      "\u001b[34m#metrics {\"Metrics\": {\"train_absolute_loss_objective\": {\"count\": 1, \"max\": 0.41422411346435545, \"sum\": 0.41422411346435545, \"min\": 0.41422411346435545}}, \"EndTime\": 1606790300.93515, \"Dimensions\": {\"model\": 20, \"Host\": \"algo-1\", \"Operation\": \"training\", \"Algorithm\": \"Linear Learner\", \"epoch\": 7}, \"StartTime\": 1606790300.93513}\n",
      "\u001b[0m\n",
      "\u001b[34m#metrics {\"Metrics\": {\"train_absolute_loss_objective\": {\"count\": 1, \"max\": 0.37133715629577635, \"sum\": 0.37133715629577635, \"min\": 0.37133715629577635}}, \"EndTime\": 1606790300.935242, \"Dimensions\": {\"model\": 21, \"Host\": \"algo-1\", \"Operation\": \"training\", \"Algorithm\": \"Linear Learner\", \"epoch\": 7}, \"StartTime\": 1606790300.935195}\n",
      "\u001b[0m\n",
      "\u001b[34m#metrics {\"Metrics\": {\"train_absolute_loss_objective\": {\"count\": 1, \"max\": 0.377108585357666, \"sum\": 0.377108585357666, \"min\": 0.377108585357666}}, \"EndTime\": 1606790300.935312, \"Dimensions\": {\"model\": 22, \"Host\": \"algo-1\", \"Operation\": \"training\", \"Algorithm\": \"Linear Learner\", \"epoch\": 7}, \"StartTime\": 1606790300.935293}\n",
      "\u001b[0m\n",
      "\u001b[34m#metrics {\"Metrics\": {\"train_absolute_loss_objective\": {\"count\": 1, \"max\": 0.41360611152648924, \"sum\": 0.41360611152648924, \"min\": 0.41360611152648924}}, \"EndTime\": 1606790300.935373, \"Dimensions\": {\"model\": 23, \"Host\": \"algo-1\", \"Operation\": \"training\", \"Algorithm\": \"Linear Learner\", \"epoch\": 7}, \"StartTime\": 1606790300.935356}\n",
      "\u001b[0m\n",
      "\u001b[34m#metrics {\"Metrics\": {\"train_absolute_loss_objective\": {\"count\": 1, \"max\": 0.6821949119567872, \"sum\": 0.6821949119567872, \"min\": 0.6821949119567872}}, \"EndTime\": 1606790300.935471, \"Dimensions\": {\"model\": 24, \"Host\": \"algo-1\", \"Operation\": \"training\", \"Algorithm\": \"Linear Learner\", \"epoch\": 7}, \"StartTime\": 1606790300.935451}\n",
      "\u001b[0m\n",
      "\u001b[34m#metrics {\"Metrics\": {\"train_absolute_loss_objective\": {\"count\": 1, \"max\": 0.6817616500854492, \"sum\": 0.6817616500854492, \"min\": 0.6817616500854492}}, \"EndTime\": 1606790300.935532, \"Dimensions\": {\"model\": 25, \"Host\": \"algo-1\", \"Operation\": \"training\", \"Algorithm\": \"Linear Learner\", \"epoch\": 7}, \"StartTime\": 1606790300.935515}\n",
      "\u001b[0m\n",
      "\u001b[34m#metrics {\"Metrics\": {\"train_absolute_loss_objective\": {\"count\": 1, \"max\": 0.6819303245544434, \"sum\": 0.6819303245544434, \"min\": 0.6819303245544434}}, \"EndTime\": 1606790300.935627, \"Dimensions\": {\"model\": 26, \"Host\": \"algo-1\", \"Operation\": \"training\", \"Algorithm\": \"Linear Learner\", \"epoch\": 7}, \"StartTime\": 1606790300.935607}\n",
      "\u001b[0m\n",
      "\u001b[34m#metrics {\"Metrics\": {\"train_absolute_loss_objective\": {\"count\": 1, \"max\": 0.6814386405944824, \"sum\": 0.6814386405944824, \"min\": 0.6814386405944824}}, \"EndTime\": 1606790300.935692, \"Dimensions\": {\"model\": 27, \"Host\": \"algo-1\", \"Operation\": \"training\", \"Algorithm\": \"Linear Learner\", \"epoch\": 7}, \"StartTime\": 1606790300.935673}\n",
      "\u001b[0m\n",
      "\u001b[34m#metrics {\"Metrics\": {\"train_absolute_loss_objective\": {\"count\": 1, \"max\": 0.7033966751098633, \"sum\": 0.7033966751098633, \"min\": 0.7033966751098633}}, \"EndTime\": 1606790300.935789, \"Dimensions\": {\"model\": 28, \"Host\": \"algo-1\", \"Operation\": \"training\", \"Algorithm\": \"Linear Learner\", \"epoch\": 7}, \"StartTime\": 1606790300.935769}\n",
      "\u001b[0m\n",
      "\u001b[34m#metrics {\"Metrics\": {\"train_absolute_loss_objective\": {\"count\": 1, \"max\": 0.7026115760803223, \"sum\": 0.7026115760803223, \"min\": 0.7026115760803223}}, \"EndTime\": 1606790300.935852, \"Dimensions\": {\"model\": 29, \"Host\": \"algo-1\", \"Operation\": \"training\", \"Algorithm\": \"Linear Learner\", \"epoch\": 7}, \"StartTime\": 1606790300.935833}\n",
      "\u001b[0m\n",
      "\u001b[34m#metrics {\"Metrics\": {\"train_absolute_loss_objective\": {\"count\": 1, \"max\": 0.7055955200195313, \"sum\": 0.7055955200195313, \"min\": 0.7055955200195313}}, \"EndTime\": 1606790300.935944, \"Dimensions\": {\"model\": 30, \"Host\": \"algo-1\", \"Operation\": \"training\", \"Algorithm\": \"Linear Learner\", \"epoch\": 7}, \"StartTime\": 1606790300.935924}\n",
      "\u001b[0m\n",
      "\u001b[34m#metrics {\"Metrics\": {\"train_absolute_loss_objective\": {\"count\": 1, \"max\": 0.7030723915100098, \"sum\": 0.7030723915100098, \"min\": 0.7030723915100098}}, \"EndTime\": 1606790300.936034, \"Dimensions\": {\"model\": 31, \"Host\": \"algo-1\", \"Operation\": \"training\", \"Algorithm\": \"Linear Learner\", \"epoch\": 7}, \"StartTime\": 1606790300.936015}\n",
      "\u001b[0m\n",
      "\u001b[34m[12/01/2020 02:38:20 INFO 139642506053440] #quality_metric: host=algo-1, epoch=7, train absolute_loss_objective <loss>=0.368211956024\u001b[0m\n",
      "\u001b[34m[12/01/2020 02:38:20 INFO 139642506053440] #early_stopping_criteria_metric: host=algo-1, epoch=7, criteria=absolute_loss_objective, value=0.294184099197\u001b[0m\n",
      "\u001b[34m[12/01/2020 02:38:20 INFO 139642506053440] Saving model for epoch: 7\u001b[0m\n",
      "\u001b[34m[12/01/2020 02:38:20 INFO 139642506053440] Saved checkpoint to \"/tmp/tmp_Z4gIw/mx-mod-0000.params\"\u001b[0m\n",
      "\u001b[34m[12/01/2020 02:38:20 INFO 139642506053440] #progress_metric: host=algo-1, completed 8 % of epochs\u001b[0m\n",
      "\u001b[34m#metrics {\"Metrics\": {\"Max Batches Seen Between Resets\": {\"count\": 1, \"max\": 11, \"sum\": 11.0, \"min\": 11}, \"Number of Batches Since Last Reset\": {\"count\": 1, \"max\": 11, \"sum\": 11.0, \"min\": 11}, \"Number of Records Since Last Reset\": {\"count\": 1, \"max\": 1070, \"sum\": 1070.0, \"min\": 1070}, \"Total Batches Seen\": {\"count\": 1, \"max\": 100, \"sum\": 100.0, \"min\": 100}, \"Total Records Seen\": {\"count\": 1, \"max\": 9730, \"sum\": 9730.0, \"min\": 9730}, \"Max Records Seen Between Resets\": {\"count\": 1, \"max\": 1070, \"sum\": 1070.0, \"min\": 1070}, \"Reset Count\": {\"count\": 1, \"max\": 10, \"sum\": 10.0, \"min\": 10}}, \"EndTime\": 1606790300.942628, \"Dimensions\": {\"Host\": \"algo-1\", \"Meta\": \"training_data_iter\", \"Operation\": \"training\", \"Algorithm\": \"Linear Learner\", \"epoch\": 7}, \"StartTime\": 1606790300.692782}\n",
      "\u001b[0m\n",
      "\u001b[34m[12/01/2020 02:38:20 INFO 139642506053440] #throughput_metric: host=algo-1, train throughput=4280.5470212 records/second\u001b[0m\n",
      "\u001b[34m[2020-12-01 02:38:21.164] [tensorio] [info] epoch_stats={\"data_pipeline\": \"/opt/ml/input/data/train\", \"epoch\": 20, \"duration\": 221, \"num_examples\": 11, \"num_bytes\": 81320}\u001b[0m\n",
      "\u001b[34m#metrics {\"Metrics\": {\"train_absolute_loss_objective\": {\"count\": 1, \"max\": 0.3478173961639404, \"sum\": 0.3478173961639404, \"min\": 0.3478173961639404}}, \"EndTime\": 1606790301.165123, \"Dimensions\": {\"model\": 0, \"Host\": \"algo-1\", \"Operation\": \"training\", \"Algorithm\": \"Linear Learner\", \"epoch\": 8}, \"StartTime\": 1606790301.165037}\n",
      "\u001b[0m\n",
      "\u001b[34m#metrics {\"Metrics\": {\"train_absolute_loss_objective\": {\"count\": 1, \"max\": 0.3661725254058838, \"sum\": 0.3661725254058838, \"min\": 0.3661725254058838}}, \"EndTime\": 1606790301.165218, \"Dimensions\": {\"model\": 1, \"Host\": \"algo-1\", \"Operation\": \"training\", \"Algorithm\": \"Linear Learner\", \"epoch\": 8}, \"StartTime\": 1606790301.165197}\n",
      "\u001b[0m\n",
      "\u001b[34m#metrics {\"Metrics\": {\"train_absolute_loss_objective\": {\"count\": 1, \"max\": 0.3654432430267334, \"sum\": 0.3654432430267334, \"min\": 0.3654432430267334}}, \"EndTime\": 1606790301.165303, \"Dimensions\": {\"model\": 2, \"Host\": \"algo-1\", \"Operation\": \"training\", \"Algorithm\": \"Linear Learner\", \"epoch\": 8}, \"StartTime\": 1606790301.165286}\n",
      "\u001b[0m\n",
      "\u001b[34m#metrics {\"Metrics\": {\"train_absolute_loss_objective\": {\"count\": 1, \"max\": 0.3335547046661377, \"sum\": 0.3335547046661377, \"min\": 0.3335547046661377}}, \"EndTime\": 1606790301.165372, \"Dimensions\": {\"model\": 3, \"Host\": \"algo-1\", \"Operation\": \"training\", \"Algorithm\": \"Linear Learner\", \"epoch\": 8}, \"StartTime\": 1606790301.165355}\n",
      "\u001b[0m\n",
      "\u001b[34m#metrics {\"Metrics\": {\"train_absolute_loss_objective\": {\"count\": 1, \"max\": 0.32289785194396975, \"sum\": 0.32289785194396975, \"min\": 0.32289785194396975}}, \"EndTime\": 1606790301.165433, \"Dimensions\": {\"model\": 4, \"Host\": \"algo-1\", \"Operation\": \"training\", \"Algorithm\": \"Linear Learner\", \"epoch\": 8}, \"StartTime\": 1606790301.165417}\n",
      "\u001b[0m\n",
      "\u001b[34m#metrics {\"Metrics\": {\"train_absolute_loss_objective\": {\"count\": 1, \"max\": 0.332821985244751, \"sum\": 0.332821985244751, \"min\": 0.332821985244751}}, \"EndTime\": 1606790301.165494, \"Dimensions\": {\"model\": 5, \"Host\": \"algo-1\", \"Operation\": \"training\", \"Algorithm\": \"Linear Learner\", \"epoch\": 8}, \"StartTime\": 1606790301.165478}\n",
      "\u001b[0m\n",
      "\u001b[34m#metrics {\"Metrics\": {\"train_absolute_loss_objective\": {\"count\": 1, \"max\": 0.3057347583770752, \"sum\": 0.3057347583770752, \"min\": 0.3057347583770752}}, \"EndTime\": 1606790301.165555, \"Dimensions\": {\"model\": 6, \"Host\": \"algo-1\", \"Operation\": \"training\", \"Algorithm\": \"Linear Learner\", \"epoch\": 8}, \"StartTime\": 1606790301.165537}\n",
      "\u001b[0m\n",
      "\u001b[34m#metrics {\"Metrics\": {\"train_absolute_loss_objective\": {\"count\": 1, \"max\": 0.29952239799499514, \"sum\": 0.29952239799499514, \"min\": 0.29952239799499514}}, \"EndTime\": 1606790301.165617, \"Dimensions\": {\"model\": 7, \"Host\": \"algo-1\", \"Operation\": \"training\", \"Algorithm\": \"Linear Learner\", \"epoch\": 8}, \"StartTime\": 1606790301.1656}\n",
      "\u001b[0m\n",
      "\u001b[34m#metrics {\"Metrics\": {\"train_absolute_loss_objective\": {\"count\": 1, \"max\": 0.32933420944213865, \"sum\": 0.32933420944213865, \"min\": 0.32933420944213865}}, \"EndTime\": 1606790301.165703, \"Dimensions\": {\"model\": 8, \"Host\": \"algo-1\", \"Operation\": \"training\", \"Algorithm\": \"Linear Learner\", \"epoch\": 8}, \"StartTime\": 1606790301.165664}\n",
      "\u001b[0m\n",
      "\u001b[34m#metrics {\"Metrics\": {\"train_absolute_loss_objective\": {\"count\": 1, \"max\": 0.3801090793609619, \"sum\": 0.3801090793609619, \"min\": 0.3801090793609619}}, \"EndTime\": 1606790301.165787, \"Dimensions\": {\"model\": 9, \"Host\": \"algo-1\", \"Operation\": \"training\", \"Algorithm\": \"Linear Learner\", \"epoch\": 8}, \"StartTime\": 1606790301.165752}\n",
      "\u001b[0m\n",
      "\u001b[34m#metrics {\"Metrics\": {\"train_absolute_loss_objective\": {\"count\": 1, \"max\": 0.3570855159759522, \"sum\": 0.3570855159759522, \"min\": 0.3570855159759522}}, \"EndTime\": 1606790301.165842, \"Dimensions\": {\"model\": 10, \"Host\": \"algo-1\", \"Operation\": \"training\", \"Algorithm\": \"Linear Learner\", \"epoch\": 8}, \"StartTime\": 1606790301.165826}\n",
      "\u001b[0m\n",
      "\u001b[34m#metrics {\"Metrics\": {\"train_absolute_loss_objective\": {\"count\": 1, \"max\": 0.3325688133239746, \"sum\": 0.3325688133239746, \"min\": 0.3325688133239746}}, \"EndTime\": 1606790301.165897, \"Dimensions\": {\"model\": 11, \"Host\": \"algo-1\", \"Operation\": \"training\", \"Algorithm\": \"Linear Learner\", \"epoch\": 8}, \"StartTime\": 1606790301.165882}\n",
      "\u001b[0m\n",
      "\u001b[34m#metrics {\"Metrics\": {\"train_absolute_loss_objective\": {\"count\": 1, \"max\": 0.30943635368347167, \"sum\": 0.30943635368347167, \"min\": 0.30943635368347167}}, \"EndTime\": 1606790301.165959, \"Dimensions\": {\"model\": 12, \"Host\": \"algo-1\", \"Operation\": \"training\", \"Algorithm\": \"Linear Learner\", \"epoch\": 8}, \"StartTime\": 1606790301.165942}\n",
      "\u001b[0m\n",
      "\u001b[34m#metrics {\"Metrics\": {\"train_absolute_loss_objective\": {\"count\": 1, \"max\": 0.3358501567840576, \"sum\": 0.3358501567840576, \"min\": 0.3358501567840576}}, \"EndTime\": 1606790301.166018, \"Dimensions\": {\"model\": 13, \"Host\": \"algo-1\", \"Operation\": \"training\", \"Algorithm\": \"Linear Learner\", \"epoch\": 8}, \"StartTime\": 1606790301.166001}\n",
      "\u001b[0m\n",
      "\u001b[34m#metrics {\"Metrics\": {\"train_absolute_loss_objective\": {\"count\": 1, \"max\": 0.29693992042541506, \"sum\": 0.29693992042541506, \"min\": 0.29693992042541506}}, \"EndTime\": 1606790301.166079, \"Dimensions\": {\"model\": 14, \"Host\": \"algo-1\", \"Operation\": \"training\", \"Algorithm\": \"Linear Learner\", \"epoch\": 8}, \"StartTime\": 1606790301.166062}\n",
      "\u001b[0m\n",
      "\u001b[34m#metrics {\"Metrics\": {\"train_absolute_loss_objective\": {\"count\": 1, \"max\": 0.3006992015838623, \"sum\": 0.3006992015838623, \"min\": 0.3006992015838623}}, \"EndTime\": 1606790301.166139, \"Dimensions\": {\"model\": 15, \"Host\": \"algo-1\", \"Operation\": \"training\", \"Algorithm\": \"Linear Learner\", \"epoch\": 8}, \"StartTime\": 1606790301.166121}\n",
      "\u001b[0m\n",
      "\u001b[34m#metrics {\"Metrics\": {\"train_absolute_loss_objective\": {\"count\": 1, \"max\": 0.4003960189819336, \"sum\": 0.4003960189819336, \"min\": 0.4003960189819336}}, \"EndTime\": 1606790301.166197, \"Dimensions\": {\"model\": 16, \"Host\": \"algo-1\", \"Operation\": \"training\", \"Algorithm\": \"Linear Learner\", \"epoch\": 8}, \"StartTime\": 1606790301.16618}\n",
      "\u001b[0m\n",
      "\u001b[34m#metrics {\"Metrics\": {\"train_absolute_loss_objective\": {\"count\": 1, \"max\": 0.4111322498321533, \"sum\": 0.4111322498321533, \"min\": 0.4111322498321533}}, \"EndTime\": 1606790301.166254, \"Dimensions\": {\"model\": 17, \"Host\": \"algo-1\", \"Operation\": \"training\", \"Algorithm\": \"Linear Learner\", \"epoch\": 8}, \"StartTime\": 1606790301.166239}\n",
      "\u001b[0m\n",
      "\u001b[34m#metrics {\"Metrics\": {\"train_absolute_loss_objective\": {\"count\": 1, \"max\": 0.36230628967285156, \"sum\": 0.36230628967285156, \"min\": 0.36230628967285156}}, \"EndTime\": 1606790301.166315, \"Dimensions\": {\"model\": 18, \"Host\": \"algo-1\", \"Operation\": \"training\", \"Algorithm\": \"Linear Learner\", \"epoch\": 8}, \"StartTime\": 1606790301.166297}\n",
      "\u001b[0m\n",
      "\u001b[34m#metrics {\"Metrics\": {\"train_absolute_loss_objective\": {\"count\": 1, \"max\": 0.36908388137817383, \"sum\": 0.36908388137817383, \"min\": 0.36908388137817383}}, \"EndTime\": 1606790301.166374, \"Dimensions\": {\"model\": 19, \"Host\": \"algo-1\", \"Operation\": \"training\", \"Algorithm\": \"Linear Learner\", \"epoch\": 8}, \"StartTime\": 1606790301.166357}\n",
      "\u001b[0m\n",
      "\u001b[34m#metrics {\"Metrics\": {\"train_absolute_loss_objective\": {\"count\": 1, \"max\": 0.380822416305542, \"sum\": 0.380822416305542, \"min\": 0.380822416305542}}, \"EndTime\": 1606790301.166448, \"Dimensions\": {\"model\": 20, \"Host\": \"algo-1\", \"Operation\": \"training\", \"Algorithm\": \"Linear Learner\", \"epoch\": 8}, \"StartTime\": 1606790301.166429}\n",
      "\u001b[0m\n",
      "\u001b[34m#metrics {\"Metrics\": {\"train_absolute_loss_objective\": {\"count\": 1, \"max\": 0.3668060932159424, \"sum\": 0.3668060932159424, \"min\": 0.3668060932159424}}, \"EndTime\": 1606790301.166506, \"Dimensions\": {\"model\": 21, \"Host\": \"algo-1\", \"Operation\": \"training\", \"Algorithm\": \"Linear Learner\", \"epoch\": 8}, \"StartTime\": 1606790301.166489}\n",
      "\u001b[0m\n",
      "\u001b[34m#metrics {\"Metrics\": {\"train_absolute_loss_objective\": {\"count\": 1, \"max\": 0.3706066150665283, \"sum\": 0.3706066150665283, \"min\": 0.3706066150665283}}, \"EndTime\": 1606790301.16656, \"Dimensions\": {\"model\": 22, \"Host\": \"algo-1\", \"Operation\": \"training\", \"Algorithm\": \"Linear Learner\", \"epoch\": 8}, \"StartTime\": 1606790301.166544}\n",
      "\u001b[0m\n",
      "\u001b[34m#metrics {\"Metrics\": {\"train_absolute_loss_objective\": {\"count\": 1, \"max\": 0.3853539695739746, \"sum\": 0.3853539695739746, \"min\": 0.3853539695739746}}, \"EndTime\": 1606790301.166615, \"Dimensions\": {\"model\": 23, \"Host\": \"algo-1\", \"Operation\": \"training\", \"Algorithm\": \"Linear Learner\", \"epoch\": 8}, \"StartTime\": 1606790301.166598}\n",
      "\u001b[0m\n",
      "\u001b[34m#metrics {\"Metrics\": {\"train_absolute_loss_objective\": {\"count\": 1, \"max\": 0.6816620445251464, \"sum\": 0.6816620445251464, \"min\": 0.6816620445251464}}, \"EndTime\": 1606790301.166674, \"Dimensions\": {\"model\": 24, \"Host\": \"algo-1\", \"Operation\": \"training\", \"Algorithm\": \"Linear Learner\", \"epoch\": 8}, \"StartTime\": 1606790301.166657}\n",
      "\u001b[0m\n",
      "\u001b[34m#metrics {\"Metrics\": {\"train_absolute_loss_objective\": {\"count\": 1, \"max\": 0.6817791328430176, \"sum\": 0.6817791328430176, \"min\": 0.6817791328430176}}, \"EndTime\": 1606790301.166742, \"Dimensions\": {\"model\": 25, \"Host\": \"algo-1\", \"Operation\": \"training\", \"Algorithm\": \"Linear Learner\", \"epoch\": 8}, \"StartTime\": 1606790301.166723}\n",
      "\u001b[0m\n",
      "\u001b[34m#metrics {\"Metrics\": {\"train_absolute_loss_objective\": {\"count\": 1, \"max\": 0.6816882019042969, \"sum\": 0.6816882019042969, \"min\": 0.6816882019042969}}, \"EndTime\": 1606790301.166804, \"Dimensions\": {\"model\": 26, \"Host\": \"algo-1\", \"Operation\": \"training\", \"Algorithm\": \"Linear Learner\", \"epoch\": 8}, \"StartTime\": 1606790301.166786}\n",
      "\u001b[0m\n",
      "\u001b[34m#metrics {\"Metrics\": {\"train_absolute_loss_objective\": {\"count\": 1, \"max\": 0.6821453475952148, \"sum\": 0.6821453475952148, \"min\": 0.6821453475952148}}, \"EndTime\": 1606790301.166867, \"Dimensions\": {\"model\": 27, \"Host\": \"algo-1\", \"Operation\": \"training\", \"Algorithm\": \"Linear Learner\", \"epoch\": 8}, \"StartTime\": 1606790301.166851}\n",
      "\u001b[0m\n",
      "\u001b[34m#metrics {\"Metrics\": {\"train_absolute_loss_objective\": {\"count\": 1, \"max\": 0.7005211791992187, \"sum\": 0.7005211791992187, \"min\": 0.7005211791992187}}, \"EndTime\": 1606790301.166928, \"Dimensions\": {\"model\": 28, \"Host\": \"algo-1\", \"Operation\": \"training\", \"Algorithm\": \"Linear Learner\", \"epoch\": 8}, \"StartTime\": 1606790301.166911}\n",
      "\u001b[0m\n",
      "\u001b[34m#metrics {\"Metrics\": {\"train_absolute_loss_objective\": {\"count\": 1, \"max\": 0.6975378036499024, \"sum\": 0.6975378036499024, \"min\": 0.6975378036499024}}, \"EndTime\": 1606790301.166985, \"Dimensions\": {\"model\": 29, \"Host\": \"algo-1\", \"Operation\": \"training\", \"Algorithm\": \"Linear Learner\", \"epoch\": 8}, \"StartTime\": 1606790301.166969}\n",
      "\u001b[0m\n",
      "\u001b[34m#metrics {\"Metrics\": {\"train_absolute_loss_objective\": {\"count\": 1, \"max\": 0.7085018272399902, \"sum\": 0.7085018272399902, \"min\": 0.7085018272399902}}, \"EndTime\": 1606790301.167043, \"Dimensions\": {\"model\": 30, \"Host\": \"algo-1\", \"Operation\": \"training\", \"Algorithm\": \"Linear Learner\", \"epoch\": 8}, \"StartTime\": 1606790301.167026}\n",
      "\u001b[0m\n",
      "\u001b[34m#metrics {\"Metrics\": {\"train_absolute_loss_objective\": {\"count\": 1, \"max\": 0.6998899841308593, \"sum\": 0.6998899841308593, \"min\": 0.6998899841308593}}, \"EndTime\": 1606790301.16711, \"Dimensions\": {\"model\": 31, \"Host\": \"algo-1\", \"Operation\": \"training\", \"Algorithm\": \"Linear Learner\", \"epoch\": 8}, \"StartTime\": 1606790301.167092}\n",
      "\u001b[0m\n",
      "\u001b[34m[12/01/2020 02:38:21 INFO 139642506053440] #quality_metric: host=algo-1, epoch=8, train absolute_loss_objective <loss>=0.347817396164\u001b[0m\n",
      "\u001b[34m[12/01/2020 02:38:21 INFO 139642506053440] #early_stopping_criteria_metric: host=algo-1, epoch=8, criteria=absolute_loss_objective, value=0.296939920425\u001b[0m\n",
      "\u001b[34m[12/01/2020 02:38:21 INFO 139642506053440] Saving model for epoch: 8\u001b[0m\n",
      "\u001b[34m[12/01/2020 02:38:21 INFO 139642506053440] Saved checkpoint to \"/tmp/tmpB17HlB/mx-mod-0000.params\"\u001b[0m\n",
      "\u001b[34m[12/01/2020 02:38:21 INFO 139642506053440] #progress_metric: host=algo-1, completed 9 % of epochs\u001b[0m\n",
      "\u001b[34m#metrics {\"Metrics\": {\"Max Batches Seen Between Resets\": {\"count\": 1, \"max\": 11, \"sum\": 11.0, \"min\": 11}, \"Number of Batches Since Last Reset\": {\"count\": 1, \"max\": 11, \"sum\": 11.0, \"min\": 11}, \"Number of Records Since Last Reset\": {\"count\": 1, \"max\": 1070, \"sum\": 1070.0, \"min\": 1070}, \"Total Batches Seen\": {\"count\": 1, \"max\": 111, \"sum\": 111.0, \"min\": 111}, \"Total Records Seen\": {\"count\": 1, \"max\": 10800, \"sum\": 10800.0, \"min\": 10800}, \"Max Records Seen Between Resets\": {\"count\": 1, \"max\": 1070, \"sum\": 1070.0, \"min\": 1070}, \"Reset Count\": {\"count\": 1, \"max\": 11, \"sum\": 11.0, \"min\": 11}}, \"EndTime\": 1606790301.176778, \"Dimensions\": {\"Host\": \"algo-1\", \"Meta\": \"training_data_iter\", \"Operation\": \"training\", \"Algorithm\": \"Linear Learner\", \"epoch\": 8}, \"StartTime\": 1606790300.942896}\n",
      "\u001b[0m\n",
      "\u001b[34m[12/01/2020 02:38:21 INFO 139642506053440] #throughput_metric: host=algo-1, train throughput=4572.3567084 records/second\u001b[0m\n",
      "\u001b[34m[2020-12-01 02:38:21.365] [tensorio] [info] epoch_stats={\"data_pipeline\": \"/opt/ml/input/data/train\", \"epoch\": 22, \"duration\": 188, \"num_examples\": 11, \"num_bytes\": 81320}\u001b[0m\n",
      "\u001b[34m#metrics {\"Metrics\": {\"train_absolute_loss_objective\": {\"count\": 1, \"max\": 0.33121007347106934, \"sum\": 0.33121007347106934, \"min\": 0.33121007347106934}}, \"EndTime\": 1606790301.366124, \"Dimensions\": {\"model\": 0, \"Host\": \"algo-1\", \"Operation\": \"training\", \"Algorithm\": \"Linear Learner\", \"epoch\": 9}, \"StartTime\": 1606790301.366035}\n",
      "\u001b[0m\n",
      "\u001b[34m#metrics {\"Metrics\": {\"train_absolute_loss_objective\": {\"count\": 1, \"max\": 0.3441620788574219, \"sum\": 0.3441620788574219, \"min\": 0.3441620788574219}}, \"EndTime\": 1606790301.366296, \"Dimensions\": {\"model\": 1, \"Host\": \"algo-1\", \"Operation\": \"training\", \"Algorithm\": \"Linear Learner\", \"epoch\": 9}, \"StartTime\": 1606790301.36627}\n",
      "\u001b[0m\n",
      "\u001b[34m#metrics {\"Metrics\": {\"train_absolute_loss_objective\": {\"count\": 1, \"max\": 0.3450581111907959, \"sum\": 0.3450581111907959, \"min\": 0.3450581111907959}}, \"EndTime\": 1606790301.366447, \"Dimensions\": {\"model\": 2, \"Host\": \"algo-1\", \"Operation\": \"training\", \"Algorithm\": \"Linear Learner\", \"epoch\": 9}, \"StartTime\": 1606790301.366423}\n",
      "\u001b[0m\n",
      "\u001b[34m#metrics {\"Metrics\": {\"train_absolute_loss_objective\": {\"count\": 1, \"max\": 0.3221482028961182, \"sum\": 0.3221482028961182, \"min\": 0.3221482028961182}}, \"EndTime\": 1606790301.366582, \"Dimensions\": {\"model\": 3, \"Host\": \"algo-1\", \"Operation\": \"training\", \"Algorithm\": \"Linear Learner\", \"epoch\": 9}, \"StartTime\": 1606790301.366558}\n",
      "\u001b[0m\n",
      "\u001b[34m#metrics {\"Metrics\": {\"train_absolute_loss_objective\": {\"count\": 1, \"max\": 0.3262778663635254, \"sum\": 0.3262778663635254, \"min\": 0.3262778663635254}}, \"EndTime\": 1606790301.366794, \"Dimensions\": {\"model\": 4, \"Host\": \"algo-1\", \"Operation\": \"training\", \"Algorithm\": \"Linear Learner\", \"epoch\": 9}, \"StartTime\": 1606790301.36673}\n",
      "\u001b[0m\n",
      "\u001b[34m#metrics {\"Metrics\": {\"train_absolute_loss_objective\": {\"count\": 1, \"max\": 0.3153433837890625, \"sum\": 0.3153433837890625, \"min\": 0.3153433837890625}}, \"EndTime\": 1606790301.367108, \"Dimensions\": {\"model\": 5, \"Host\": \"algo-1\", \"Operation\": \"training\", \"Algorithm\": \"Linear Learner\", \"epoch\": 9}, \"StartTime\": 1606790301.367088}\n",
      "\u001b[0m\n",
      "\u001b[34m#metrics {\"Metrics\": {\"train_absolute_loss_objective\": {\"count\": 1, \"max\": 0.3187548122406006, \"sum\": 0.3187548122406006, \"min\": 0.3187548122406006}}, \"EndTime\": 1606790301.367366, \"Dimensions\": {\"model\": 6, \"Host\": \"algo-1\", \"Operation\": \"training\", \"Algorithm\": \"Linear Learner\", \"epoch\": 9}, \"StartTime\": 1606790301.367346}\n",
      "\u001b[0m\n",
      "\u001b[34m#metrics {\"Metrics\": {\"train_absolute_loss_objective\": {\"count\": 1, \"max\": 0.29337357330322267, \"sum\": 0.29337357330322267, \"min\": 0.29337357330322267}}, \"EndTime\": 1606790301.367629, \"Dimensions\": {\"model\": 7, \"Host\": \"algo-1\", \"Operation\": \"training\", \"Algorithm\": \"Linear Learner\", \"epoch\": 9}, \"StartTime\": 1606790301.367609}\n",
      "\u001b[0m\n",
      "\u001b[34m#metrics {\"Metrics\": {\"train_absolute_loss_objective\": {\"count\": 1, \"max\": 0.32013707542419434, \"sum\": 0.32013707542419434, \"min\": 0.32013707542419434}}, \"EndTime\": 1606790301.367885, \"Dimensions\": {\"model\": 8, \"Host\": \"algo-1\", \"Operation\": \"training\", \"Algorithm\": \"Linear Learner\", \"epoch\": 9}, \"StartTime\": 1606790301.367864}\n",
      "\u001b[0m\n",
      "\u001b[34m#metrics {\"Metrics\": {\"train_absolute_loss_objective\": {\"count\": 1, \"max\": 0.35556113815307616, \"sum\": 0.35556113815307616, \"min\": 0.35556113815307616}}, \"EndTime\": 1606790301.368138, \"Dimensions\": {\"model\": 9, \"Host\": \"algo-1\", \"Operation\": \"training\", \"Algorithm\": \"Linear Learner\", \"epoch\": 9}, \"StartTime\": 1606790301.368117}\n",
      "\u001b[0m\n",
      "\u001b[34m#metrics {\"Metrics\": {\"train_absolute_loss_objective\": {\"count\": 1, \"max\": 0.3378560485839844, \"sum\": 0.3378560485839844, \"min\": 0.3378560485839844}}, \"EndTime\": 1606790301.36839, \"Dimensions\": {\"model\": 10, \"Host\": \"algo-1\", \"Operation\": \"training\", \"Algorithm\": \"Linear Learner\", \"epoch\": 9}, \"StartTime\": 1606790301.368369}\n",
      "\u001b[0m\n",
      "\u001b[34m#metrics {\"Metrics\": {\"train_absolute_loss_objective\": {\"count\": 1, \"max\": 0.321074577331543, \"sum\": 0.321074577331543, \"min\": 0.321074577331543}}, \"EndTime\": 1606790301.368574, \"Dimensions\": {\"model\": 11, \"Host\": \"algo-1\", \"Operation\": \"training\", \"Algorithm\": \"Linear Learner\", \"epoch\": 9}, \"StartTime\": 1606790301.368549}\n",
      "\u001b[0m\n",
      "\u001b[34m#metrics {\"Metrics\": {\"train_absolute_loss_objective\": {\"count\": 1, \"max\": 0.3246884250640869, \"sum\": 0.3246884250640869, \"min\": 0.3246884250640869}}, \"EndTime\": 1606790301.368698, \"Dimensions\": {\"model\": 12, \"Host\": \"algo-1\", \"Operation\": \"training\", \"Algorithm\": \"Linear Learner\", \"epoch\": 9}, \"StartTime\": 1606790301.368673}\n",
      "\u001b[0m\n",
      "\u001b[34m#metrics {\"Metrics\": {\"train_absolute_loss_objective\": {\"count\": 1, \"max\": 0.3295299415588379, \"sum\": 0.3295299415588379, \"min\": 0.3295299415588379}}, \"EndTime\": 1606790301.368824, \"Dimensions\": {\"model\": 13, \"Host\": \"algo-1\", \"Operation\": \"training\", \"Algorithm\": \"Linear Learner\", \"epoch\": 9}, \"StartTime\": 1606790301.368803}\n",
      "\u001b[0m\n",
      "\u001b[34m#metrics {\"Metrics\": {\"train_absolute_loss_objective\": {\"count\": 1, \"max\": 0.3038694496154785, \"sum\": 0.3038694496154785, \"min\": 0.3038694496154785}}, \"EndTime\": 1606790301.368889, \"Dimensions\": {\"model\": 14, \"Host\": \"algo-1\", \"Operation\": \"training\", \"Algorithm\": \"Linear Learner\", \"epoch\": 9}, \"StartTime\": 1606790301.368871}\n",
      "\u001b[0m\n",
      "\u001b[34m#metrics {\"Metrics\": {\"train_absolute_loss_objective\": {\"count\": 1, \"max\": 0.2996809959411621, \"sum\": 0.2996809959411621, \"min\": 0.2996809959411621}}, \"EndTime\": 1606790301.369077, \"Dimensions\": {\"model\": 15, \"Host\": \"algo-1\", \"Operation\": \"training\", \"Algorithm\": \"Linear Learner\", \"epoch\": 9}, \"StartTime\": 1606790301.369052}\n",
      "\u001b[0m\n",
      "\u001b[34m#metrics {\"Metrics\": {\"train_absolute_loss_objective\": {\"count\": 1, \"max\": 0.38803096771240236, \"sum\": 0.38803096771240236, \"min\": 0.38803096771240236}}, \"EndTime\": 1606790301.369209, \"Dimensions\": {\"model\": 16, \"Host\": \"algo-1\", \"Operation\": \"training\", \"Algorithm\": \"Linear Learner\", \"epoch\": 9}, \"StartTime\": 1606790301.369186}\n",
      "\u001b[0m\n",
      "\u001b[34m#metrics {\"Metrics\": {\"train_absolute_loss_objective\": {\"count\": 1, \"max\": 0.3981720676422119, \"sum\": 0.3981720676422119, \"min\": 0.3981720676422119}}, \"EndTime\": 1606790301.36934, \"Dimensions\": {\"model\": 17, \"Host\": \"algo-1\", \"Operation\": \"training\", \"Algorithm\": \"Linear Learner\", \"epoch\": 9}, \"StartTime\": 1606790301.369257}\n",
      "\u001b[0m\n",
      "\u001b[34m#metrics {\"Metrics\": {\"train_absolute_loss_objective\": {\"count\": 1, \"max\": 0.35575563049316405, \"sum\": 0.35575563049316405, \"min\": 0.35575563049316405}}, \"EndTime\": 1606790301.369472, \"Dimensions\": {\"model\": 18, \"Host\": \"algo-1\", \"Operation\": \"training\", \"Algorithm\": \"Linear Learner\", \"epoch\": 9}, \"StartTime\": 1606790301.36945}\n",
      "\u001b[0m\n",
      "\u001b[34m#metrics {\"Metrics\": {\"train_absolute_loss_objective\": {\"count\": 1, \"max\": 0.3602413215637207, \"sum\": 0.3602413215637207, \"min\": 0.3602413215637207}}, \"EndTime\": 1606790301.369599, \"Dimensions\": {\"model\": 19, \"Host\": \"algo-1\", \"Operation\": \"training\", \"Algorithm\": \"Linear Learner\", \"epoch\": 9}, \"StartTime\": 1606790301.369519}\n",
      "\u001b[0m\n",
      "\u001b[34m#metrics {\"Metrics\": {\"train_absolute_loss_objective\": {\"count\": 1, \"max\": 0.4170088348388672, \"sum\": 0.4170088348388672, \"min\": 0.4170088348388672}}, \"EndTime\": 1606790301.369751, \"Dimensions\": {\"model\": 20, \"Host\": \"algo-1\", \"Operation\": \"training\", \"Algorithm\": \"Linear Learner\", \"epoch\": 9}, \"StartTime\": 1606790301.369729}\n",
      "\u001b[0m\n",
      "\u001b[34m#metrics {\"Metrics\": {\"train_absolute_loss_objective\": {\"count\": 1, \"max\": 0.3667258224487305, \"sum\": 0.3667258224487305, \"min\": 0.3667258224487305}}, \"EndTime\": 1606790301.369872, \"Dimensions\": {\"model\": 21, \"Host\": \"algo-1\", \"Operation\": \"training\", \"Algorithm\": \"Linear Learner\", \"epoch\": 9}, \"StartTime\": 1606790301.369848}\n",
      "\u001b[0m\n",
      "\u001b[34m#metrics {\"Metrics\": {\"train_absolute_loss_objective\": {\"count\": 1, \"max\": 0.37558792877197267, \"sum\": 0.37558792877197267, \"min\": 0.37558792877197267}}, \"EndTime\": 1606790301.370002, \"Dimensions\": {\"model\": 22, \"Host\": \"algo-1\", \"Operation\": \"training\", \"Algorithm\": \"Linear Learner\", \"epoch\": 9}, \"StartTime\": 1606790301.369978}\n",
      "\u001b[0m\n",
      "\u001b[34m#metrics {\"Metrics\": {\"train_absolute_loss_objective\": {\"count\": 1, \"max\": 0.38307088470458983, \"sum\": 0.38307088470458983, \"min\": 0.38307088470458983}}, \"EndTime\": 1606790301.370165, \"Dimensions\": {\"model\": 23, \"Host\": \"algo-1\", \"Operation\": \"training\", \"Algorithm\": \"Linear Learner\", \"epoch\": 9}, \"StartTime\": 1606790301.370099}\n",
      "\u001b[0m\n",
      "\u001b[34m#metrics {\"Metrics\": {\"train_absolute_loss_objective\": {\"count\": 1, \"max\": 0.6817169532775879, \"sum\": 0.6817169532775879, \"min\": 0.6817169532775879}}, \"EndTime\": 1606790301.370294, \"Dimensions\": {\"model\": 24, \"Host\": \"algo-1\", \"Operation\": \"training\", \"Algorithm\": \"Linear Learner\", \"epoch\": 9}, \"StartTime\": 1606790301.370274}\n",
      "\u001b[0m\n",
      "\u001b[34m#metrics {\"Metrics\": {\"train_absolute_loss_objective\": {\"count\": 1, \"max\": 0.6818465538024903, \"sum\": 0.6818465538024903, \"min\": 0.6818465538024903}}, \"EndTime\": 1606790301.370416, \"Dimensions\": {\"model\": 25, \"Host\": \"algo-1\", \"Operation\": \"training\", \"Algorithm\": \"Linear Learner\", \"epoch\": 9}, \"StartTime\": 1606790301.370341}\n",
      "\u001b[0m\n",
      "\u001b[34m#metrics {\"Metrics\": {\"train_absolute_loss_objective\": {\"count\": 1, \"max\": 0.6815955009460449, \"sum\": 0.6815955009460449, \"min\": 0.6815955009460449}}, \"EndTime\": 1606790301.370552, \"Dimensions\": {\"model\": 26, \"Host\": \"algo-1\", \"Operation\": \"training\", \"Algorithm\": \"Linear Learner\", \"epoch\": 9}, \"StartTime\": 1606790301.370531}\n",
      "\u001b[0m\n",
      "\u001b[34m#metrics {\"Metrics\": {\"train_absolute_loss_objective\": {\"count\": 1, \"max\": 0.6816499290466309, \"sum\": 0.6816499290466309, \"min\": 0.6816499290466309}}, \"EndTime\": 1606790301.370672, \"Dimensions\": {\"model\": 27, \"Host\": \"algo-1\", \"Operation\": \"training\", \"Algorithm\": \"Linear Learner\", \"epoch\": 9}, \"StartTime\": 1606790301.370599}\n",
      "\u001b[0m\n",
      "\u001b[34m#metrics {\"Metrics\": {\"train_absolute_loss_objective\": {\"count\": 1, \"max\": 0.7063566131591796, \"sum\": 0.7063566131591796, \"min\": 0.7063566131591796}}, \"EndTime\": 1606790301.37081, \"Dimensions\": {\"model\": 28, \"Host\": \"algo-1\", \"Operation\": \"training\", \"Algorithm\": \"Linear Learner\", \"epoch\": 9}, \"StartTime\": 1606790301.370789}\n",
      "\u001b[0m\n",
      "\u001b[34m#metrics {\"Metrics\": {\"train_absolute_loss_objective\": {\"count\": 1, \"max\": 0.6974414215087891, \"sum\": 0.6974414215087891, \"min\": 0.6974414215087891}}, \"EndTime\": 1606790301.370936, \"Dimensions\": {\"model\": 29, \"Host\": \"algo-1\", \"Operation\": \"training\", \"Algorithm\": \"Linear Learner\", \"epoch\": 9}, \"StartTime\": 1606790301.370856}\n",
      "\u001b[0m\n",
      "\u001b[34m#metrics {\"Metrics\": {\"train_absolute_loss_objective\": {\"count\": 1, \"max\": 0.7084326438903809, \"sum\": 0.7084326438903809, \"min\": 0.7084326438903809}}, \"EndTime\": 1606790301.371067, \"Dimensions\": {\"model\": 30, \"Host\": \"algo-1\", \"Operation\": \"training\", \"Algorithm\": \"Linear Learner\", \"epoch\": 9}, \"StartTime\": 1606790301.371046}\n",
      "\u001b[0m\n",
      "\u001b[34m#metrics {\"Metrics\": {\"train_absolute_loss_objective\": {\"count\": 1, \"max\": 0.6984359626770019, \"sum\": 0.6984359626770019, \"min\": 0.6984359626770019}}, \"EndTime\": 1606790301.371189, \"Dimensions\": {\"model\": 31, \"Host\": \"algo-1\", \"Operation\": \"training\", \"Algorithm\": \"Linear Learner\", \"epoch\": 9}, \"StartTime\": 1606790301.371113}\n",
      "\u001b[0m\n",
      "\u001b[34m[12/01/2020 02:38:21 INFO 139642506053440] #quality_metric: host=algo-1, epoch=9, train absolute_loss_objective <loss>=0.331210073471\u001b[0m\n",
      "\u001b[34m[12/01/2020 02:38:21 INFO 139642506053440] #early_stopping_criteria_metric: host=algo-1, epoch=9, criteria=absolute_loss_objective, value=0.293373573303\u001b[0m\n",
      "\u001b[34m[12/01/2020 02:38:21 INFO 139642506053440] Saving model for epoch: 9\u001b[0m\n",
      "\u001b[34m[12/01/2020 02:38:21 INFO 139642506053440] Saved checkpoint to \"/tmp/tmp85ATkX/mx-mod-0000.params\"\u001b[0m\n",
      "\u001b[34m[12/01/2020 02:38:21 INFO 139642506053440] #progress_metric: host=algo-1, completed 10 % of epochs\u001b[0m\n",
      "\u001b[34m#metrics {\"Metrics\": {\"Max Batches Seen Between Resets\": {\"count\": 1, \"max\": 11, \"sum\": 11.0, \"min\": 11}, \"Number of Batches Since Last Reset\": {\"count\": 1, \"max\": 11, \"sum\": 11.0, \"min\": 11}, \"Number of Records Since Last Reset\": {\"count\": 1, \"max\": 1070, \"sum\": 1070.0, \"min\": 1070}, \"Total Batches Seen\": {\"count\": 1, \"max\": 122, \"sum\": 122.0, \"min\": 122}, \"Total Records Seen\": {\"count\": 1, \"max\": 11870, \"sum\": 11870.0, \"min\": 11870}, \"Max Records Seen Between Resets\": {\"count\": 1, \"max\": 1070, \"sum\": 1070.0, \"min\": 1070}, \"Reset Count\": {\"count\": 1, \"max\": 12, \"sum\": 12.0, \"min\": 12}}, \"EndTime\": 1606790301.378121, \"Dimensions\": {\"Host\": \"algo-1\", \"Meta\": \"training_data_iter\", \"Operation\": \"training\", \"Algorithm\": \"Linear Learner\", \"epoch\": 9}, \"StartTime\": 1606790301.17705}\n",
      "\u001b[0m\n",
      "\u001b[34m[12/01/2020 02:38:21 INFO 139642506053440] #throughput_metric: host=algo-1, train throughput=5318.80343359 records/second\u001b[0m\n",
      "\u001b[34m[2020-12-01 02:38:21.564] [tensorio] [info] epoch_stats={\"data_pipeline\": \"/opt/ml/input/data/train\", \"epoch\": 24, \"duration\": 186, \"num_examples\": 11, \"num_bytes\": 81320}\u001b[0m\n",
      "\u001b[34m#metrics {\"Metrics\": {\"train_absolute_loss_objective\": {\"count\": 1, \"max\": 0.31976221084594725, \"sum\": 0.31976221084594725, \"min\": 0.31976221084594725}}, \"EndTime\": 1606790301.56505, \"Dimensions\": {\"model\": 0, \"Host\": \"algo-1\", \"Operation\": \"training\", \"Algorithm\": \"Linear Learner\", \"epoch\": 10}, \"StartTime\": 1606790301.564941}\n",
      "\u001b[0m\n",
      "\u001b[34m#metrics {\"Metrics\": {\"train_absolute_loss_objective\": {\"count\": 1, \"max\": 0.3278712787628174, \"sum\": 0.3278712787628174, \"min\": 0.3278712787628174}}, \"EndTime\": 1606790301.565177, \"Dimensions\": {\"model\": 1, \"Host\": \"algo-1\", \"Operation\": \"training\", \"Algorithm\": \"Linear Learner\", \"epoch\": 10}, \"StartTime\": 1606790301.565155}\n",
      "\u001b[0m\n",
      "\u001b[34m#metrics {\"Metrics\": {\"train_absolute_loss_objective\": {\"count\": 1, \"max\": 0.3289904460906982, \"sum\": 0.3289904460906982, \"min\": 0.3289904460906982}}, \"EndTime\": 1606790301.565237, \"Dimensions\": {\"model\": 2, \"Host\": \"algo-1\", \"Operation\": \"training\", \"Algorithm\": \"Linear Learner\", \"epoch\": 10}, \"StartTime\": 1606790301.565223}\n",
      "\u001b[0m\n",
      "\u001b[34m#metrics {\"Metrics\": {\"train_absolute_loss_objective\": {\"count\": 1, \"max\": 0.3156640777587891, \"sum\": 0.3156640777587891, \"min\": 0.3156640777587891}}, \"EndTime\": 1606790301.565281, \"Dimensions\": {\"model\": 3, \"Host\": \"algo-1\", \"Operation\": \"training\", \"Algorithm\": \"Linear Learner\", \"epoch\": 10}, \"StartTime\": 1606790301.56527}\n",
      "\u001b[0m\n",
      "\u001b[34m#metrics {\"Metrics\": {\"train_absolute_loss_objective\": {\"count\": 1, \"max\": 0.32333515739440916, \"sum\": 0.32333515739440916, \"min\": 0.32333515739440916}}, \"EndTime\": 1606790301.565321, \"Dimensions\": {\"model\": 4, \"Host\": \"algo-1\", \"Operation\": \"training\", \"Algorithm\": \"Linear Learner\", \"epoch\": 10}, \"StartTime\": 1606790301.565311}\n",
      "\u001b[0m\n",
      "\u001b[34m#metrics {\"Metrics\": {\"train_absolute_loss_objective\": {\"count\": 1, \"max\": 0.313617395401001, \"sum\": 0.313617395401001, \"min\": 0.313617395401001}}, \"EndTime\": 1606790301.565363, \"Dimensions\": {\"model\": 5, \"Host\": \"algo-1\", \"Operation\": \"training\", \"Algorithm\": \"Linear Learner\", \"epoch\": 10}, \"StartTime\": 1606790301.565353}\n",
      "\u001b[0m\n",
      "\u001b[34m#metrics {\"Metrics\": {\"train_absolute_loss_objective\": {\"count\": 1, \"max\": 0.32827731895446777, \"sum\": 0.32827731895446777, \"min\": 0.32827731895446777}}, \"EndTime\": 1606790301.565403, \"Dimensions\": {\"model\": 6, \"Host\": \"algo-1\", \"Operation\": \"training\", \"Algorithm\": \"Linear Learner\", \"epoch\": 10}, \"StartTime\": 1606790301.565393}\n",
      "\u001b[0m\n",
      "\u001b[34m#metrics {\"Metrics\": {\"train_absolute_loss_objective\": {\"count\": 1, \"max\": 0.29466709136962893, \"sum\": 0.29466709136962893, \"min\": 0.29466709136962893}}, \"EndTime\": 1606790301.565441, \"Dimensions\": {\"model\": 7, \"Host\": \"algo-1\", \"Operation\": \"training\", \"Algorithm\": \"Linear Learner\", \"epoch\": 10}, \"StartTime\": 1606790301.565432}\n",
      "\u001b[0m\n",
      "\u001b[34m#metrics {\"Metrics\": {\"train_absolute_loss_objective\": {\"count\": 1, \"max\": 0.3135225200653076, \"sum\": 0.3135225200653076, \"min\": 0.3135225200653076}}, \"EndTime\": 1606790301.565481, \"Dimensions\": {\"model\": 8, \"Host\": \"algo-1\", \"Operation\": \"training\", \"Algorithm\": \"Linear Learner\", \"epoch\": 10}, \"StartTime\": 1606790301.565471}\n",
      "\u001b[0m\n",
      "\u001b[34m#metrics {\"Metrics\": {\"train_absolute_loss_objective\": {\"count\": 1, \"max\": 0.33524998092651365, \"sum\": 0.33524998092651365, \"min\": 0.33524998092651365}}, \"EndTime\": 1606790301.56552, \"Dimensions\": {\"model\": 9, \"Host\": \"algo-1\", \"Operation\": \"training\", \"Algorithm\": \"Linear Learner\", \"epoch\": 10}, \"StartTime\": 1606790301.56551}\n",
      "\u001b[0m\n",
      "\u001b[34m#metrics {\"Metrics\": {\"train_absolute_loss_objective\": {\"count\": 1, \"max\": 0.3256350326538086, \"sum\": 0.3256350326538086, \"min\": 0.3256350326538086}}, \"EndTime\": 1606790301.56556, \"Dimensions\": {\"model\": 10, \"Host\": \"algo-1\", \"Operation\": \"training\", \"Algorithm\": \"Linear Learner\", \"epoch\": 10}, \"StartTime\": 1606790301.565549}\n",
      "\u001b[0m\n",
      "\u001b[34m#metrics {\"Metrics\": {\"train_absolute_loss_objective\": {\"count\": 1, \"max\": 0.31452957725524905, \"sum\": 0.31452957725524905, \"min\": 0.31452957725524905}}, \"EndTime\": 1606790301.565598, \"Dimensions\": {\"model\": 11, \"Host\": \"algo-1\", \"Operation\": \"training\", \"Algorithm\": \"Linear Learner\", \"epoch\": 10}, \"StartTime\": 1606790301.565588}\n",
      "\u001b[0m\n",
      "\u001b[34m#metrics {\"Metrics\": {\"train_absolute_loss_objective\": {\"count\": 1, \"max\": 0.32278219795227053, \"sum\": 0.32278219795227053, \"min\": 0.32278219795227053}}, \"EndTime\": 1606790301.565644, \"Dimensions\": {\"model\": 12, \"Host\": \"algo-1\", \"Operation\": \"training\", \"Algorithm\": \"Linear Learner\", \"epoch\": 10}, \"StartTime\": 1606790301.565633}\n",
      "\u001b[0m\n",
      "\u001b[34m#metrics {\"Metrics\": {\"train_absolute_loss_objective\": {\"count\": 1, \"max\": 0.2963030548095703, \"sum\": 0.2963030548095703, \"min\": 0.2963030548095703}}, \"EndTime\": 1606790301.565704, \"Dimensions\": {\"model\": 13, \"Host\": \"algo-1\", \"Operation\": \"training\", \"Algorithm\": \"Linear Learner\", \"epoch\": 10}, \"StartTime\": 1606790301.565673}\n",
      "\u001b[0m\n",
      "\u001b[34m#metrics {\"Metrics\": {\"train_absolute_loss_objective\": {\"count\": 1, \"max\": 0.3166769828796387, \"sum\": 0.3166769828796387, \"min\": 0.3166769828796387}}, \"EndTime\": 1606790301.565752, \"Dimensions\": {\"model\": 14, \"Host\": \"algo-1\", \"Operation\": \"training\", \"Algorithm\": \"Linear Learner\", \"epoch\": 10}, \"StartTime\": 1606790301.565741}\n",
      "\u001b[0m\n",
      "\u001b[34m#metrics {\"Metrics\": {\"train_absolute_loss_objective\": {\"count\": 1, \"max\": 0.29684143829345705, \"sum\": 0.29684143829345705, \"min\": 0.29684143829345705}}, \"EndTime\": 1606790301.565792, \"Dimensions\": {\"model\": 15, \"Host\": \"algo-1\", \"Operation\": \"training\", \"Algorithm\": \"Linear Learner\", \"epoch\": 10}, \"StartTime\": 1606790301.565782}\n",
      "\u001b[0m\n",
      "\u001b[34m#metrics {\"Metrics\": {\"train_absolute_loss_objective\": {\"count\": 1, \"max\": 0.3768749008178711, \"sum\": 0.3768749008178711, \"min\": 0.3768749008178711}}, \"EndTime\": 1606790301.56583, \"Dimensions\": {\"model\": 16, \"Host\": \"algo-1\", \"Operation\": \"training\", \"Algorithm\": \"Linear Learner\", \"epoch\": 10}, \"StartTime\": 1606790301.56582}\n",
      "\u001b[0m\n",
      "\u001b[34m#metrics {\"Metrics\": {\"train_absolute_loss_objective\": {\"count\": 1, \"max\": 0.38544315719604494, \"sum\": 0.38544315719604494, \"min\": 0.38544315719604494}}, \"EndTime\": 1606790301.565868, \"Dimensions\": {\"model\": 17, \"Host\": \"algo-1\", \"Operation\": \"training\", \"Algorithm\": \"Linear Learner\", \"epoch\": 10}, \"StartTime\": 1606790301.565858}\n",
      "\u001b[0m\n",
      "\u001b[34m#metrics {\"Metrics\": {\"train_absolute_loss_objective\": {\"count\": 1, \"max\": 0.3511948566436768, \"sum\": 0.3511948566436768, \"min\": 0.3511948566436768}}, \"EndTime\": 1606790301.565911, \"Dimensions\": {\"model\": 18, \"Host\": \"algo-1\", \"Operation\": \"training\", \"Algorithm\": \"Linear Learner\", \"epoch\": 10}, \"StartTime\": 1606790301.565897}\n",
      "\u001b[0m\n",
      "\u001b[34m#metrics {\"Metrics\": {\"train_absolute_loss_objective\": {\"count\": 1, \"max\": 0.35281475067138673, \"sum\": 0.35281475067138673, \"min\": 0.35281475067138673}}, \"EndTime\": 1606790301.565949, \"Dimensions\": {\"model\": 19, \"Host\": \"algo-1\", \"Operation\": \"training\", \"Algorithm\": \"Linear Learner\", \"epoch\": 10}, \"StartTime\": 1606790301.565939}\n",
      "\u001b[0m\n",
      "\u001b[34m#metrics {\"Metrics\": {\"train_absolute_loss_objective\": {\"count\": 1, \"max\": 0.3981655330657959, \"sum\": 0.3981655330657959, \"min\": 0.3981655330657959}}, \"EndTime\": 1606790301.565988, \"Dimensions\": {\"model\": 20, \"Host\": \"algo-1\", \"Operation\": \"training\", \"Algorithm\": \"Linear Learner\", \"epoch\": 10}, \"StartTime\": 1606790301.565978}\n",
      "\u001b[0m\n",
      "\u001b[34m#metrics {\"Metrics\": {\"train_absolute_loss_objective\": {\"count\": 1, \"max\": 0.37029544639587403, \"sum\": 0.37029544639587403, \"min\": 0.37029544639587403}}, \"EndTime\": 1606790301.56603, \"Dimensions\": {\"model\": 21, \"Host\": \"algo-1\", \"Operation\": \"training\", \"Algorithm\": \"Linear Learner\", \"epoch\": 10}, \"StartTime\": 1606790301.566019}\n",
      "\u001b[0m\n",
      "\u001b[34m#metrics {\"Metrics\": {\"train_absolute_loss_objective\": {\"count\": 1, \"max\": 0.38784141731262206, \"sum\": 0.38784141731262206, \"min\": 0.38784141731262206}}, \"EndTime\": 1606790301.566068, \"Dimensions\": {\"model\": 22, \"Host\": \"algo-1\", \"Operation\": \"training\", \"Algorithm\": \"Linear Learner\", \"epoch\": 10}, \"StartTime\": 1606790301.566058}\n",
      "\u001b[0m\n",
      "\u001b[34m#metrics {\"Metrics\": {\"train_absolute_loss_objective\": {\"count\": 1, \"max\": 0.3870171203613281, \"sum\": 0.3870171203613281, \"min\": 0.3870171203613281}}, \"EndTime\": 1606790301.566106, \"Dimensions\": {\"model\": 23, \"Host\": \"algo-1\", \"Operation\": \"training\", \"Algorithm\": \"Linear Learner\", \"epoch\": 10}, \"StartTime\": 1606790301.566096}\n",
      "\u001b[0m\n",
      "\u001b[34m#metrics {\"Metrics\": {\"train_absolute_loss_objective\": {\"count\": 1, \"max\": 0.6818783416748047, \"sum\": 0.6818783416748047, \"min\": 0.6818783416748047}}, \"EndTime\": 1606790301.566143, \"Dimensions\": {\"model\": 24, \"Host\": \"algo-1\", \"Operation\": \"training\", \"Algorithm\": \"Linear Learner\", \"epoch\": 10}, \"StartTime\": 1606790301.566134}\n",
      "\u001b[0m\n",
      "\u001b[34m#metrics {\"Metrics\": {\"train_absolute_loss_objective\": {\"count\": 1, \"max\": 0.6819714012145996, \"sum\": 0.6819714012145996, \"min\": 0.6819714012145996}}, \"EndTime\": 1606790301.566181, \"Dimensions\": {\"model\": 25, \"Host\": \"algo-1\", \"Operation\": \"training\", \"Algorithm\": \"Linear Learner\", \"epoch\": 10}, \"StartTime\": 1606790301.566171}\n",
      "\u001b[0m\n",
      "\u001b[34m#metrics {\"Metrics\": {\"train_absolute_loss_objective\": {\"count\": 1, \"max\": 0.6818520202636719, \"sum\": 0.6818520202636719, \"min\": 0.6818520202636719}}, \"EndTime\": 1606790301.566221, \"Dimensions\": {\"model\": 26, \"Host\": \"algo-1\", \"Operation\": \"training\", \"Algorithm\": \"Linear Learner\", \"epoch\": 10}, \"StartTime\": 1606790301.566211}\n",
      "\u001b[0m\n",
      "\u001b[34m#metrics {\"Metrics\": {\"train_absolute_loss_objective\": {\"count\": 1, \"max\": 0.68184476852417, \"sum\": 0.68184476852417, \"min\": 0.68184476852417}}, \"EndTime\": 1606790301.566259, \"Dimensions\": {\"model\": 27, \"Host\": \"algo-1\", \"Operation\": \"training\", \"Algorithm\": \"Linear Learner\", \"epoch\": 10}, \"StartTime\": 1606790301.566249}\n",
      "\u001b[0m\n",
      "\u001b[34m#metrics {\"Metrics\": {\"train_absolute_loss_objective\": {\"count\": 1, \"max\": 0.7099154052734375, \"sum\": 0.7099154052734375, \"min\": 0.7099154052734375}}, \"EndTime\": 1606790301.566296, \"Dimensions\": {\"model\": 28, \"Host\": \"algo-1\", \"Operation\": \"training\", \"Algorithm\": \"Linear Learner\", \"epoch\": 10}, \"StartTime\": 1606790301.566286}\n",
      "\u001b[0m\n",
      "\u001b[34m#metrics {\"Metrics\": {\"train_absolute_loss_objective\": {\"count\": 1, \"max\": 0.6975664329528809, \"sum\": 0.6975664329528809, \"min\": 0.6975664329528809}}, \"EndTime\": 1606790301.566335, \"Dimensions\": {\"model\": 29, \"Host\": \"algo-1\", \"Operation\": \"training\", \"Algorithm\": \"Linear Learner\", \"epoch\": 10}, \"StartTime\": 1606790301.566325}\n",
      "\u001b[0m\n",
      "\u001b[34m#metrics {\"Metrics\": {\"train_absolute_loss_objective\": {\"count\": 1, \"max\": 0.7108826026916504, \"sum\": 0.7108826026916504, \"min\": 0.7108826026916504}}, \"EndTime\": 1606790301.566373, \"Dimensions\": {\"model\": 30, \"Host\": \"algo-1\", \"Operation\": \"training\", \"Algorithm\": \"Linear Learner\", \"epoch\": 10}, \"StartTime\": 1606790301.566363}\n",
      "\u001b[0m\n",
      "\u001b[34m#metrics {\"Metrics\": {\"train_absolute_loss_objective\": {\"count\": 1, \"max\": 0.7008541831970215, \"sum\": 0.7008541831970215, \"min\": 0.7008541831970215}}, \"EndTime\": 1606790301.566411, \"Dimensions\": {\"model\": 31, \"Host\": \"algo-1\", \"Operation\": \"training\", \"Algorithm\": \"Linear Learner\", \"epoch\": 10}, \"StartTime\": 1606790301.566401}\n",
      "\u001b[0m\n",
      "\u001b[34m[12/01/2020 02:38:21 INFO 139642506053440] #quality_metric: host=algo-1, epoch=10, train absolute_loss_objective <loss>=0.319762210846\u001b[0m\n",
      "\u001b[34m[12/01/2020 02:38:21 INFO 139642506053440] #early_stopping_criteria_metric: host=algo-1, epoch=10, criteria=absolute_loss_objective, value=0.29466709137\u001b[0m\n",
      "\u001b[34m[12/01/2020 02:38:21 INFO 139642506053440] Saving model for epoch: 10\u001b[0m\n",
      "\u001b[34m[12/01/2020 02:38:21 INFO 139642506053440] Saved checkpoint to \"/tmp/tmpTYJ2xk/mx-mod-0000.params\"\u001b[0m\n",
      "\u001b[34m[12/01/2020 02:38:21 INFO 139642506053440] Early stop condition met. Stopping training.\u001b[0m\n",
      "\u001b[34m[12/01/2020 02:38:21 INFO 139642506053440] #progress_metric: host=algo-1, completed 100 % epochs\u001b[0m\n",
      "\u001b[34m#metrics {\"Metrics\": {\"Max Batches Seen Between Resets\": {\"count\": 1, \"max\": 11, \"sum\": 11.0, \"min\": 11}, \"Number of Batches Since Last Reset\": {\"count\": 1, \"max\": 11, \"sum\": 11.0, \"min\": 11}, \"Number of Records Since Last Reset\": {\"count\": 1, \"max\": 1070, \"sum\": 1070.0, \"min\": 1070}, \"Total Batches Seen\": {\"count\": 1, \"max\": 133, \"sum\": 133.0, \"min\": 133}, \"Total Records Seen\": {\"count\": 1, \"max\": 12940, \"sum\": 12940.0, \"min\": 12940}, \"Max Records Seen Between Resets\": {\"count\": 1, \"max\": 1070, \"sum\": 1070.0, \"min\": 1070}, \"Reset Count\": {\"count\": 1, \"max\": 13, \"sum\": 13.0, \"min\": 13}}, \"EndTime\": 1606790301.573845, \"Dimensions\": {\"Host\": \"algo-1\", \"Meta\": \"training_data_iter\", \"Operation\": \"training\", \"Algorithm\": \"Linear Learner\", \"epoch\": 10}, \"StartTime\": 1606790301.378339}\n",
      "\u001b[0m\n",
      "\u001b[34m[12/01/2020 02:38:21 INFO 139642506053440] #throughput_metric: host=algo-1, train throughput=5469.90002109 records/second\u001b[0m\n",
      "\u001b[34m[12/01/2020 02:38:21 WARNING 139642506053440] wait_for_all_workers will not sync workers since the kv store is not running distributed\u001b[0m\n",
      "\u001b[34m[12/01/2020 02:38:21 WARNING 139642506053440] wait_for_all_workers will not sync workers since the kv store is not running distributed\u001b[0m\n",
      "\u001b[34m[2020-12-01 02:38:21.575] [tensorio] [info] epoch_stats={\"data_pipeline\": \"/opt/ml/input/data/train\", \"epoch\": 26, \"duration\": 0, \"num_examples\": 1, \"num_bytes\": 7600}\u001b[0m\n",
      "\u001b[34m[2020-12-01 02:38:21.596] [tensorio] [info] epoch_stats={\"data_pipeline\": \"/opt/ml/input/data/train\", \"epoch\": 28, \"duration\": 18, \"num_examples\": 11, \"num_bytes\": 81320}\u001b[0m\n",
      "\u001b[34m[12/01/2020 02:38:21 INFO 139642506053440] #train_score (algo-1) : ('absolute_loss_objective', 0.3104892231593622)\u001b[0m\n",
      "\u001b[34m[12/01/2020 02:38:21 INFO 139642506053440] #train_score (algo-1) : ('mse', 0.3309765788996331)\u001b[0m\n",
      "\u001b[34m[12/01/2020 02:38:21 INFO 139642506053440] #train_score (algo-1) : ('absolute_loss', 0.3104892231593622)\u001b[0m\n",
      "\u001b[34m[12/01/2020 02:38:21 INFO 139642506053440] #quality_metric: host=algo-1, train absolute_loss_objective <loss>=0.310489223159\u001b[0m\n",
      "\u001b[34m[12/01/2020 02:38:21 INFO 139642506053440] #quality_metric: host=algo-1, train mse <loss>=0.3309765789\u001b[0m\n",
      "\u001b[34m[12/01/2020 02:38:21 INFO 139642506053440] #quality_metric: host=algo-1, train absolute_loss <loss>=0.310489223159\u001b[0m\n",
      "\u001b[34m[12/01/2020 02:38:21 INFO 139642506053440] Best model found for hyperparameters: {\"lr_scheduler_step\": 100, \"wd\": 0.01, \"optimizer\": \"adam\", \"lr_scheduler_factor\": 0.99, \"l1\": 0.0, \"learning_rate\": 0.1, \"lr_scheduler_minimum_lr\": 1e-05}\u001b[0m\n",
      "\u001b[34m[12/01/2020 02:38:21 INFO 139642506053440] Saved checkpoint to \"/tmp/tmptmwoOM/mx-mod-0000.params\"\u001b[0m\n",
      "\u001b[34m[12/01/2020 02:38:21 INFO 139642506053440] Test data is not provided.\u001b[0m\n",
      "\u001b[34m#metrics {\"Metrics\": {\"totaltime\": {\"count\": 1, \"max\": 2841.4528369903564, \"sum\": 2841.4528369903564, \"min\": 2841.4528369903564}, \"finalize.time\": {\"count\": 1, \"max\": 23.077964782714844, \"sum\": 23.077964782714844, \"min\": 23.077964782714844}, \"initialize.time\": {\"count\": 1, \"max\": 195.02592086791992, \"sum\": 195.02592086791992, \"min\": 195.02592086791992}, \"check_early_stopping.time\": {\"count\": 11, \"max\": 1.0750293731689453, \"sum\": 7.101774215698242, \"min\": 0.18095970153808594}, \"setuptime\": {\"count\": 1, \"max\": 35.40396690368652, \"sum\": 35.40396690368652, \"min\": 35.40396690368652}, \"update.time\": {\"count\": 11, \"max\": 262.00389862060547, \"sum\": 2334.555149078369, \"min\": 189.23711776733398}, \"epochs\": {\"count\": 1, \"max\": 100, \"sum\": 100.0, \"min\": 100}}, \"EndTime\": 1606790301.607212, \"Dimensions\": {\"Host\": \"algo-1\", \"Operation\": \"training\", \"Algorithm\": \"Linear Learner\"}, \"StartTime\": 1606790299.008248}\n",
      "\u001b[0m\n",
      "\n",
      "2020-12-01 02:38:50 Uploading - Uploading generated training model\n",
      "2020-12-01 02:38:57 Completed - Training job completed\n",
      "Training seconds: 83\n",
      "Billable seconds: 83\n"
     ]
    }
   ],
   "source": [
    "# We have pass in the container, the type of instance that we would like to use for training \n",
    "# output path and sagemaker session into the Estimator. \n",
    "# We can also specify how many instances we would like to use for training\n",
    "\n",
    "linear = sagemaker.estimator.Estimator(container,\n",
    "                                       role, \n",
    "                                       train_instance_count = 1, \n",
    "                                       train_instance_type = 'ml.c4.xlarge',\n",
    "                                       output_path = output_location,\n",
    "                                       sagemaker_session = sagemaker_session)\n",
    "\n",
    "\n",
    "# We can tune parameters like the number of features that we are passing in, type of predictor like 'regressor' or 'classifier', mini batch size, epochs\n",
    "# Train 32 different versions of the model and will get the best out of them (built-in parameters optimization!)\n",
    "\n",
    "linear.set_hyperparameters(feature_dim = 8,\n",
    "                           predictor_type = 'regressor',\n",
    "                           mini_batch_size = 100,\n",
    "                           epochs = 100,\n",
    "                           num_models = 32,\n",
    "                           loss = 'absolute_loss')\n",
    "\n",
    "# Now we are ready to pass in the training data from S3 to train the linear learner model\n",
    "\n",
    "linear.fit({'train': s3_train_data})\n",
    "\n",
    "# Let's see the progress using cloudwatch logs"
   ]
  },
  {
   "cell_type": "markdown",
   "metadata": {},
   "source": [
    "MINI CHALLENGE\n",
    " - retrain the linear learner model using more epochs, more number of models. \n",
    " - Experiment with a different loss function and report any improvement or degradation in results."
   ]
  },
  {
   "cell_type": "code",
   "execution_count": null,
   "metadata": {},
   "outputs": [],
   "source": []
  },
  {
   "cell_type": "markdown",
   "metadata": {},
   "source": [
    "# TASK #8: DEPLOY AND TEST THE TRAINED LINEAR LEARNER MODEL "
   ]
  },
  {
   "cell_type": "code",
   "execution_count": 103,
   "metadata": {},
   "outputs": [
    {
     "name": "stdout",
     "output_type": "stream",
     "text": [
      "--------------------------!!"
     ]
    }
   ],
   "source": [
    "# Deploying the model to perform inference \n",
    "\n",
    "linear_regressor = linear.deploy(initial_instance_count = 1,\n",
    "                                          instance_type = 'ml.m4.xlarge')"
   ]
  },
  {
   "cell_type": "code",
   "execution_count": 108,
   "metadata": {},
   "outputs": [],
   "source": [
    "from sagemaker.serializers import CSVSerializer\n",
    "from sagemaker.deserializers import JSONDeserializer\n",
    "# Content type overrides the data that will be passed to the deployed model, since the deployed model expects data in text/csv format.\n",
    "\n",
    "# Serializer accepts a single argument, the input data, and returns a sequence of bytes in the specified content type\n",
    "\n",
    "# Deserializer accepts two arguments, the result data and the response content type, and return a sequence of bytes in the specified content type.\n",
    "\n",
    "# Reference: https://sagemaker.readthedocs.io/en/stable/predictors.html\n",
    "\n",
    "linear_regressor.CONTENT_TYPE = 'text/csv'\n",
    "linear_regressor.serializer = CSVSerializer()\n",
    "linear_regressor.deserializer = JSONDeserializer()"
   ]
  },
  {
   "cell_type": "code",
   "execution_count": 109,
   "metadata": {},
   "outputs": [],
   "source": [
    "# making prediction on the test data\n",
    "\n",
    "result = linear_regressor.predict(X_test)"
   ]
  },
  {
   "cell_type": "code",
   "execution_count": 110,
   "metadata": {},
   "outputs": [
    {
     "data": {
      "text/plain": [
       "{'predictions': [{'score': -0.8573172688484192},\n",
       "  {'score': -0.5154764652252197},\n",
       "  {'score': -0.8172549605369568},\n",
       "  {'score': -0.26447200775146484},\n",
       "  {'score': 2.2001936435699463},\n",
       "  {'score': 2.172933340072632},\n",
       "  {'score': -0.24612578749656677},\n",
       "  {'score': -0.3848106265068054},\n",
       "  {'score': -0.5438560247421265},\n",
       "  {'score': -0.9754104018211365},\n",
       "  {'score': 2.3420395851135254},\n",
       "  {'score': -0.12078028172254562},\n",
       "  {'score': -0.6861329674720764},\n",
       "  {'score': -0.5330063700675964},\n",
       "  {'score': -0.915332555770874},\n",
       "  {'score': -0.7483558058738708},\n",
       "  {'score': -1.0828691720962524},\n",
       "  {'score': -0.30905547738075256},\n",
       "  {'score': -0.41721534729003906},\n",
       "  {'score': -0.95973801612854},\n",
       "  {'score': 1.8606292009353638},\n",
       "  {'score': -1.0103590488433838},\n",
       "  {'score': -0.9595122933387756},\n",
       "  {'score': -0.6248741745948792},\n",
       "  {'score': -0.720253050327301},\n",
       "  {'score': -0.5480590462684631},\n",
       "  {'score': -0.6451034545898438},\n",
       "  {'score': -0.2506496012210846},\n",
       "  {'score': 2.099337577819824},\n",
       "  {'score': -0.8906331062316895},\n",
       "  {'score': 2.4187371730804443},\n",
       "  {'score': -0.6400451064109802},\n",
       "  {'score': -0.32132765650749207},\n",
       "  {'score': 2.042772054672241},\n",
       "  {'score': -0.6287902593612671},\n",
       "  {'score': -0.9656971096992493},\n",
       "  {'score': -0.2232721447944641},\n",
       "  {'score': -0.9169825315475464},\n",
       "  {'score': -0.252954363822937},\n",
       "  {'score': -0.5523639917373657},\n",
       "  {'score': -0.5308763980865479},\n",
       "  {'score': -0.5421919226646423},\n",
       "  {'score': -0.6308971643447876},\n",
       "  {'score': -0.3975675106048584},\n",
       "  {'score': -0.5033422708511353},\n",
       "  {'score': -0.5904282331466675},\n",
       "  {'score': -0.22083580493927002},\n",
       "  {'score': -0.5542197823524475},\n",
       "  {'score': -0.09803184121847153},\n",
       "  {'score': -0.15635576844215393},\n",
       "  {'score': -0.12456005811691284},\n",
       "  {'score': -0.8271188735961914},\n",
       "  {'score': -0.36266422271728516},\n",
       "  {'score': 2.4507226943969727},\n",
       "  {'score': -0.3613605201244354},\n",
       "  {'score': -0.38805708289146423},\n",
       "  {'score': -0.3775463104248047},\n",
       "  {'score': 2.245586395263672},\n",
       "  {'score': 1.977017879486084},\n",
       "  {'score': -0.14381837844848633},\n",
       "  {'score': -0.9193333983421326},\n",
       "  {'score': -1.051796317100525},\n",
       "  {'score': -0.2716151177883148},\n",
       "  {'score': -0.5910799503326416},\n",
       "  {'score': 2.0078506469726562},\n",
       "  {'score': -0.7803787589073181},\n",
       "  {'score': -1.0583934783935547},\n",
       "  {'score': -0.20889517664909363},\n",
       "  {'score': -0.2472589910030365},\n",
       "  {'score': -0.6808367371559143},\n",
       "  {'score': -1.049312710762024},\n",
       "  {'score': -0.9900844693183899},\n",
       "  {'score': -0.22788465023040771},\n",
       "  {'score': -1.074057936668396},\n",
       "  {'score': -1.041722059249878},\n",
       "  {'score': -0.194806307554245},\n",
       "  {'score': -0.3809579312801361},\n",
       "  {'score': -0.5608999729156494},\n",
       "  {'score': 2.001776695251465},\n",
       "  {'score': -0.11048410832881927},\n",
       "  {'score': -0.5465234518051147},\n",
       "  {'score': -0.29926520586013794},\n",
       "  {'score': -0.24821510910987854},\n",
       "  {'score': -0.4554259777069092},\n",
       "  {'score': -0.38053780794143677},\n",
       "  {'score': 1.9508476257324219},\n",
       "  {'score': -1.0208345651626587},\n",
       "  {'score': 1.813674807548523},\n",
       "  {'score': -0.38819822669029236},\n",
       "  {'score': -0.26735666394233704},\n",
       "  {'score': -1.0187944173812866},\n",
       "  {'score': -0.6519886255264282},\n",
       "  {'score': 1.5951385498046875},\n",
       "  {'score': -1.0112345218658447},\n",
       "  {'score': -0.11332227289676666},\n",
       "  {'score': -0.7860197424888611},\n",
       "  {'score': 1.904070258140564},\n",
       "  {'score': 1.859377145767212},\n",
       "  {'score': -0.9561445713043213},\n",
       "  {'score': 1.519646167755127},\n",
       "  {'score': -0.6203920245170593},\n",
       "  {'score': -0.8756521940231323},\n",
       "  {'score': -0.9822676777839661},\n",
       "  {'score': -0.9126700162887573},\n",
       "  {'score': 1.9808588027954102},\n",
       "  {'score': 2.252903938293457},\n",
       "  {'score': -0.5128222703933716},\n",
       "  {'score': -0.45767712593078613},\n",
       "  {'score': -0.20367860794067383},\n",
       "  {'score': 2.5126402378082275},\n",
       "  {'score': -0.8006372451782227},\n",
       "  {'score': -0.9377707242965698},\n",
       "  {'score': -0.9064756631851196},\n",
       "  {'score': -0.9853125214576721},\n",
       "  {'score': -0.8417273163795471},\n",
       "  {'score': -0.41077038645744324},\n",
       "  {'score': -1.0512421131134033},\n",
       "  {'score': -0.7538363933563232},\n",
       "  {'score': -1.0407570600509644},\n",
       "  {'score': -0.9691292643547058},\n",
       "  {'score': -0.4918935298919678},\n",
       "  {'score': -0.12076373398303986},\n",
       "  {'score': -0.7917920351028442},\n",
       "  {'score': -0.7054922580718994},\n",
       "  {'score': 2.046455144882202},\n",
       "  {'score': -0.9451935887336731},\n",
       "  {'score': -0.3210311233997345},\n",
       "  {'score': -0.08630774915218353},\n",
       "  {'score': 1.887047529220581},\n",
       "  {'score': -0.6809361577033997},\n",
       "  {'score': -0.8656726479530334},\n",
       "  {'score': -1.069209337234497},\n",
       "  {'score': -1.0164494514465332},\n",
       "  {'score': -0.14692559838294983},\n",
       "  {'score': -0.30980074405670166},\n",
       "  {'score': 1.759892463684082},\n",
       "  {'score': -0.9097886681556702},\n",
       "  {'score': -0.5149683952331543},\n",
       "  {'score': 2.083434581756592},\n",
       "  {'score': -0.9366328120231628},\n",
       "  {'score': -0.2676602005958557},\n",
       "  {'score': -0.35121679306030273},\n",
       "  {'score': -0.3474273085594177},\n",
       "  {'score': -0.24790486693382263},\n",
       "  {'score': -0.35416173934936523},\n",
       "  {'score': -0.6261089444160461},\n",
       "  {'score': 1.922149896621704},\n",
       "  {'score': -0.28999653458595276},\n",
       "  {'score': -0.2599232494831085},\n",
       "  {'score': -0.29942432045936584},\n",
       "  {'score': -0.969326913356781},\n",
       "  {'score': -0.9059590697288513},\n",
       "  {'score': -0.3741448223590851},\n",
       "  {'score': -0.7708197832107544},\n",
       "  {'score': -1.0255820751190186},\n",
       "  {'score': -0.705623984336853},\n",
       "  {'score': -0.9557589888572693},\n",
       "  {'score': 1.742431879043579},\n",
       "  {'score': -0.5043613314628601},\n",
       "  {'score': -0.5339778661727905},\n",
       "  {'score': -1.0644792318344116},\n",
       "  {'score': -0.5484285354614258},\n",
       "  {'score': 1.7983882427215576},\n",
       "  {'score': -1.0542325973510742},\n",
       "  {'score': 2.4583725929260254},\n",
       "  {'score': -1.0669599771499634},\n",
       "  {'score': -0.2144182026386261},\n",
       "  {'score': -0.47441354393959045},\n",
       "  {'score': -0.7910667657852173},\n",
       "  {'score': -1.098288893699646},\n",
       "  {'score': -0.9097421169281006},\n",
       "  {'score': 1.695690393447876},\n",
       "  {'score': -0.4048784673213959},\n",
       "  {'score': 1.8164331912994385},\n",
       "  {'score': -0.8997951745986938},\n",
       "  {'score': -0.19024136662483215},\n",
       "  {'score': 1.5500898361206055},\n",
       "  {'score': -0.1533990502357483},\n",
       "  {'score': -0.8012586236000061},\n",
       "  {'score': -0.5180866718292236},\n",
       "  {'score': 1.9599783420562744},\n",
       "  {'score': -0.5392477512359619},\n",
       "  {'score': -0.752048671245575},\n",
       "  {'score': 1.868209719657898},\n",
       "  {'score': -0.1840888112783432},\n",
       "  {'score': -0.7821040153503418},\n",
       "  {'score': -0.42530715465545654},\n",
       "  {'score': -0.25891682505607605},\n",
       "  {'score': 2.285428762435913},\n",
       "  {'score': -0.566798210144043},\n",
       "  {'score': -0.3606262505054474},\n",
       "  {'score': 1.9509782791137695},\n",
       "  {'score': -0.3472159504890442},\n",
       "  {'score': -0.3661521375179291},\n",
       "  {'score': -0.7174112796783447},\n",
       "  {'score': -0.12556765973567963},\n",
       "  {'score': -0.3911483883857727},\n",
       "  {'score': -0.5300208926200867},\n",
       "  {'score': -0.9799315333366394},\n",
       "  {'score': -0.43398046493530273},\n",
       "  {'score': -0.6714105606079102},\n",
       "  {'score': -0.5731008052825928},\n",
       "  {'score': -0.24635100364685059},\n",
       "  {'score': -0.6661357283592224},\n",
       "  {'score': -1.015714168548584},\n",
       "  {'score': -0.273716539144516},\n",
       "  {'score': 2.043976306915283},\n",
       "  {'score': 2.0615885257720947},\n",
       "  {'score': -0.6621962189674377},\n",
       "  {'score': -0.10254943370819092},\n",
       "  {'score': -0.49512478709220886},\n",
       "  {'score': 1.5194236040115356},\n",
       "  {'score': -0.3679758906364441},\n",
       "  {'score': -0.24048209190368652},\n",
       "  {'score': -0.7574269771575928},\n",
       "  {'score': 2.131932497024536},\n",
       "  {'score': -0.8028294444084167},\n",
       "  {'score': -0.1305786371231079},\n",
       "  {'score': -1.031714916229248},\n",
       "  {'score': -0.31913936138153076},\n",
       "  {'score': -0.18958106637001038},\n",
       "  {'score': -0.6231143474578857},\n",
       "  {'score': 2.140223741531372},\n",
       "  {'score': -0.8183692693710327},\n",
       "  {'score': -0.39732876420021057},\n",
       "  {'score': -0.2820931077003479},\n",
       "  {'score': -0.44479915499687195},\n",
       "  {'score': -0.9216391444206238},\n",
       "  {'score': 2.1097652912139893},\n",
       "  {'score': -0.698929488658905},\n",
       "  {'score': -0.28917813301086426},\n",
       "  {'score': -1.0016528367996216},\n",
       "  {'score': -1.0090430974960327},\n",
       "  {'score': -0.9533966183662415},\n",
       "  {'score': -0.2570647597312927},\n",
       "  {'score': -1.0154341459274292},\n",
       "  {'score': -0.8409139513969421},\n",
       "  {'score': -0.7636482119560242},\n",
       "  {'score': -0.14112716913223267},\n",
       "  {'score': -0.6962701082229614},\n",
       "  {'score': -0.17893359065055847},\n",
       "  {'score': -0.7599666714668274},\n",
       "  {'score': 2.1832685470581055},\n",
       "  {'score': 1.8586260080337524},\n",
       "  {'score': -0.6600674986839294},\n",
       "  {'score': 2.4672367572784424},\n",
       "  {'score': -0.5293552279472351},\n",
       "  {'score': 2.1169562339782715},\n",
       "  {'score': -0.17844435572624207},\n",
       "  {'score': -0.6077975034713745},\n",
       "  {'score': -1.047532558441162},\n",
       "  {'score': -0.6004028916358948},\n",
       "  {'score': 2.110596179962158},\n",
       "  {'score': 2.4355156421661377},\n",
       "  {'score': -0.61337810754776},\n",
       "  {'score': -0.3265317678451538},\n",
       "  {'score': -0.8219937086105347},\n",
       "  {'score': -0.2927030026912689},\n",
       "  {'score': -1.0706778764724731},\n",
       "  {'score': -0.8670408129692078},\n",
       "  {'score': -0.6198877692222595},\n",
       "  {'score': -0.7238120436668396},\n",
       "  {'score': -1.0188162326812744},\n",
       "  {'score': -0.5668303966522217},\n",
       "  {'score': 1.9047361612319946},\n",
       "  {'score': 2.182070016860962},\n",
       "  {'score': -0.7891489267349243},\n",
       "  {'score': -0.7663167119026184}]}"
      ]
     },
     "execution_count": 110,
     "metadata": {},
     "output_type": "execute_result"
    },
    {
     "data": {
      "text/plain": [
       "{'predictions': [{'score': -0.8573172688484192},\n",
       "  {'score': -0.5154764652252197},\n",
       "  {'score': -0.8172549605369568},\n",
       "  {'score': -0.26447200775146484},\n",
       "  {'score': 2.2001936435699463},\n",
       "  {'score': 2.172933340072632},\n",
       "  {'score': -0.24612578749656677},\n",
       "  {'score': -0.3848106265068054},\n",
       "  {'score': -0.5438560247421265},\n",
       "  {'score': -0.9754104018211365},\n",
       "  {'score': 2.3420395851135254},\n",
       "  {'score': -0.12078028172254562},\n",
       "  {'score': -0.6861329674720764},\n",
       "  {'score': -0.5330063700675964},\n",
       "  {'score': -0.915332555770874},\n",
       "  {'score': -0.7483558058738708},\n",
       "  {'score': -1.0828691720962524},\n",
       "  {'score': -0.30905547738075256},\n",
       "  {'score': -0.41721534729003906},\n",
       "  {'score': -0.95973801612854},\n",
       "  {'score': 1.8606292009353638},\n",
       "  {'score': -1.0103590488433838},\n",
       "  {'score': -0.9595122933387756},\n",
       "  {'score': -0.6248741745948792},\n",
       "  {'score': -0.720253050327301},\n",
       "  {'score': -0.5480590462684631},\n",
       "  {'score': -0.6451034545898438},\n",
       "  {'score': -0.2506496012210846},\n",
       "  {'score': 2.099337577819824},\n",
       "  {'score': -0.8906331062316895},\n",
       "  {'score': 2.4187371730804443},\n",
       "  {'score': -0.6400451064109802},\n",
       "  {'score': -0.32132765650749207},\n",
       "  {'score': 2.042772054672241},\n",
       "  {'score': -0.6287902593612671},\n",
       "  {'score': -0.9656971096992493},\n",
       "  {'score': -0.2232721447944641},\n",
       "  {'score': -0.9169825315475464},\n",
       "  {'score': -0.252954363822937},\n",
       "  {'score': -0.5523639917373657},\n",
       "  {'score': -0.5308763980865479},\n",
       "  {'score': -0.5421919226646423},\n",
       "  {'score': -0.6308971643447876},\n",
       "  {'score': -0.3975675106048584},\n",
       "  {'score': -0.5033422708511353},\n",
       "  {'score': -0.5904282331466675},\n",
       "  {'score': -0.22083580493927002},\n",
       "  {'score': -0.5542197823524475},\n",
       "  {'score': -0.09803184121847153},\n",
       "  {'score': -0.15635576844215393},\n",
       "  {'score': -0.12456005811691284},\n",
       "  {'score': -0.8271188735961914},\n",
       "  {'score': -0.36266422271728516},\n",
       "  {'score': 2.4507226943969727},\n",
       "  {'score': -0.3613605201244354},\n",
       "  {'score': -0.38805708289146423},\n",
       "  {'score': -0.3775463104248047},\n",
       "  {'score': 2.245586395263672},\n",
       "  {'score': 1.977017879486084},\n",
       "  {'score': -0.14381837844848633},\n",
       "  {'score': -0.9193333983421326},\n",
       "  {'score': -1.051796317100525},\n",
       "  {'score': -0.2716151177883148},\n",
       "  {'score': -0.5910799503326416},\n",
       "  {'score': 2.0078506469726562},\n",
       "  {'score': -0.7803787589073181},\n",
       "  {'score': -1.0583934783935547},\n",
       "  {'score': -0.20889517664909363},\n",
       "  {'score': -0.2472589910030365},\n",
       "  {'score': -0.6808367371559143},\n",
       "  {'score': -1.049312710762024},\n",
       "  {'score': -0.9900844693183899},\n",
       "  {'score': -0.22788465023040771},\n",
       "  {'score': -1.074057936668396},\n",
       "  {'score': -1.041722059249878},\n",
       "  {'score': -0.194806307554245},\n",
       "  {'score': -0.3809579312801361},\n",
       "  {'score': -0.5608999729156494},\n",
       "  {'score': 2.001776695251465},\n",
       "  {'score': -0.11048410832881927},\n",
       "  {'score': -0.5465234518051147},\n",
       "  {'score': -0.29926520586013794},\n",
       "  {'score': -0.24821510910987854},\n",
       "  {'score': -0.4554259777069092},\n",
       "  {'score': -0.38053780794143677},\n",
       "  {'score': 1.9508476257324219},\n",
       "  {'score': -1.0208345651626587},\n",
       "  {'score': 1.813674807548523},\n",
       "  {'score': -0.38819822669029236},\n",
       "  {'score': -0.26735666394233704},\n",
       "  {'score': -1.0187944173812866},\n",
       "  {'score': -0.6519886255264282},\n",
       "  {'score': 1.5951385498046875},\n",
       "  {'score': -1.0112345218658447},\n",
       "  {'score': -0.11332227289676666},\n",
       "  {'score': -0.7860197424888611},\n",
       "  {'score': 1.904070258140564},\n",
       "  {'score': 1.859377145767212},\n",
       "  {'score': -0.9561445713043213},\n",
       "  {'score': 1.519646167755127},\n",
       "  {'score': -0.6203920245170593},\n",
       "  {'score': -0.8756521940231323},\n",
       "  {'score': -0.9822676777839661},\n",
       "  {'score': -0.9126700162887573},\n",
       "  {'score': 1.9808588027954102},\n",
       "  {'score': 2.252903938293457},\n",
       "  {'score': -0.5128222703933716},\n",
       "  {'score': -0.45767712593078613},\n",
       "  {'score': -0.20367860794067383},\n",
       "  {'score': 2.5126402378082275},\n",
       "  {'score': -0.8006372451782227},\n",
       "  {'score': -0.9377707242965698},\n",
       "  {'score': -0.9064756631851196},\n",
       "  {'score': -0.9853125214576721},\n",
       "  {'score': -0.8417273163795471},\n",
       "  {'score': -0.41077038645744324},\n",
       "  {'score': -1.0512421131134033},\n",
       "  {'score': -0.7538363933563232},\n",
       "  {'score': -1.0407570600509644},\n",
       "  {'score': -0.9691292643547058},\n",
       "  {'score': -0.4918935298919678},\n",
       "  {'score': -0.12076373398303986},\n",
       "  {'score': -0.7917920351028442},\n",
       "  {'score': -0.7054922580718994},\n",
       "  {'score': 2.046455144882202},\n",
       "  {'score': -0.9451935887336731},\n",
       "  {'score': -0.3210311233997345},\n",
       "  {'score': -0.08630774915218353},\n",
       "  {'score': 1.887047529220581},\n",
       "  {'score': -0.6809361577033997},\n",
       "  {'score': -0.8656726479530334},\n",
       "  {'score': -1.069209337234497},\n",
       "  {'score': -1.0164494514465332},\n",
       "  {'score': -0.14692559838294983},\n",
       "  {'score': -0.30980074405670166},\n",
       "  {'score': 1.759892463684082},\n",
       "  {'score': -0.9097886681556702},\n",
       "  {'score': -0.5149683952331543},\n",
       "  {'score': 2.083434581756592},\n",
       "  {'score': -0.9366328120231628},\n",
       "  {'score': -0.2676602005958557},\n",
       "  {'score': -0.35121679306030273},\n",
       "  {'score': -0.3474273085594177},\n",
       "  {'score': -0.24790486693382263},\n",
       "  {'score': -0.35416173934936523},\n",
       "  {'score': -0.6261089444160461},\n",
       "  {'score': 1.922149896621704},\n",
       "  {'score': -0.28999653458595276},\n",
       "  {'score': -0.2599232494831085},\n",
       "  {'score': -0.29942432045936584},\n",
       "  {'score': -0.969326913356781},\n",
       "  {'score': -0.9059590697288513},\n",
       "  {'score': -0.3741448223590851},\n",
       "  {'score': -0.7708197832107544},\n",
       "  {'score': -1.0255820751190186},\n",
       "  {'score': -0.705623984336853},\n",
       "  {'score': -0.9557589888572693},\n",
       "  {'score': 1.742431879043579},\n",
       "  {'score': -0.5043613314628601},\n",
       "  {'score': -0.5339778661727905},\n",
       "  {'score': -1.0644792318344116},\n",
       "  {'score': -0.5484285354614258},\n",
       "  {'score': 1.7983882427215576},\n",
       "  {'score': -1.0542325973510742},\n",
       "  {'score': 2.4583725929260254},\n",
       "  {'score': -1.0669599771499634},\n",
       "  {'score': -0.2144182026386261},\n",
       "  {'score': -0.47441354393959045},\n",
       "  {'score': -0.7910667657852173},\n",
       "  {'score': -1.098288893699646},\n",
       "  {'score': -0.9097421169281006},\n",
       "  {'score': 1.695690393447876},\n",
       "  {'score': -0.4048784673213959},\n",
       "  {'score': 1.8164331912994385},\n",
       "  {'score': -0.8997951745986938},\n",
       "  {'score': -0.19024136662483215},\n",
       "  {'score': 1.5500898361206055},\n",
       "  {'score': -0.1533990502357483},\n",
       "  {'score': -0.8012586236000061},\n",
       "  {'score': -0.5180866718292236},\n",
       "  {'score': 1.9599783420562744},\n",
       "  {'score': -0.5392477512359619},\n",
       "  {'score': -0.752048671245575},\n",
       "  {'score': 1.868209719657898},\n",
       "  {'score': -0.1840888112783432},\n",
       "  {'score': -0.7821040153503418},\n",
       "  {'score': -0.42530715465545654},\n",
       "  {'score': -0.25891682505607605},\n",
       "  {'score': 2.285428762435913},\n",
       "  {'score': -0.566798210144043},\n",
       "  {'score': -0.3606262505054474},\n",
       "  {'score': 1.9509782791137695},\n",
       "  {'score': -0.3472159504890442},\n",
       "  {'score': -0.3661521375179291},\n",
       "  {'score': -0.7174112796783447},\n",
       "  {'score': -0.12556765973567963},\n",
       "  {'score': -0.3911483883857727},\n",
       "  {'score': -0.5300208926200867},\n",
       "  {'score': -0.9799315333366394},\n",
       "  {'score': -0.43398046493530273},\n",
       "  {'score': -0.6714105606079102},\n",
       "  {'score': -0.5731008052825928},\n",
       "  {'score': -0.24635100364685059},\n",
       "  {'score': -0.6661357283592224},\n",
       "  {'score': -1.015714168548584},\n",
       "  {'score': -0.273716539144516},\n",
       "  {'score': 2.043976306915283},\n",
       "  {'score': 2.0615885257720947},\n",
       "  {'score': -0.6621962189674377},\n",
       "  {'score': -0.10254943370819092},\n",
       "  {'score': -0.49512478709220886},\n",
       "  {'score': 1.5194236040115356},\n",
       "  {'score': -0.3679758906364441},\n",
       "  {'score': -0.24048209190368652},\n",
       "  {'score': -0.7574269771575928},\n",
       "  {'score': 2.131932497024536},\n",
       "  {'score': -0.8028294444084167},\n",
       "  {'score': -0.1305786371231079},\n",
       "  {'score': -1.031714916229248},\n",
       "  {'score': -0.31913936138153076},\n",
       "  {'score': -0.18958106637001038},\n",
       "  {'score': -0.6231143474578857},\n",
       "  {'score': 2.140223741531372},\n",
       "  {'score': -0.8183692693710327},\n",
       "  {'score': -0.39732876420021057},\n",
       "  {'score': -0.2820931077003479},\n",
       "  {'score': -0.44479915499687195},\n",
       "  {'score': -0.9216391444206238},\n",
       "  {'score': 2.1097652912139893},\n",
       "  {'score': -0.698929488658905},\n",
       "  {'score': -0.28917813301086426},\n",
       "  {'score': -1.0016528367996216},\n",
       "  {'score': -1.0090430974960327},\n",
       "  {'score': -0.9533966183662415},\n",
       "  {'score': -0.2570647597312927},\n",
       "  {'score': -1.0154341459274292},\n",
       "  {'score': -0.8409139513969421},\n",
       "  {'score': -0.7636482119560242},\n",
       "  {'score': -0.14112716913223267},\n",
       "  {'score': -0.6962701082229614},\n",
       "  {'score': -0.17893359065055847},\n",
       "  {'score': -0.7599666714668274},\n",
       "  {'score': 2.1832685470581055},\n",
       "  {'score': 1.8586260080337524},\n",
       "  {'score': -0.6600674986839294},\n",
       "  {'score': 2.4672367572784424},\n",
       "  {'score': -0.5293552279472351},\n",
       "  {'score': 2.1169562339782715},\n",
       "  {'score': -0.17844435572624207},\n",
       "  {'score': -0.6077975034713745},\n",
       "  {'score': -1.047532558441162},\n",
       "  {'score': -0.6004028916358948},\n",
       "  {'score': 2.110596179962158},\n",
       "  {'score': 2.4355156421661377},\n",
       "  {'score': -0.61337810754776},\n",
       "  {'score': -0.3265317678451538},\n",
       "  {'score': -0.8219937086105347},\n",
       "  {'score': -0.2927030026912689},\n",
       "  {'score': -1.0706778764724731},\n",
       "  {'score': -0.8670408129692078},\n",
       "  {'score': -0.6198877692222595},\n",
       "  {'score': -0.7238120436668396},\n",
       "  {'score': -1.0188162326812744},\n",
       "  {'score': -0.5668303966522217},\n",
       "  {'score': 1.9047361612319946},\n",
       "  {'score': 2.182070016860962},\n",
       "  {'score': -0.7891489267349243},\n",
       "  {'score': -0.7663167119026184}]}"
      ]
     },
     "execution_count": 110,
     "metadata": {},
     "output_type": "execute_result"
    }
   ],
   "source": [
    "result # results are in Json format"
   ]
  },
  {
   "cell_type": "code",
   "execution_count": 111,
   "metadata": {},
   "outputs": [],
   "source": [
    "# Since the result is in json format, we access the scores by iterating through the scores in the predictions\n",
    "\n",
    "predictions = np.array([r['score'] for r in result['predictions']])"
   ]
  },
  {
   "cell_type": "code",
   "execution_count": 112,
   "metadata": {},
   "outputs": [
    {
     "data": {
      "text/plain": [
       "array([-0.85731727, -0.51547647, -0.81725496, -0.26447201,  2.20019364,\n",
       "        2.17293334, -0.24612579, -0.38481063, -0.54385602, -0.9754104 ,\n",
       "        2.34203959, -0.12078028, -0.68613297, -0.53300637, -0.91533256,\n",
       "       -0.74835581, -1.08286917, -0.30905548, -0.41721535, -0.95973802,\n",
       "        1.8606292 , -1.01035905, -0.95951229, -0.62487417, -0.72025305,\n",
       "       -0.54805905, -0.64510345, -0.2506496 ,  2.09933758, -0.89063311,\n",
       "        2.41873717, -0.64004511, -0.32132766,  2.04277205, -0.62879026,\n",
       "       -0.96569711, -0.22327214, -0.91698253, -0.25295436, -0.55236399,\n",
       "       -0.5308764 , -0.54219192, -0.63089716, -0.39756751, -0.50334227,\n",
       "       -0.59042823, -0.2208358 , -0.55421978, -0.09803184, -0.15635577,\n",
       "       -0.12456006, -0.82711887, -0.36266422,  2.45072269, -0.36136052,\n",
       "       -0.38805708, -0.37754631,  2.2455864 ,  1.97701788, -0.14381838,\n",
       "       -0.9193334 , -1.05179632, -0.27161512, -0.59107995,  2.00785065,\n",
       "       -0.78037876, -1.05839348, -0.20889518, -0.24725899, -0.68083674,\n",
       "       -1.04931271, -0.99008447, -0.22788465, -1.07405794, -1.04172206,\n",
       "       -0.19480631, -0.38095793, -0.56089997,  2.0017767 , -0.11048411,\n",
       "       -0.54652345, -0.29926521, -0.24821511, -0.45542598, -0.38053781,\n",
       "        1.95084763, -1.02083457,  1.81367481, -0.38819823, -0.26735666,\n",
       "       -1.01879442, -0.65198863,  1.59513855, -1.01123452, -0.11332227,\n",
       "       -0.78601974,  1.90407026,  1.85937715, -0.95614457,  1.51964617,\n",
       "       -0.62039202, -0.87565219, -0.98226768, -0.91267002,  1.9808588 ,\n",
       "        2.25290394, -0.51282227, -0.45767713, -0.20367861,  2.51264024,\n",
       "       -0.80063725, -0.93777072, -0.90647566, -0.98531252, -0.84172732,\n",
       "       -0.41077039, -1.05124211, -0.75383639, -1.04075706, -0.96912926,\n",
       "       -0.49189353, -0.12076373, -0.79179204, -0.70549226,  2.04645514,\n",
       "       -0.94519359, -0.32103112, -0.08630775,  1.88704753, -0.68093616,\n",
       "       -0.86567265, -1.06920934, -1.01644945, -0.1469256 , -0.30980074,\n",
       "        1.75989246, -0.90978867, -0.5149684 ,  2.08343458, -0.93663281,\n",
       "       -0.2676602 , -0.35121679, -0.34742731, -0.24790487, -0.35416174,\n",
       "       -0.62610894,  1.9221499 , -0.28999653, -0.25992325, -0.29942432,\n",
       "       -0.96932691, -0.90595907, -0.37414482, -0.77081978, -1.02558208,\n",
       "       -0.70562398, -0.95575899,  1.74243188, -0.50436133, -0.53397787,\n",
       "       -1.06447923, -0.54842854,  1.79838824, -1.0542326 ,  2.45837259,\n",
       "       -1.06695998, -0.2144182 , -0.47441354, -0.79106677, -1.09828889,\n",
       "       -0.90974212,  1.69569039, -0.40487847,  1.81643319, -0.89979517,\n",
       "       -0.19024137,  1.55008984, -0.15339905, -0.80125862, -0.51808667,\n",
       "        1.95997834, -0.53924775, -0.75204867,  1.86820972, -0.18408881,\n",
       "       -0.78210402, -0.42530715, -0.25891683,  2.28542876, -0.56679821,\n",
       "       -0.36062625,  1.95097828, -0.34721595, -0.36615214, -0.71741128,\n",
       "       -0.12556766, -0.39114839, -0.53002089, -0.97993153, -0.43398046,\n",
       "       -0.67141056, -0.57310081, -0.246351  , -0.66613573, -1.01571417,\n",
       "       -0.27371654,  2.04397631,  2.06158853, -0.66219622, -0.10254943,\n",
       "       -0.49512479,  1.5194236 , -0.36797589, -0.24048209, -0.75742698,\n",
       "        2.1319325 , -0.80282944, -0.13057864, -1.03171492, -0.31913936,\n",
       "       -0.18958107, -0.62311435,  2.14022374, -0.81836927, -0.39732876,\n",
       "       -0.28209311, -0.44479915, -0.92163914,  2.10976529, -0.69892949,\n",
       "       -0.28917813, -1.00165284, -1.0090431 , -0.95339662, -0.25706476,\n",
       "       -1.01543415, -0.84091395, -0.76364821, -0.14112717, -0.69627011,\n",
       "       -0.17893359, -0.75996667,  2.18326855,  1.85862601, -0.6600675 ,\n",
       "        2.46723676, -0.52935523,  2.11695623, -0.17844436, -0.6077975 ,\n",
       "       -1.04753256, -0.60040289,  2.11059618,  2.43551564, -0.61337811,\n",
       "       -0.32653177, -0.82199371, -0.292703  , -1.07067788, -0.86704081,\n",
       "       -0.61988777, -0.72381204, -1.01881623, -0.5668304 ,  1.90473616,\n",
       "        2.18207002, -0.78914893, -0.76631671])"
      ]
     },
     "execution_count": 112,
     "metadata": {},
     "output_type": "execute_result"
    },
    {
     "data": {
      "text/plain": [
       "array([-0.85731727, -0.51547647, -0.81725496, -0.26447201,  2.20019364,\n",
       "        2.17293334, -0.24612579, -0.38481063, -0.54385602, -0.9754104 ,\n",
       "        2.34203959, -0.12078028, -0.68613297, -0.53300637, -0.91533256,\n",
       "       -0.74835581, -1.08286917, -0.30905548, -0.41721535, -0.95973802,\n",
       "        1.8606292 , -1.01035905, -0.95951229, -0.62487417, -0.72025305,\n",
       "       -0.54805905, -0.64510345, -0.2506496 ,  2.09933758, -0.89063311,\n",
       "        2.41873717, -0.64004511, -0.32132766,  2.04277205, -0.62879026,\n",
       "       -0.96569711, -0.22327214, -0.91698253, -0.25295436, -0.55236399,\n",
       "       -0.5308764 , -0.54219192, -0.63089716, -0.39756751, -0.50334227,\n",
       "       -0.59042823, -0.2208358 , -0.55421978, -0.09803184, -0.15635577,\n",
       "       -0.12456006, -0.82711887, -0.36266422,  2.45072269, -0.36136052,\n",
       "       -0.38805708, -0.37754631,  2.2455864 ,  1.97701788, -0.14381838,\n",
       "       -0.9193334 , -1.05179632, -0.27161512, -0.59107995,  2.00785065,\n",
       "       -0.78037876, -1.05839348, -0.20889518, -0.24725899, -0.68083674,\n",
       "       -1.04931271, -0.99008447, -0.22788465, -1.07405794, -1.04172206,\n",
       "       -0.19480631, -0.38095793, -0.56089997,  2.0017767 , -0.11048411,\n",
       "       -0.54652345, -0.29926521, -0.24821511, -0.45542598, -0.38053781,\n",
       "        1.95084763, -1.02083457,  1.81367481, -0.38819823, -0.26735666,\n",
       "       -1.01879442, -0.65198863,  1.59513855, -1.01123452, -0.11332227,\n",
       "       -0.78601974,  1.90407026,  1.85937715, -0.95614457,  1.51964617,\n",
       "       -0.62039202, -0.87565219, -0.98226768, -0.91267002,  1.9808588 ,\n",
       "        2.25290394, -0.51282227, -0.45767713, -0.20367861,  2.51264024,\n",
       "       -0.80063725, -0.93777072, -0.90647566, -0.98531252, -0.84172732,\n",
       "       -0.41077039, -1.05124211, -0.75383639, -1.04075706, -0.96912926,\n",
       "       -0.49189353, -0.12076373, -0.79179204, -0.70549226,  2.04645514,\n",
       "       -0.94519359, -0.32103112, -0.08630775,  1.88704753, -0.68093616,\n",
       "       -0.86567265, -1.06920934, -1.01644945, -0.1469256 , -0.30980074,\n",
       "        1.75989246, -0.90978867, -0.5149684 ,  2.08343458, -0.93663281,\n",
       "       -0.2676602 , -0.35121679, -0.34742731, -0.24790487, -0.35416174,\n",
       "       -0.62610894,  1.9221499 , -0.28999653, -0.25992325, -0.29942432,\n",
       "       -0.96932691, -0.90595907, -0.37414482, -0.77081978, -1.02558208,\n",
       "       -0.70562398, -0.95575899,  1.74243188, -0.50436133, -0.53397787,\n",
       "       -1.06447923, -0.54842854,  1.79838824, -1.0542326 ,  2.45837259,\n",
       "       -1.06695998, -0.2144182 , -0.47441354, -0.79106677, -1.09828889,\n",
       "       -0.90974212,  1.69569039, -0.40487847,  1.81643319, -0.89979517,\n",
       "       -0.19024137,  1.55008984, -0.15339905, -0.80125862, -0.51808667,\n",
       "        1.95997834, -0.53924775, -0.75204867,  1.86820972, -0.18408881,\n",
       "       -0.78210402, -0.42530715, -0.25891683,  2.28542876, -0.56679821,\n",
       "       -0.36062625,  1.95097828, -0.34721595, -0.36615214, -0.71741128,\n",
       "       -0.12556766, -0.39114839, -0.53002089, -0.97993153, -0.43398046,\n",
       "       -0.67141056, -0.57310081, -0.246351  , -0.66613573, -1.01571417,\n",
       "       -0.27371654,  2.04397631,  2.06158853, -0.66219622, -0.10254943,\n",
       "       -0.49512479,  1.5194236 , -0.36797589, -0.24048209, -0.75742698,\n",
       "        2.1319325 , -0.80282944, -0.13057864, -1.03171492, -0.31913936,\n",
       "       -0.18958107, -0.62311435,  2.14022374, -0.81836927, -0.39732876,\n",
       "       -0.28209311, -0.44479915, -0.92163914,  2.10976529, -0.69892949,\n",
       "       -0.28917813, -1.00165284, -1.0090431 , -0.95339662, -0.25706476,\n",
       "       -1.01543415, -0.84091395, -0.76364821, -0.14112717, -0.69627011,\n",
       "       -0.17893359, -0.75996667,  2.18326855,  1.85862601, -0.6600675 ,\n",
       "        2.46723676, -0.52935523,  2.11695623, -0.17844436, -0.6077975 ,\n",
       "       -1.04753256, -0.60040289,  2.11059618,  2.43551564, -0.61337811,\n",
       "       -0.32653177, -0.82199371, -0.292703  , -1.07067788, -0.86704081,\n",
       "       -0.61988777, -0.72381204, -1.01881623, -0.5668304 ,  1.90473616,\n",
       "        2.18207002, -0.78914893, -0.76631671])"
      ]
     },
     "execution_count": 112,
     "metadata": {},
     "output_type": "execute_result"
    }
   ],
   "source": [
    "predictions"
   ]
  },
  {
   "cell_type": "code",
   "execution_count": 113,
   "metadata": {
    "scrolled": true
   },
   "outputs": [
    {
     "data": {
      "text/plain": [
       "(268,)"
      ]
     },
     "execution_count": 113,
     "metadata": {},
     "output_type": "execute_result"
    },
    {
     "data": {
      "text/plain": [
       "(268,)"
      ]
     },
     "execution_count": 113,
     "metadata": {},
     "output_type": "execute_result"
    }
   ],
   "source": [
    "predictions.shape"
   ]
  },
  {
   "cell_type": "code",
   "execution_count": 114,
   "metadata": {},
   "outputs": [],
   "source": [
    "y_predict_orig = scaler_y.inverse_transform(predictions)\n",
    "y_test_orig = scaler_y.inverse_transform(y_test)"
   ]
  },
  {
   "cell_type": "code",
   "execution_count": 115,
   "metadata": {},
   "outputs": [
    {
     "name": "stdout",
     "output_type": "stream",
     "text": [
      "RMSE = 7312.395 \n",
      "MSE = 53471126.81618615 \n",
      "MAE = 3978.772363057712 \n",
      "R2 = 0.6200148057704212 \n",
      "Adjusted R2 = 0.6082778113540637\n",
      "RMSE = 7312.395 \n",
      "MSE = 53471126.81618615 \n",
      "MAE = 3978.772363057712 \n",
      "R2 = 0.6200148057704212 \n",
      "Adjusted R2 = 0.6082778113540637\n"
     ]
    }
   ],
   "source": [
    "from sklearn.metrics import r2_score, mean_squared_error, mean_absolute_error\n",
    "from math import sqrt\n",
    "\n",
    "RMSE = float(format(np.sqrt(mean_squared_error(y_test_orig, y_predict_orig)),'.3f'))\n",
    "MSE = mean_squared_error(y_test_orig, y_predict_orig)\n",
    "MAE = mean_absolute_error(y_test_orig, y_predict_orig)\n",
    "r2 = r2_score(y_test_orig, y_predict_orig)\n",
    "adj_r2 = 1-(1-r2)*(n-1)/(n-k-1)\n",
    "\n",
    "print('RMSE =',RMSE, '\\nMSE =',MSE, '\\nMAE =',MAE, '\\nR2 =', r2, '\\nAdjusted R2 =', adj_r2) "
   ]
  },
  {
   "cell_type": "code",
   "execution_count": 116,
   "metadata": {},
   "outputs": [],
   "source": [
    "# Delete the end-point\n",
    "\n",
    "linear_regressor.delete_endpoint()"
   ]
  },
  {
   "cell_type": "markdown",
   "metadata": {},
   "source": [
    "# TASK #9: LET'S TRY A MORE COMPLEX ARTIFICIAL NEURAL NETWORK-BASED REGRESSION MODEL"
   ]
  },
  {
   "cell_type": "code",
   "execution_count": 117,
   "metadata": {},
   "outputs": [
    {
     "name": "stdout",
     "output_type": "stream",
     "text": [
      "Collecting tensorflow\n",
      "  Downloading tensorflow-2.3.1-cp37-cp37m-manylinux2010_x86_64.whl (320.4 MB)\n",
      "\u001b[K     |████████████████████████████████| 320.4 MB 14 kB/s s eta 0:00:01     |████████████████████▋           | 206.7 MB 57.2 MB/s eta 0:00:02     |██████████████████████▊         | 227.7 MB 57.2 MB/s eta 0:00:02     |█████████████████████████▋      | 256.2 MB 57.2 MB/s eta 0:00:02�█▋ | 306.5 MB 64.7 MB/s eta 0:00:01\n",
      "\u001b[?25hRequirement already satisfied: protobuf>=3.9.2 in /opt/conda/lib/python3.7/site-packages (from tensorflow) (3.14.0)\n",
      "Collecting gast==0.3.3\n",
      "  Downloading gast-0.3.3-py2.py3-none-any.whl (9.7 kB)\n",
      "Collecting astunparse==1.6.3\n",
      "  Downloading astunparse-1.6.3-py2.py3-none-any.whl (12 kB)\n",
      "Requirement already satisfied: google-pasta>=0.1.8 in /opt/conda/lib/python3.7/site-packages (from tensorflow) (0.2.0)\n",
      "Collecting keras-preprocessing<1.2,>=1.1.1\n",
      "  Downloading Keras_Preprocessing-1.1.2-py2.py3-none-any.whl (42 kB)\n",
      "\u001b[K     |████████████████████████████████| 42 kB 77 kB/s s eta 0:00:01\n",
      "\u001b[?25hCollecting tensorboard<3,>=2.3.0\n",
      "  Downloading tensorboard-2.4.0-py3-none-any.whl (10.6 MB)\n",
      "\u001b[K     |████████████████████████████████| 10.6 MB 37.7 MB/s eta 0:00:01\n",
      "\u001b[?25hCollecting termcolor>=1.1.0\n",
      "  Downloading termcolor-1.1.0.tar.gz (3.9 kB)\n",
      "Requirement already satisfied: wrapt>=1.11.1 in /opt/conda/lib/python3.7/site-packages (from tensorflow) (1.11.2)\n",
      "Collecting grpcio>=1.8.6\n",
      "  Downloading grpcio-1.33.2-cp37-cp37m-manylinux2014_x86_64.whl (3.8 MB)\n",
      "\u001b[K     |████████████████████████████████| 3.8 MB 40.0 MB/s eta 0:00:01\n",
      "\u001b[?25hCollecting opt-einsum>=2.3.2\n",
      "  Downloading opt_einsum-3.3.0-py3-none-any.whl (65 kB)\n",
      "\u001b[K     |████████████████████████████████| 65 kB 203 kB/s  eta 0:00:01\n",
      "\u001b[?25hRequirement already satisfied: six>=1.12.0 in /opt/conda/lib/python3.7/site-packages (from tensorflow) (1.14.0)\n",
      "Requirement already satisfied: h5py<2.11.0,>=2.10.0 in /opt/conda/lib/python3.7/site-packages (from tensorflow) (2.10.0)\n",
      "Collecting tensorflow-estimator<2.4.0,>=2.3.0\n",
      "  Downloading tensorflow_estimator-2.3.0-py2.py3-none-any.whl (459 kB)\n",
      "\u001b[K     |████████████████████████████████| 459 kB 59.7 MB/s eta 0:00:01\n",
      "\u001b[?25hCollecting absl-py>=0.7.0\n",
      "  Downloading absl_py-0.11.0-py3-none-any.whl (127 kB)\n",
      "\u001b[K     |████████████████████████████████| 127 kB 55.4 MB/s eta 0:00:01\n",
      "\u001b[?25hRequirement already satisfied: wheel>=0.26 in /opt/conda/lib/python3.7/site-packages (from tensorflow) (0.34.2)\n",
      "Requirement already satisfied: numpy<1.19.0,>=1.16.0 in /opt/conda/lib/python3.7/site-packages (from tensorflow) (1.18.1)\n",
      "Collecting google-auth<2,>=1.6.3\n",
      "  Downloading google_auth-1.23.0-py2.py3-none-any.whl (114 kB)\n",
      "\u001b[K     |████████████████████████████████| 114 kB 57.5 MB/s eta 0:00:01\n",
      "\u001b[?25hRequirement already satisfied: requests<3,>=2.21.0 in /opt/conda/lib/python3.7/site-packages (from tensorboard<3,>=2.3.0->tensorflow) (2.22.0)\n",
      "Collecting google-auth-oauthlib<0.5,>=0.4.1\n",
      "  Downloading google_auth_oauthlib-0.4.2-py2.py3-none-any.whl (18 kB)\n",
      "Collecting tensorboard-plugin-wit>=1.6.0\n",
      "  Downloading tensorboard_plugin_wit-1.7.0-py3-none-any.whl (779 kB)\n",
      "\u001b[K     |████████████████████████████████| 779 kB 30.3 MB/s eta 0:00:01\n",
      "\u001b[?25hRequirement already satisfied: setuptools>=41.0.0 in /opt/conda/lib/python3.7/site-packages (from tensorboard<3,>=2.3.0->tensorflow) (45.2.0.post20200210)\n",
      "Requirement already satisfied: werkzeug>=0.11.15 in /opt/conda/lib/python3.7/site-packages (from tensorboard<3,>=2.3.0->tensorflow) (1.0.0)\n",
      "Collecting markdown>=2.6.8\n",
      "  Downloading Markdown-3.3.3-py3-none-any.whl (96 kB)\n",
      "\u001b[K     |████████████████████████████████| 96 kB 397 kB/s  eta 0:00:01\n",
      "\u001b[?25hCollecting cachetools<5.0,>=2.0.0\n",
      "  Downloading cachetools-4.1.1-py3-none-any.whl (10 kB)\n",
      "Requirement already satisfied: rsa<5,>=3.1.4; python_version >= \"3.5\" in /opt/conda/lib/python3.7/site-packages (from google-auth<2,>=1.6.3->tensorboard<3,>=2.3.0->tensorflow) (4.5)\n",
      "Collecting pyasn1-modules>=0.2.1\n",
      "  Downloading pyasn1_modules-0.2.8-py2.py3-none-any.whl (155 kB)\n",
      "\u001b[K     |████████████████████████████████| 155 kB 64.0 MB/s eta 0:00:01\n",
      "\u001b[?25hRequirement already satisfied: chardet<3.1.0,>=3.0.2 in /opt/conda/lib/python3.7/site-packages (from requests<3,>=2.21.0->tensorboard<3,>=2.3.0->tensorflow) (3.0.4)\n",
      "Requirement already satisfied: urllib3!=1.25.0,!=1.25.1,<1.26,>=1.21.1 in /opt/conda/lib/python3.7/site-packages (from requests<3,>=2.21.0->tensorboard<3,>=2.3.0->tensorflow) (1.25.8)\n",
      "Requirement already satisfied: idna<2.9,>=2.5 in /opt/conda/lib/python3.7/site-packages (from requests<3,>=2.21.0->tensorboard<3,>=2.3.0->tensorflow) (2.8)\n",
      "Requirement already satisfied: certifi>=2017.4.17 in /opt/conda/lib/python3.7/site-packages (from requests<3,>=2.21.0->tensorboard<3,>=2.3.0->tensorflow) (2019.11.28)\n",
      "Collecting requests-oauthlib>=0.7.0\n",
      "  Downloading requests_oauthlib-1.3.0-py2.py3-none-any.whl (23 kB)\n",
      "Requirement already satisfied: importlib-metadata; python_version < \"3.8\" in /opt/conda/lib/python3.7/site-packages (from markdown>=2.6.8->tensorboard<3,>=2.3.0->tensorflow) (1.5.0)\n",
      "Requirement already satisfied: pyasn1>=0.1.3 in /opt/conda/lib/python3.7/site-packages (from rsa<5,>=3.1.4; python_version >= \"3.5\"->google-auth<2,>=1.6.3->tensorboard<3,>=2.3.0->tensorflow) (0.4.8)\n",
      "Collecting oauthlib>=3.0.0\n",
      "  Downloading oauthlib-3.1.0-py2.py3-none-any.whl (147 kB)\n",
      "\u001b[K     |████████████████████████████████| 147 kB 55.7 MB/s eta 0:00:01\n",
      "\u001b[?25hRequirement already satisfied: zipp>=0.5 in /opt/conda/lib/python3.7/site-packages (from importlib-metadata; python_version < \"3.8\"->markdown>=2.6.8->tensorboard<3,>=2.3.0->tensorflow) (2.2.0)\n",
      "Building wheels for collected packages: termcolor\n",
      "  Building wheel for termcolor (setup.py) ... \u001b[?25ldone\n",
      "\u001b[?25h  Created wheel for termcolor: filename=termcolor-1.1.0-py3-none-any.whl size=4830 sha256=c8eb6a7eeeadced540d9a29d87a311fb7382d5619d83f025ecb56eeb90dc53e8\n",
      "  Stored in directory: /root/.cache/pip/wheels/3f/e3/ec/8a8336ff196023622fbcb36de0c5a5c218cbb24111d1d4c7f2\n",
      "Successfully built termcolor\n",
      "Installing collected packages: gast, astunparse, keras-preprocessing, cachetools, pyasn1-modules, google-auth, absl-py, oauthlib, requests-oauthlib, google-auth-oauthlib, tensorboard-plugin-wit, grpcio, markdown, tensorboard, termcolor, opt-einsum, tensorflow-estimator, tensorflow\n",
      "Successfully installed absl-py-0.11.0 astunparse-1.6.3 cachetools-4.1.1 gast-0.3.3 google-auth-1.23.0 google-auth-oauthlib-0.4.2 grpcio-1.33.2 keras-preprocessing-1.1.2 markdown-3.3.3 oauthlib-3.1.0 opt-einsum-3.3.0 pyasn1-modules-0.2.8 requests-oauthlib-1.3.0 tensorboard-2.4.0 tensorboard-plugin-wit-1.7.0 tensorflow-2.3.1 tensorflow-estimator-2.3.0 termcolor-1.1.0\n"
     ]
    }
   ],
   "source": [
    "!pip install tensorflow"
   ]
  },
  {
   "cell_type": "code",
   "execution_count": 118,
   "metadata": {},
   "outputs": [],
   "source": [
    "import tensorflow as tf\n",
    "from tensorflow import keras\n",
    "from tensorflow.keras.layers import Dense, Activation, Dropout, BatchNormalization\n",
    "from tensorflow.keras.optimizers import Adam\n"
   ]
  },
  {
   "cell_type": "code",
   "execution_count": 138,
   "metadata": {},
   "outputs": [
    {
     "name": "stdout",
     "output_type": "stream",
     "text": [
      "Model: \"sequential_3\"\n",
      "_________________________________________________________________\n",
      "Layer (type)                 Output Shape              Param #   \n",
      "=================================================================\n",
      "dense_15 (Dense)             (None, 50)                450       \n",
      "_________________________________________________________________\n",
      "activation_12 (Activation)   (None, 50)                0         \n",
      "_________________________________________________________________\n",
      "dense_16 (Dense)             (None, 150)               7650      \n",
      "_________________________________________________________________\n",
      "activation_13 (Activation)   (None, 150)               0         \n",
      "_________________________________________________________________\n",
      "dropout_2 (Dropout)          (None, 150)               0         \n",
      "_________________________________________________________________\n",
      "dense_17 (Dense)             (None, 150)               22650     \n",
      "_________________________________________________________________\n",
      "activation_14 (Activation)   (None, 150)               0         \n",
      "_________________________________________________________________\n",
      "dropout_3 (Dropout)          (None, 150)               0         \n",
      "_________________________________________________________________\n",
      "dense_18 (Dense)             (None, 50)                7550      \n",
      "_________________________________________________________________\n",
      "activation_15 (Activation)   (None, 50)                0         \n",
      "_________________________________________________________________\n",
      "dense_19 (Dense)             (None, 1)                 51        \n",
      "=================================================================\n",
      "Total params: 38,351\n",
      "Trainable params: 38,351\n",
      "Non-trainable params: 0\n",
      "_________________________________________________________________\n"
     ]
    }
   ],
   "source": [
    "# We are building the network sequentially.\n",
    "# optimizer = Adam()\n",
    "ANN_model = keras.Sequential()\n",
    "ANN_model.add(Dense(50, input_dim = 8)) # Adds the first layer with 50 nuerons. Each neuron takes eight inputs\n",
    "ANN_model.add(Activation('relu')) # The activation function for this first layer is relu\n",
    "ANN_model.add(Dense(150))  # Adds another 150 neurons to the next layer that takes inputs from the previous\n",
    "ANN_model.add(Activation('relu'))\n",
    "ANN_model.add(Dropout(0.25)) # Randomly drops 25% of the neurons\n",
    "ANN_model.add(Dense(150))\n",
    "ANN_model.add(Activation('relu'))\n",
    "ANN_model.add(Dropout(0.25))\n",
    "ANN_model.add(Dense(50))\n",
    "ANN_model.add(Activation('linear'))   # Yhis last activation is linear because it is a regression based problem\n",
    "ANN_model.add(Dense(1))\n",
    "ANN_model.compile(loss = 'mse', optimizer = 'adam')\n",
    "ANN_model.summary()"
   ]
  },
  {
   "cell_type": "code",
   "execution_count": 139,
   "metadata": {},
   "outputs": [
    {
     "name": "stdout",
     "output_type": "stream",
     "text": [
      "Epoch 1/100\n",
      "43/43 [==============================] - 0s 7ms/step - loss: 0.4888 - val_loss: 0.2909\n",
      "Epoch 2/100\n",
      "43/43 [==============================] - 0s 3ms/step - loss: 0.2614 - val_loss: 0.1853\n",
      "Epoch 3/100\n",
      "43/43 [==============================] - 0s 3ms/step - loss: 0.2076 - val_loss: 0.1838\n",
      "Epoch 4/100\n",
      "43/43 [==============================] - 0s 2ms/step - loss: 0.1989 - val_loss: 0.1870\n",
      "Epoch 5/100\n",
      "43/43 [==============================] - 0s 2ms/step - loss: 0.1866 - val_loss: 0.1746\n",
      "Epoch 6/100\n",
      "43/43 [==============================] - 0s 2ms/step - loss: 0.1804 - val_loss: 0.1779\n",
      "Epoch 7/100\n",
      "43/43 [==============================] - 0s 2ms/step - loss: 0.1777 - val_loss: 0.1922\n",
      "Epoch 8/100\n",
      "43/43 [==============================] - 0s 2ms/step - loss: 0.1661 - val_loss: 0.1816\n",
      "Epoch 9/100\n",
      "43/43 [==============================] - 0s 2ms/step - loss: 0.1559 - val_loss: 0.1811\n",
      "Epoch 10/100\n",
      "43/43 [==============================] - 0s 2ms/step - loss: 0.1652 - val_loss: 0.1785\n",
      "Epoch 11/100\n",
      "43/43 [==============================] - 0s 2ms/step - loss: 0.1652 - val_loss: 0.1809\n",
      "Epoch 12/100\n",
      "43/43 [==============================] - 0s 2ms/step - loss: 0.1719 - val_loss: 0.1749\n",
      "Epoch 13/100\n",
      "43/43 [==============================] - 0s 2ms/step - loss: 0.1578 - val_loss: 0.1799\n",
      "Epoch 14/100\n",
      "43/43 [==============================] - 0s 2ms/step - loss: 0.1544 - val_loss: 0.1759\n",
      "Epoch 15/100\n",
      "43/43 [==============================] - 0s 2ms/step - loss: 0.1587 - val_loss: 0.1807\n",
      "Epoch 16/100\n",
      "43/43 [==============================] - 0s 2ms/step - loss: 0.1510 - val_loss: 0.1777\n",
      "Epoch 17/100\n",
      "43/43 [==============================] - 0s 2ms/step - loss: 0.1399 - val_loss: 0.1910\n",
      "Epoch 18/100\n",
      "43/43 [==============================] - 0s 2ms/step - loss: 0.1521 - val_loss: 0.1809\n",
      "Epoch 19/100\n",
      "43/43 [==============================] - 0s 2ms/step - loss: 0.1450 - val_loss: 0.1787\n",
      "Epoch 20/100\n",
      "43/43 [==============================] - 0s 2ms/step - loss: 0.1397 - val_loss: 0.1715\n",
      "Epoch 21/100\n",
      "43/43 [==============================] - 0s 2ms/step - loss: 0.1403 - val_loss: 0.1891\n",
      "Epoch 22/100\n",
      "43/43 [==============================] - 0s 2ms/step - loss: 0.1403 - val_loss: 0.1748\n",
      "Epoch 23/100\n",
      "43/43 [==============================] - 0s 2ms/step - loss: 0.1342 - val_loss: 0.1694\n",
      "Epoch 24/100\n",
      "43/43 [==============================] - 0s 2ms/step - loss: 0.1367 - val_loss: 0.1793\n",
      "Epoch 25/100\n",
      "43/43 [==============================] - 0s 2ms/step - loss: 0.1477 - val_loss: 0.1708\n",
      "Epoch 26/100\n",
      "43/43 [==============================] - 0s 2ms/step - loss: 0.1297 - val_loss: 0.1850\n",
      "Epoch 27/100\n",
      "43/43 [==============================] - 0s 2ms/step - loss: 0.1339 - val_loss: 0.2013\n",
      "Epoch 28/100\n",
      "43/43 [==============================] - 0s 2ms/step - loss: 0.1200 - val_loss: 0.1797\n",
      "Epoch 29/100\n",
      "43/43 [==============================] - 0s 2ms/step - loss: 0.1364 - val_loss: 0.1714\n",
      "Epoch 30/100\n",
      "43/43 [==============================] - 0s 2ms/step - loss: 0.1204 - val_loss: 0.1746\n",
      "Epoch 31/100\n",
      "43/43 [==============================] - 0s 2ms/step - loss: 0.1310 - val_loss: 0.1797\n",
      "Epoch 32/100\n",
      "43/43 [==============================] - 0s 2ms/step - loss: 0.1257 - val_loss: 0.1812\n",
      "Epoch 33/100\n",
      "43/43 [==============================] - 0s 2ms/step - loss: 0.1265 - val_loss: 0.1836\n",
      "Epoch 34/100\n",
      "43/43 [==============================] - 0s 2ms/step - loss: 0.1272 - val_loss: 0.2111\n",
      "Epoch 35/100\n",
      "43/43 [==============================] - 0s 2ms/step - loss: 0.1241 - val_loss: 0.2055\n",
      "Epoch 36/100\n",
      "43/43 [==============================] - 0s 2ms/step - loss: 0.1219 - val_loss: 0.1909\n",
      "Epoch 37/100\n",
      "43/43 [==============================] - 0s 2ms/step - loss: 0.1179 - val_loss: 0.1816\n",
      "Epoch 38/100\n",
      "43/43 [==============================] - 0s 3ms/step - loss: 0.1133 - val_loss: 0.2026\n",
      "Epoch 39/100\n",
      "43/43 [==============================] - 0s 2ms/step - loss: 0.1230 - val_loss: 0.1786\n",
      "Epoch 40/100\n",
      "43/43 [==============================] - 0s 2ms/step - loss: 0.1178 - val_loss: 0.1743\n",
      "Epoch 41/100\n",
      "43/43 [==============================] - 0s 2ms/step - loss: 0.1191 - val_loss: 0.2300\n",
      "Epoch 42/100\n",
      "43/43 [==============================] - 0s 2ms/step - loss: 0.1221 - val_loss: 0.1831\n",
      "Epoch 43/100\n",
      "43/43 [==============================] - 0s 2ms/step - loss: 0.1144 - val_loss: 0.1728\n",
      "Epoch 44/100\n",
      "43/43 [==============================] - 0s 3ms/step - loss: 0.1091 - val_loss: 0.1837\n",
      "Epoch 45/100\n",
      "43/43 [==============================] - 0s 2ms/step - loss: 0.1144 - val_loss: 0.1948\n",
      "Epoch 46/100\n",
      "43/43 [==============================] - 0s 2ms/step - loss: 0.1247 - val_loss: 0.1883\n",
      "Epoch 47/100\n",
      "43/43 [==============================] - 0s 2ms/step - loss: 0.1202 - val_loss: 0.1864\n",
      "Epoch 48/100\n",
      "43/43 [==============================] - 0s 2ms/step - loss: 0.1204 - val_loss: 0.1874\n",
      "Epoch 49/100\n",
      "43/43 [==============================] - 0s 2ms/step - loss: 0.1061 - val_loss: 0.1836\n",
      "Epoch 50/100\n",
      "43/43 [==============================] - 0s 2ms/step - loss: 0.1114 - val_loss: 0.1987\n",
      "Epoch 51/100\n",
      "43/43 [==============================] - 0s 2ms/step - loss: 0.1069 - val_loss: 0.1890\n",
      "Epoch 52/100\n",
      "43/43 [==============================] - 0s 2ms/step - loss: 0.1050 - val_loss: 0.1975\n",
      "Epoch 53/100\n",
      "43/43 [==============================] - 0s 2ms/step - loss: 0.1016 - val_loss: 0.1824\n",
      "Epoch 54/100\n",
      "43/43 [==============================] - 0s 2ms/step - loss: 0.1086 - val_loss: 0.1911\n",
      "Epoch 55/100\n",
      "43/43 [==============================] - 0s 2ms/step - loss: 0.1057 - val_loss: 0.1881\n",
      "Epoch 56/100\n",
      "43/43 [==============================] - 0s 2ms/step - loss: 0.1050 - val_loss: 0.1780\n",
      "Epoch 57/100\n",
      "43/43 [==============================] - 0s 2ms/step - loss: 0.1018 - val_loss: 0.1852\n",
      "Epoch 58/100\n",
      "43/43 [==============================] - 0s 2ms/step - loss: 0.1035 - val_loss: 0.1947\n",
      "Epoch 59/100\n",
      "43/43 [==============================] - 0s 2ms/step - loss: 0.0924 - val_loss: 0.1829\n",
      "Epoch 60/100\n",
      "43/43 [==============================] - 0s 2ms/step - loss: 0.1035 - val_loss: 0.1805\n",
      "Epoch 61/100\n",
      "43/43 [==============================] - 0s 2ms/step - loss: 0.1003 - val_loss: 0.1819\n",
      "Epoch 62/100\n",
      "43/43 [==============================] - 0s 2ms/step - loss: 0.1011 - val_loss: 0.1764\n",
      "Epoch 63/100\n",
      "43/43 [==============================] - 0s 2ms/step - loss: 0.1068 - val_loss: 0.1880\n",
      "Epoch 64/100\n",
      "43/43 [==============================] - 0s 2ms/step - loss: 0.1063 - val_loss: 0.1766\n",
      "Epoch 65/100\n",
      "43/43 [==============================] - 0s 2ms/step - loss: 0.0993 - val_loss: 0.1797\n",
      "Epoch 66/100\n",
      "43/43 [==============================] - 0s 2ms/step - loss: 0.0988 - val_loss: 0.1802\n",
      "Epoch 67/100\n",
      "43/43 [==============================] - 0s 2ms/step - loss: 0.0925 - val_loss: 0.2010\n",
      "Epoch 68/100\n",
      "43/43 [==============================] - 0s 2ms/step - loss: 0.0930 - val_loss: 0.1863\n",
      "Epoch 69/100\n",
      "43/43 [==============================] - 0s 2ms/step - loss: 0.1007 - val_loss: 0.1950\n",
      "Epoch 70/100\n",
      "43/43 [==============================] - 0s 2ms/step - loss: 0.0906 - val_loss: 0.2038\n",
      "Epoch 71/100\n",
      "43/43 [==============================] - 0s 2ms/step - loss: 0.0936 - val_loss: 0.1898\n",
      "Epoch 72/100\n",
      "43/43 [==============================] - 0s 2ms/step - loss: 0.0985 - val_loss: 0.1908\n",
      "Epoch 73/100\n",
      "43/43 [==============================] - 0s 2ms/step - loss: 0.0968 - val_loss: 0.1867\n",
      "Epoch 74/100\n",
      "43/43 [==============================] - 0s 2ms/step - loss: 0.0940 - val_loss: 0.1840\n",
      "Epoch 75/100\n",
      "43/43 [==============================] - 0s 2ms/step - loss: 0.0937 - val_loss: 0.1847\n",
      "Epoch 76/100\n",
      "43/43 [==============================] - 0s 2ms/step - loss: 0.0880 - val_loss: 0.1820\n",
      "Epoch 77/100\n",
      "43/43 [==============================] - 0s 2ms/step - loss: 0.0866 - val_loss: 0.1793\n",
      "Epoch 78/100\n",
      "43/43 [==============================] - 0s 2ms/step - loss: 0.0881 - val_loss: 0.2042\n",
      "Epoch 79/100\n",
      "43/43 [==============================] - 0s 2ms/step - loss: 0.0874 - val_loss: 0.1828\n",
      "Epoch 80/100\n",
      "43/43 [==============================] - 0s 2ms/step - loss: 0.0987 - val_loss: 0.1714\n",
      "Epoch 81/100\n",
      "43/43 [==============================] - 0s 2ms/step - loss: 0.0885 - val_loss: 0.1944\n",
      "Epoch 82/100\n",
      "43/43 [==============================] - 0s 2ms/step - loss: 0.0895 - val_loss: 0.1863\n",
      "Epoch 83/100\n",
      "43/43 [==============================] - 0s 2ms/step - loss: 0.0999 - val_loss: 0.1771\n",
      "Epoch 84/100\n",
      "43/43 [==============================] - 0s 2ms/step - loss: 0.0905 - val_loss: 0.1880\n",
      "Epoch 85/100\n",
      "43/43 [==============================] - 0s 2ms/step - loss: 0.0914 - val_loss: 0.1895\n",
      "Epoch 86/100\n",
      "43/43 [==============================] - 0s 2ms/step - loss: 0.0885 - val_loss: 0.1811\n",
      "Epoch 87/100\n",
      "43/43 [==============================] - 0s 2ms/step - loss: 0.0955 - val_loss: 0.1898\n",
      "Epoch 88/100\n",
      "43/43 [==============================] - 0s 2ms/step - loss: 0.0844 - val_loss: 0.1799\n",
      "Epoch 89/100\n",
      "43/43 [==============================] - 0s 2ms/step - loss: 0.0790 - val_loss: 0.1834\n",
      "Epoch 90/100\n",
      "43/43 [==============================] - 0s 2ms/step - loss: 0.0875 - val_loss: 0.1893\n",
      "Epoch 91/100\n",
      "43/43 [==============================] - 0s 2ms/step - loss: 0.0821 - val_loss: 0.1786\n",
      "Epoch 92/100\n",
      "43/43 [==============================] - 0s 2ms/step - loss: 0.0790 - val_loss: 0.1754\n",
      "Epoch 93/100\n",
      "43/43 [==============================] - 0s 2ms/step - loss: 0.0758 - val_loss: 0.1708\n",
      "Epoch 94/100\n",
      "43/43 [==============================] - 0s 2ms/step - loss: 0.0782 - val_loss: 0.1814\n",
      "Epoch 95/100\n",
      "43/43 [==============================] - 0s 2ms/step - loss: 0.0817 - val_loss: 0.1808\n",
      "Epoch 96/100\n",
      "43/43 [==============================] - 0s 2ms/step - loss: 0.0836 - val_loss: 0.1853\n",
      "Epoch 97/100\n",
      "43/43 [==============================] - 0s 2ms/step - loss: 0.0798 - val_loss: 0.1846\n",
      "Epoch 98/100\n",
      "43/43 [==============================] - 0s 2ms/step - loss: 0.0790 - val_loss: 0.1750\n",
      "Epoch 99/100\n",
      "43/43 [==============================] - 0s 2ms/step - loss: 0.0861 - val_loss: 0.1816\n",
      "Epoch 100/100\n",
      "43/43 [==============================] - 0s 2ms/step - loss: 0.0806 - val_loss: 0.1827\n"
     ]
    }
   ],
   "source": [
    "ANN_model.compile(optimizer='Adam', loss='mean_squared_error')\n",
    "\n",
    "epochs_hist = ANN_model.fit(X_train, y_train, epochs = 100, batch_size = 20, validation_split = 0.2)"
   ]
  },
  {
   "cell_type": "code",
   "execution_count": 140,
   "metadata": {},
   "outputs": [
    {
     "name": "stdout",
     "output_type": "stream",
     "text": [
      "9/9 [==============================] - 0s 2ms/step - loss: 0.1897\n",
      "Accuracy : 0.8103293776512146\n"
     ]
    }
   ],
   "source": [
    "result = ANN_model.evaluate(X_test, y_test)\n",
    "accuracy_ANN = 1 - result\n",
    "print(\"Accuracy : {}\".format(accuracy_ANN))"
   ]
  },
  {
   "cell_type": "code",
   "execution_count": 141,
   "metadata": {},
   "outputs": [
    {
     "data": {
      "text/plain": [
       "dict_keys(['loss', 'val_loss'])"
      ]
     },
     "execution_count": 141,
     "metadata": {},
     "output_type": "execute_result"
    }
   ],
   "source": [
    "epochs_hist.history.keys()"
   ]
  },
  {
   "cell_type": "code",
   "execution_count": 142,
   "metadata": {},
   "outputs": [
    {
     "data": {
      "text/plain": [
       "<matplotlib.legend.Legend at 0x7f92ccaa3a90>"
      ]
     },
     "execution_count": 142,
     "metadata": {},
     "output_type": "execute_result"
    },
    {
     "data": {
      "image/png": "[encoded data removed]",
      "text/plain": [
       "<Figure size 432x288 with 1 Axes>"
      ]
     },
     "metadata": {
      "needs_background": "light"
     },
     "output_type": "display_data"
    }
   ],
   "source": [
    "plt.plot(epochs_hist.history['loss'])\n",
    "plt.plot(epochs_hist.history['val_loss'])\n",
    "plt.title('Model Loss Progress During Training')\n",
    "plt.xlabel('Epoch')\n",
    "plt.ylabel('Training and Validation Loss')\n",
    "plt.legend(['Training Loss', 'Validation Loss'])"
   ]
  },
  {
   "cell_type": "code",
   "execution_count": 143,
   "metadata": {},
   "outputs": [
    {
     "data": {
      "text/plain": [
       "Text(0, 0.5, 'True Values')"
      ]
     },
     "execution_count": 143,
     "metadata": {},
     "output_type": "execute_result"
    },
    {
     "data": {
      "image/png": "[encoded data removed]",
      "text/plain": [
       "<Figure size 432x288 with 1 Axes>"
      ]
     },
     "metadata": {
      "needs_background": "light"
     },
     "output_type": "display_data"
    }
   ],
   "source": [
    "y_predict = ANN_model.predict(X_test)\n",
    "plt.plot(y_test, y_predict, \"^\", color = 'r')\n",
    "plt.xlabel('Model Predictions')\n",
    "plt.ylabel('True Values')\n"
   ]
  },
  {
   "cell_type": "code",
   "execution_count": 144,
   "metadata": {},
   "outputs": [],
   "source": [
    "y_predict_orig = scaler_y.inverse_transform(y_predict)\n",
    "y_test_orig = scaler_y.inverse_transform(y_test)"
   ]
  },
  {
   "cell_type": "code",
   "execution_count": 145,
   "metadata": {},
   "outputs": [
    {
     "data": {
      "text/plain": [
       "Text(0, 0.5, 'True Values')"
      ]
     },
     "execution_count": 145,
     "metadata": {},
     "output_type": "execute_result"
    },
    {
     "data": {
      "image/png": "[encoded data removed]",
      "text/plain": [
       "<Figure size 432x288 with 1 Axes>"
      ]
     },
     "metadata": {
      "needs_background": "light"
     },
     "output_type": "display_data"
    }
   ],
   "source": [
    "plt.plot(y_test_orig, y_predict_orig, \"^\", color = 'r')\n",
    "plt.xlabel('Model Predictions')\n",
    "plt.ylabel('True Values')\n"
   ]
  },
  {
   "cell_type": "code",
   "execution_count": 146,
   "metadata": {},
   "outputs": [
    {
     "name": "stdout",
     "output_type": "stream",
     "text": [
      "RMSE = 5272.083 \n",
      "MSE = 27794852.0 \n",
      "MAE = 3076.1357 \n",
      "R2 = 0.8024797107244406 \n",
      "Adjusted R2 = 0.7963786979282843\n"
     ]
    }
   ],
   "source": [
    "k = X_test.shape[1]\n",
    "n = len(X_test)\n",
    "n\n",
    "\n",
    "from sklearn.metrics import r2_score, mean_squared_error, mean_absolute_error\n",
    "from math import sqrt\n",
    "\n",
    "RMSE = float(format(np.sqrt(mean_squared_error(y_test_orig, y_predict_orig)),'.3f'))\n",
    "MSE = mean_squared_error(y_test_orig, y_predict_orig)\n",
    "MAE = mean_absolute_error(y_test_orig, y_predict_orig)\n",
    "r2 = r2_score(y_test_orig, y_predict_orig)\n",
    "adj_r2 = 1-(1-r2)*(n-1)/(n-k-1)\n",
    "\n",
    "print('RMSE =',RMSE, '\\nMSE =',MSE, '\\nMAE =',MAE, '\\nR2 =', r2, '\\nAdjusted R2 =', adj_r2) "
   ]
  },
  {
   "cell_type": "markdown",
   "metadata": {},
   "source": [
    "MINI CHALLENGE\n",
    "- Experiment with a deeper network with more neurons in the hidden layer\n",
    "- Experiment with no regularization (dropout)"
   ]
  },
  {
   "cell_type": "markdown",
   "metadata": {},
   "source": [
    "By increasing the neurons and dropping out, the model gets worse. Just adding more neurons does not make the model better. More neurons could lead to overfitting and not being able to generalize"
   ]
  },
  {
   "cell_type": "markdown",
   "metadata": {},
   "source": [
    "# EXCELLENT JOB!"
   ]
  }
 ],
 "metadata": {
  "colab": {
   "collapsed_sections": [],
   "name": "Graduate_Admission_Prediction.ipynb",
   "provenance": [],
   "toc_visible": true
  },
  "instance_type": "ml.t3.medium",
  "kernelspec": {
   "display_name": "Python 3 (Data Science)",
   "language": "python",
   "name": "python3__SAGEMAKER_INTERNAL__arn:aws:sagemaker:us-east-2:429704687514:image/datascience-1.0"
  },
  "language_info": {
   "codemirror_mode": {
    "name": "ipython",
    "version": 3
   },
   "file_extension": ".py",
   "mimetype": "text/x-python",
   "name": "python",
   "nbconvert_exporter": "python",
   "pygments_lexer": "ipython3",
   "version": "3.7.6"
  }
 },
 "nbformat": 4,
 "nbformat_minor": 4
}
